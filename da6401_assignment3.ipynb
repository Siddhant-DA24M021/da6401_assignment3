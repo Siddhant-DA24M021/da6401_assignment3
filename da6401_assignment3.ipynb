{
  "cells": [
    {
      "cell_type": "code",
      "execution_count": null,
      "id": "6862e6ca",
      "metadata": {
        "execution": {
          "iopub.execute_input": "2025-05-14T06:22:47.454533Z",
          "iopub.status.busy": "2025-05-14T06:22:47.453958Z",
          "iopub.status.idle": "2025-05-14T06:23:01.205923Z",
          "shell.execute_reply": "2025-05-14T06:23:01.205319Z"
        },
        "id": "6862e6ca",
        "papermill": {
          "duration": 13.758553,
          "end_time": "2025-05-14T06:23:01.207355",
          "exception": false,
          "start_time": "2025-05-14T06:22:47.448802",
          "status": "completed"
        },
        "tags": []
      },
      "outputs": [],
      "source": [
        "import torch\n",
        "import torch.nn as nn\n",
        "import torch.nn.functional as F\n",
        "import torch.optim as optim\n",
        "from torch.utils.data import Dataset, DataLoader\n",
        "from torch.nn.utils.rnn import pad_sequence\n",
        "import numpy as np\n",
        "import pandas as pd\n",
        "import random\n",
        "import wandb\n",
        "from tqdm import tqdm"
      ]
    },
    {
      "cell_type": "code",
      "execution_count": null,
      "id": "db365bbe",
      "metadata": {
        "execution": {
          "iopub.execute_input": "2025-05-14T06:23:01.217391Z",
          "iopub.status.busy": "2025-05-14T06:23:01.216692Z",
          "iopub.status.idle": "2025-05-14T06:23:01.272907Z",
          "shell.execute_reply": "2025-05-14T06:23:01.272203Z"
        },
        "id": "db365bbe",
        "outputId": "7bc77970-ea8d-4f8f-c26c-7013b1e785b2",
        "papermill": {
          "duration": 0.062614,
          "end_time": "2025-05-14T06:23:01.274039",
          "exception": false,
          "start_time": "2025-05-14T06:23:01.211425",
          "status": "completed"
        },
        "tags": [],
        "colab": {
          "base_uri": "https://localhost:8080/"
        }
      },
      "outputs": [
        {
          "output_type": "execute_result",
          "data": {
            "text/plain": [
              "device(type='cuda')"
            ]
          },
          "metadata": {},
          "execution_count": 2
        }
      ],
      "source": [
        "device = torch.device(\"cuda\" if torch.cuda.is_available() else \"cpu\")\n",
        "device"
      ]
    },
    {
      "cell_type": "code",
      "execution_count": null,
      "id": "9ea44e69",
      "metadata": {
        "execution": {
          "iopub.execute_input": "2025-05-14T06:23:01.281868Z",
          "iopub.status.busy": "2025-05-14T06:23:01.281636Z",
          "iopub.status.idle": "2025-05-14T06:23:01.941076Z",
          "shell.execute_reply": "2025-05-14T06:23:01.940286Z"
        },
        "papermill": {
          "duration": 0.664727,
          "end_time": "2025-05-14T06:23:01.942299",
          "exception": false,
          "start_time": "2025-05-14T06:23:01.277572",
          "status": "completed"
        },
        "tags": [],
        "id": "9ea44e69",
        "outputId": "c17fd527-c7a0-487f-fd8c-17d5593f2278"
      },
      "outputs": [
        {
          "name": "stderr",
          "output_type": "stream",
          "text": [
            "\u001b[34m\u001b[1mwandb\u001b[0m: Using wandb-core as the SDK backend.  Please refer to https://wandb.me/wandb-core for more information.\n",
            "\u001b[34m\u001b[1mwandb\u001b[0m: \u001b[33mWARNING\u001b[0m If you're specifying your api key in code, ensure this code is not shared publicly.\n",
            "\u001b[34m\u001b[1mwandb\u001b[0m: \u001b[33mWARNING\u001b[0m Consider setting the WANDB_API_KEY environment variable, or running `wandb login` from the command line.\n",
            "\u001b[34m\u001b[1mwandb\u001b[0m: No netrc file found, creating one.\n",
            "\u001b[34m\u001b[1mwandb\u001b[0m: Appending key for api.wandb.ai to your netrc file: /root/.netrc\n",
            "\u001b[34m\u001b[1mwandb\u001b[0m: Currently logged in as: \u001b[33mda24m021\u001b[0m (\u001b[33mda24m021-indian-institute-of-technology-madras\u001b[0m) to \u001b[32mhttps://api.wandb.ai\u001b[0m. Use \u001b[1m`wandb login --relogin`\u001b[0m to force relogin\n"
          ]
        },
        {
          "data": {
            "text/plain": [
              "True"
            ]
          },
          "execution_count": 3,
          "metadata": {},
          "output_type": "execute_result"
        }
      ],
      "source": [
        "from kaggle_secrets import UserSecretsClient\n",
        "user_secrets = UserSecretsClient()\n",
        "secret_value_0 = user_secrets.get_secret(\"WANDB_API_KEY\")\n",
        "\n",
        "wandb_api_key = secret_value_0 #os.getenv(\"WANDB_API_KEY\")\n",
        "wandb.login(key=wandb_api_key)\n"
      ]
    },
    {
      "cell_type": "markdown",
      "id": "ef179795",
      "metadata": {
        "id": "ef179795",
        "papermill": {
          "duration": 0.003879,
          "end_time": "2025-05-14T06:23:01.950700",
          "exception": false,
          "start_time": "2025-05-14T06:23:01.946821",
          "status": "completed"
        },
        "tags": []
      },
      "source": [
        "### Prepare Data"
      ]
    },
    {
      "cell_type": "code",
      "execution_count": null,
      "id": "7282957d",
      "metadata": {
        "execution": {
          "iopub.execute_input": "2025-05-14T06:23:01.959137Z",
          "iopub.status.busy": "2025-05-14T06:23:01.958925Z",
          "iopub.status.idle": "2025-05-14T06:23:01.962196Z",
          "shell.execute_reply": "2025-05-14T06:23:01.961694Z"
        },
        "id": "7282957d",
        "papermill": {
          "duration": 0.008658,
          "end_time": "2025-05-14T06:23:01.963233",
          "exception": false,
          "start_time": "2025-05-14T06:23:01.954575",
          "status": "completed"
        },
        "tags": []
      },
      "outputs": [],
      "source": [
        "# My PC :- Used for initial experiments\n",
        "TRAIN_FilePath = 'dakshina_dataset_v1.0/hi/lexicons/hi.translit.sampled.train.tsv'\n",
        "DEV_FilePath = 'dakshina_dataset_v1.0/hi/lexicons/hi.translit.sampled.dev.tsv'\n",
        "TEST_FilePath = 'dakshina_dataset_v1.0/hi/lexicons/hi.translit.sampled.test.tsv'"
      ]
    },
    {
      "cell_type": "code",
      "source": [
        "# COLAB :- Used to check if code if gpu supporting and further coding\n",
        "from google.colab import drive\n",
        "drive.mount('/content/drive')\n",
        "TRAIN_FilePath = '/content/drive/My Drive/hi/lexicons/hi.translit.sampled.train.tsv'\n",
        "DEV_FilePath = '/content/drive/My Drive/hi/lexicons/hi.translit.sampled.dev.tsv'\n",
        "TEST_FilePath = '/content/drive/My Drive/hi/lexicons/hi.translit.sampled.test.tsv'"
      ],
      "metadata": {
        "colab": {
          "base_uri": "https://localhost:8080/"
        },
        "id": "-o4yyf0ZCv6_",
        "outputId": "0a8c39b3-3c4f-40b5-fb05-8226d68bff32"
      },
      "id": "-o4yyf0ZCv6_",
      "execution_count": null,
      "outputs": [
        {
          "output_type": "stream",
          "name": "stdout",
          "text": [
            "Mounted at /content/drive\n"
          ]
        }
      ]
    },
    {
      "cell_type": "code",
      "execution_count": null,
      "id": "0f870962",
      "metadata": {
        "execution": {
          "iopub.execute_input": "2025-05-14T06:23:01.971357Z",
          "iopub.status.busy": "2025-05-14T06:23:01.971165Z",
          "iopub.status.idle": "2025-05-14T06:23:01.974347Z",
          "shell.execute_reply": "2025-05-14T06:23:01.973824Z"
        },
        "id": "0f870962",
        "papermill": {
          "duration": 0.008659,
          "end_time": "2025-05-14T06:23:01.975505",
          "exception": false,
          "start_time": "2025-05-14T06:23:01.966846",
          "status": "completed"
        },
        "tags": []
      },
      "outputs": [],
      "source": [
        "# KAGGLE :- Used for hyperparameter tuning\n",
        "TRAIN_FilePath = \"/kaggle/input/dakshinahindi/hi/lexicons/hi.translit.sampled.train.tsv\"\n",
        "DEV_FilePath = \"/kaggle/input/dakshinahindi/hi/lexicons/hi.translit.sampled.dev.tsv\"\n",
        "TEST_FilePath = \"/kaggle/input/dakshinahindi/hi/lexicons/hi.translit.sampled.test.tsv\""
      ]
    },
    {
      "cell_type": "markdown",
      "source": [
        "## Data Loading and Preprocessing"
      ],
      "metadata": {
        "id": "ddt9nJeFDR8S"
      },
      "id": "ddt9nJeFDR8S"
    },
    {
      "cell_type": "code",
      "execution_count": null,
      "id": "a694045c",
      "metadata": {
        "execution": {
          "iopub.execute_input": "2025-05-14T06:23:01.984624Z",
          "iopub.status.busy": "2025-05-14T06:23:01.984021Z",
          "iopub.status.idle": "2025-05-14T06:23:02.102994Z",
          "shell.execute_reply": "2025-05-14T06:23:02.102174Z"
        },
        "id": "a694045c",
        "outputId": "91bf10f2-7291-4b96-9ebf-a11b3bf2c512",
        "papermill": {
          "duration": 0.124762,
          "end_time": "2025-05-14T06:23:02.104297",
          "exception": false,
          "start_time": "2025-05-14T06:23:01.979535",
          "status": "completed"
        },
        "tags": [],
        "colab": {
          "base_uri": "https://localhost:8080/"
        }
      },
      "outputs": [
        {
          "output_type": "stream",
          "name": "stdout",
          "text": [
            "Train Dataset Size : 44204\n",
            "Dev Dataset Size   : 4358\n",
            "Test Dataset Size  : 4502\n"
          ]
        }
      ],
      "source": [
        "# Load train, dev and test datasets\n",
        "train_df = pd.read_csv(TRAIN_FilePath, sep='\\t', header=None)\n",
        "dev_df = pd.read_csv(DEV_FilePath, sep='\\t', header=None)\n",
        "test_df = pd.read_csv(TEST_FilePath, sep='\\t', header=None)\n",
        "\n",
        "\n",
        "# Renaming the columns\n",
        "train_df.columns = ['devanagari', 'latin', 'frequency']\n",
        "dev_df.columns = ['devanagari', 'latin', 'frequency']\n",
        "test_df.columns = ['devanagari', 'latin', 'frequency']\n",
        "\n",
        "# Dataset Sizes\n",
        "print(f\"Train Dataset Size : {train_df.shape[0]}\\nDev Dataset Size   : {dev_df.shape[0]}\\nTest Dataset Size  : {test_df.shape[0]}\")"
      ]
    },
    {
      "cell_type": "code",
      "execution_count": null,
      "id": "8b2cb062",
      "metadata": {
        "execution": {
          "iopub.execute_input": "2025-05-14T06:23:02.113803Z",
          "iopub.status.busy": "2025-05-14T06:23:02.113576Z",
          "iopub.status.idle": "2025-05-14T06:23:02.132876Z",
          "shell.execute_reply": "2025-05-14T06:23:02.132299Z"
        },
        "id": "8b2cb062",
        "outputId": "480d1ffb-e49a-40b9-bb15-1360e69ca4ff",
        "papermill": {
          "duration": 0.025265,
          "end_time": "2025-05-14T06:23:02.134100",
          "exception": false,
          "start_time": "2025-05-14T06:23:02.108835",
          "status": "completed"
        },
        "tags": [],
        "colab": {
          "base_uri": "https://localhost:8080/",
          "height": 206
        }
      },
      "outputs": [
        {
          "output_type": "execute_result",
          "data": {
            "text/plain": [
              "  devanagari     latin  frequency\n",
              "0         अं        an          3\n",
              "1    अंकगणित  ankganit          3\n",
              "2       अंकल     uncle          4\n",
              "3      अंकुर     ankur          4\n",
              "4     अंकुरण   ankuran          3"
            ],
            "text/html": [
              "\n",
              "  <div id=\"df-c4f98e4b-4b61-40d6-89c3-8bbe5e88574c\" class=\"colab-df-container\">\n",
              "    <div>\n",
              "<style scoped>\n",
              "    .dataframe tbody tr th:only-of-type {\n",
              "        vertical-align: middle;\n",
              "    }\n",
              "\n",
              "    .dataframe tbody tr th {\n",
              "        vertical-align: top;\n",
              "    }\n",
              "\n",
              "    .dataframe thead th {\n",
              "        text-align: right;\n",
              "    }\n",
              "</style>\n",
              "<table border=\"1\" class=\"dataframe\">\n",
              "  <thead>\n",
              "    <tr style=\"text-align: right;\">\n",
              "      <th></th>\n",
              "      <th>devanagari</th>\n",
              "      <th>latin</th>\n",
              "      <th>frequency</th>\n",
              "    </tr>\n",
              "  </thead>\n",
              "  <tbody>\n",
              "    <tr>\n",
              "      <th>0</th>\n",
              "      <td>अं</td>\n",
              "      <td>an</td>\n",
              "      <td>3</td>\n",
              "    </tr>\n",
              "    <tr>\n",
              "      <th>1</th>\n",
              "      <td>अंकगणित</td>\n",
              "      <td>ankganit</td>\n",
              "      <td>3</td>\n",
              "    </tr>\n",
              "    <tr>\n",
              "      <th>2</th>\n",
              "      <td>अंकल</td>\n",
              "      <td>uncle</td>\n",
              "      <td>4</td>\n",
              "    </tr>\n",
              "    <tr>\n",
              "      <th>3</th>\n",
              "      <td>अंकुर</td>\n",
              "      <td>ankur</td>\n",
              "      <td>4</td>\n",
              "    </tr>\n",
              "    <tr>\n",
              "      <th>4</th>\n",
              "      <td>अंकुरण</td>\n",
              "      <td>ankuran</td>\n",
              "      <td>3</td>\n",
              "    </tr>\n",
              "  </tbody>\n",
              "</table>\n",
              "</div>\n",
              "    <div class=\"colab-df-buttons\">\n",
              "\n",
              "  <div class=\"colab-df-container\">\n",
              "    <button class=\"colab-df-convert\" onclick=\"convertToInteractive('df-c4f98e4b-4b61-40d6-89c3-8bbe5e88574c')\"\n",
              "            title=\"Convert this dataframe to an interactive table.\"\n",
              "            style=\"display:none;\">\n",
              "\n",
              "  <svg xmlns=\"http://www.w3.org/2000/svg\" height=\"24px\" viewBox=\"0 -960 960 960\">\n",
              "    <path d=\"M120-120v-720h720v720H120Zm60-500h600v-160H180v160Zm220 220h160v-160H400v160Zm0 220h160v-160H400v160ZM180-400h160v-160H180v160Zm440 0h160v-160H620v160ZM180-180h160v-160H180v160Zm440 0h160v-160H620v160Z\"/>\n",
              "  </svg>\n",
              "    </button>\n",
              "\n",
              "  <style>\n",
              "    .colab-df-container {\n",
              "      display:flex;\n",
              "      gap: 12px;\n",
              "    }\n",
              "\n",
              "    .colab-df-convert {\n",
              "      background-color: #E8F0FE;\n",
              "      border: none;\n",
              "      border-radius: 50%;\n",
              "      cursor: pointer;\n",
              "      display: none;\n",
              "      fill: #1967D2;\n",
              "      height: 32px;\n",
              "      padding: 0 0 0 0;\n",
              "      width: 32px;\n",
              "    }\n",
              "\n",
              "    .colab-df-convert:hover {\n",
              "      background-color: #E2EBFA;\n",
              "      box-shadow: 0px 1px 2px rgba(60, 64, 67, 0.3), 0px 1px 3px 1px rgba(60, 64, 67, 0.15);\n",
              "      fill: #174EA6;\n",
              "    }\n",
              "\n",
              "    .colab-df-buttons div {\n",
              "      margin-bottom: 4px;\n",
              "    }\n",
              "\n",
              "    [theme=dark] .colab-df-convert {\n",
              "      background-color: #3B4455;\n",
              "      fill: #D2E3FC;\n",
              "    }\n",
              "\n",
              "    [theme=dark] .colab-df-convert:hover {\n",
              "      background-color: #434B5C;\n",
              "      box-shadow: 0px 1px 3px 1px rgba(0, 0, 0, 0.15);\n",
              "      filter: drop-shadow(0px 1px 2px rgba(0, 0, 0, 0.3));\n",
              "      fill: #FFFFFF;\n",
              "    }\n",
              "  </style>\n",
              "\n",
              "    <script>\n",
              "      const buttonEl =\n",
              "        document.querySelector('#df-c4f98e4b-4b61-40d6-89c3-8bbe5e88574c button.colab-df-convert');\n",
              "      buttonEl.style.display =\n",
              "        google.colab.kernel.accessAllowed ? 'block' : 'none';\n",
              "\n",
              "      async function convertToInteractive(key) {\n",
              "        const element = document.querySelector('#df-c4f98e4b-4b61-40d6-89c3-8bbe5e88574c');\n",
              "        const dataTable =\n",
              "          await google.colab.kernel.invokeFunction('convertToInteractive',\n",
              "                                                    [key], {});\n",
              "        if (!dataTable) return;\n",
              "\n",
              "        const docLinkHtml = 'Like what you see? Visit the ' +\n",
              "          '<a target=\"_blank\" href=https://colab.research.google.com/notebooks/data_table.ipynb>data table notebook</a>'\n",
              "          + ' to learn more about interactive tables.';\n",
              "        element.innerHTML = '';\n",
              "        dataTable['output_type'] = 'display_data';\n",
              "        await google.colab.output.renderOutput(dataTable, element);\n",
              "        const docLink = document.createElement('div');\n",
              "        docLink.innerHTML = docLinkHtml;\n",
              "        element.appendChild(docLink);\n",
              "      }\n",
              "    </script>\n",
              "  </div>\n",
              "\n",
              "\n",
              "    <div id=\"df-3d9ef24c-53cb-428e-9745-060e4f18684c\">\n",
              "      <button class=\"colab-df-quickchart\" onclick=\"quickchart('df-3d9ef24c-53cb-428e-9745-060e4f18684c')\"\n",
              "                title=\"Suggest charts\"\n",
              "                style=\"display:none;\">\n",
              "\n",
              "<svg xmlns=\"http://www.w3.org/2000/svg\" height=\"24px\"viewBox=\"0 0 24 24\"\n",
              "     width=\"24px\">\n",
              "    <g>\n",
              "        <path d=\"M19 3H5c-1.1 0-2 .9-2 2v14c0 1.1.9 2 2 2h14c1.1 0 2-.9 2-2V5c0-1.1-.9-2-2-2zM9 17H7v-7h2v7zm4 0h-2V7h2v10zm4 0h-2v-4h2v4z\"/>\n",
              "    </g>\n",
              "</svg>\n",
              "      </button>\n",
              "\n",
              "<style>\n",
              "  .colab-df-quickchart {\n",
              "      --bg-color: #E8F0FE;\n",
              "      --fill-color: #1967D2;\n",
              "      --hover-bg-color: #E2EBFA;\n",
              "      --hover-fill-color: #174EA6;\n",
              "      --disabled-fill-color: #AAA;\n",
              "      --disabled-bg-color: #DDD;\n",
              "  }\n",
              "\n",
              "  [theme=dark] .colab-df-quickchart {\n",
              "      --bg-color: #3B4455;\n",
              "      --fill-color: #D2E3FC;\n",
              "      --hover-bg-color: #434B5C;\n",
              "      --hover-fill-color: #FFFFFF;\n",
              "      --disabled-bg-color: #3B4455;\n",
              "      --disabled-fill-color: #666;\n",
              "  }\n",
              "\n",
              "  .colab-df-quickchart {\n",
              "    background-color: var(--bg-color);\n",
              "    border: none;\n",
              "    border-radius: 50%;\n",
              "    cursor: pointer;\n",
              "    display: none;\n",
              "    fill: var(--fill-color);\n",
              "    height: 32px;\n",
              "    padding: 0;\n",
              "    width: 32px;\n",
              "  }\n",
              "\n",
              "  .colab-df-quickchart:hover {\n",
              "    background-color: var(--hover-bg-color);\n",
              "    box-shadow: 0 1px 2px rgba(60, 64, 67, 0.3), 0 1px 3px 1px rgba(60, 64, 67, 0.15);\n",
              "    fill: var(--button-hover-fill-color);\n",
              "  }\n",
              "\n",
              "  .colab-df-quickchart-complete:disabled,\n",
              "  .colab-df-quickchart-complete:disabled:hover {\n",
              "    background-color: var(--disabled-bg-color);\n",
              "    fill: var(--disabled-fill-color);\n",
              "    box-shadow: none;\n",
              "  }\n",
              "\n",
              "  .colab-df-spinner {\n",
              "    border: 2px solid var(--fill-color);\n",
              "    border-color: transparent;\n",
              "    border-bottom-color: var(--fill-color);\n",
              "    animation:\n",
              "      spin 1s steps(1) infinite;\n",
              "  }\n",
              "\n",
              "  @keyframes spin {\n",
              "    0% {\n",
              "      border-color: transparent;\n",
              "      border-bottom-color: var(--fill-color);\n",
              "      border-left-color: var(--fill-color);\n",
              "    }\n",
              "    20% {\n",
              "      border-color: transparent;\n",
              "      border-left-color: var(--fill-color);\n",
              "      border-top-color: var(--fill-color);\n",
              "    }\n",
              "    30% {\n",
              "      border-color: transparent;\n",
              "      border-left-color: var(--fill-color);\n",
              "      border-top-color: var(--fill-color);\n",
              "      border-right-color: var(--fill-color);\n",
              "    }\n",
              "    40% {\n",
              "      border-color: transparent;\n",
              "      border-right-color: var(--fill-color);\n",
              "      border-top-color: var(--fill-color);\n",
              "    }\n",
              "    60% {\n",
              "      border-color: transparent;\n",
              "      border-right-color: var(--fill-color);\n",
              "    }\n",
              "    80% {\n",
              "      border-color: transparent;\n",
              "      border-right-color: var(--fill-color);\n",
              "      border-bottom-color: var(--fill-color);\n",
              "    }\n",
              "    90% {\n",
              "      border-color: transparent;\n",
              "      border-bottom-color: var(--fill-color);\n",
              "    }\n",
              "  }\n",
              "</style>\n",
              "\n",
              "      <script>\n",
              "        async function quickchart(key) {\n",
              "          const quickchartButtonEl =\n",
              "            document.querySelector('#' + key + ' button');\n",
              "          quickchartButtonEl.disabled = true;  // To prevent multiple clicks.\n",
              "          quickchartButtonEl.classList.add('colab-df-spinner');\n",
              "          try {\n",
              "            const charts = await google.colab.kernel.invokeFunction(\n",
              "                'suggestCharts', [key], {});\n",
              "          } catch (error) {\n",
              "            console.error('Error during call to suggestCharts:', error);\n",
              "          }\n",
              "          quickchartButtonEl.classList.remove('colab-df-spinner');\n",
              "          quickchartButtonEl.classList.add('colab-df-quickchart-complete');\n",
              "        }\n",
              "        (() => {\n",
              "          let quickchartButtonEl =\n",
              "            document.querySelector('#df-3d9ef24c-53cb-428e-9745-060e4f18684c button');\n",
              "          quickchartButtonEl.style.display =\n",
              "            google.colab.kernel.accessAllowed ? 'block' : 'none';\n",
              "        })();\n",
              "      </script>\n",
              "    </div>\n",
              "\n",
              "    </div>\n",
              "  </div>\n"
            ],
            "application/vnd.google.colaboratory.intrinsic+json": {
              "type": "dataframe",
              "variable_name": "train_df",
              "summary": "{\n  \"name\": \"train_df\",\n  \"rows\": 44204,\n  \"fields\": [\n    {\n      \"column\": \"devanagari\",\n      \"properties\": {\n        \"dtype\": \"string\",\n        \"num_unique_values\": 25000,\n        \"samples\": [\n          \"\\u091a\\u093e\\u0902\\u092a\\u093e\",\n          \"\\u0938\\u094d\\u091f\\u0949\\u0915\\u0939\\u094b\\u092e\",\n          \"\\u0924\\u093e\\u0932\\u093e\\u092c\"\n        ],\n        \"semantic_type\": \"\",\n        \"description\": \"\"\n      }\n    },\n    {\n      \"column\": \"latin\",\n      \"properties\": {\n        \"dtype\": \"string\",\n        \"num_unique_values\": 41344,\n        \"samples\": [\n          \"nishanebaazi\",\n          \"champu\",\n          \"bhej\"\n        ],\n        \"semantic_type\": \"\",\n        \"description\": \"\"\n      }\n    },\n    {\n      \"column\": \"frequency\",\n      \"properties\": {\n        \"dtype\": \"number\",\n        \"std\": 1,\n        \"min\": 1,\n        \"max\": 10,\n        \"num_unique_values\": 10,\n        \"samples\": [\n          10,\n          4,\n          6\n        ],\n        \"semantic_type\": \"\",\n        \"description\": \"\"\n      }\n    }\n  ]\n}"
            }
          },
          "metadata": {},
          "execution_count": 5
        }
      ],
      "source": [
        "train_df.head()"
      ]
    },
    {
      "cell_type": "code",
      "execution_count": null,
      "id": "4dcb9e23",
      "metadata": {
        "execution": {
          "iopub.execute_input": "2025-05-14T06:23:02.143379Z",
          "iopub.status.busy": "2025-05-14T06:23:02.143140Z",
          "iopub.status.idle": "2025-05-14T06:23:02.150239Z",
          "shell.execute_reply": "2025-05-14T06:23:02.149726Z"
        },
        "id": "4dcb9e23",
        "papermill": {
          "duration": 0.012886,
          "end_time": "2025-05-14T06:23:02.151203",
          "exception": false,
          "start_time": "2025-05-14T06:23:02.138317",
          "status": "completed"
        },
        "tags": []
      },
      "outputs": [],
      "source": [
        "class Vocabulary:\n",
        "    def __init__(self):\n",
        "        self.pad_token = \"<pad>\"\n",
        "        self.sos_token = \"<sos>\"\n",
        "        self.eos_token = \"<eos>\"\n",
        "        self.unk_token = \"<unk>\"\n",
        "\n",
        "        # Initialize mappings\n",
        "        self.char2idx = {self.pad_token: 0, self.sos_token: 1, self.eos_token: 2, self.unk_token: 3}\n",
        "        self.idx2char = {0: self.pad_token, 1: self.sos_token, 2: self.eos_token, 3: self.unk_token}\n",
        "        self.vocab_size = 4\n",
        "\n",
        "    def build_vocabulary(self, text_data):\n",
        "        for text in text_data:\n",
        "            text = str(text)\n",
        "            for char in text:\n",
        "                if char not in self.char2idx:\n",
        "                    self.char2idx[char] = self.vocab_size\n",
        "                    self.idx2char[self.vocab_size] = char\n",
        "                    self.vocab_size += 1\n",
        "\n",
        "    def encode(self, text, add_special_tokens=True):\n",
        "        indices = []\n",
        "        text = str(text)\n",
        "        for char in text:\n",
        "            indices.append(self.char2idx.get(char, self.char2idx[self.unk_token]))\n",
        "\n",
        "        if add_special_tokens:\n",
        "            indices = [self.char2idx[self.sos_token]] + indices + [self.char2idx[self.eos_token]]\n",
        "\n",
        "        return indices\n",
        "\n",
        "    def decode(self, indices, remove_special_tokens=True):\n",
        "        chars = []\n",
        "        keys = list(self.idx2char.keys())\n",
        "        for idx in indices:\n",
        "            if isinstance(idx, torch.Tensor):\n",
        "                idx = idx.item()\n",
        "            if idx in keys:\n",
        "                char = self.idx2char[idx]\n",
        "                if remove_special_tokens and char in [self.pad_token, self.sos_token, self.eos_token, self.unk_token]:\n",
        "                    continue\n",
        "                chars.append(char)\n",
        "\n",
        "        return \"\".join(chars)\n"
      ]
    },
    {
      "cell_type": "code",
      "execution_count": null,
      "id": "f01c9400",
      "metadata": {
        "execution": {
          "iopub.execute_input": "2025-05-14T06:23:02.160183Z",
          "iopub.status.busy": "2025-05-14T06:23:02.160001Z",
          "iopub.status.idle": "2025-05-14T06:23:02.164893Z",
          "shell.execute_reply": "2025-05-14T06:23:02.164167Z"
        },
        "id": "f01c9400",
        "papermill": {
          "duration": 0.01062,
          "end_time": "2025-05-14T06:23:02.166005",
          "exception": false,
          "start_time": "2025-05-14T06:23:02.155385",
          "status": "completed"
        },
        "tags": []
      },
      "outputs": [],
      "source": [
        "class TransliterationDataset(Dataset):\n",
        "    def __init__(self, data_path, src_vocab, tgt_vocab):\n",
        "        df = pd.read_csv(data_path, sep='\\t', header=None)\n",
        "\n",
        "        # Create Dataset\n",
        "        self.source_sequences = []\n",
        "        self.target_sequences = []\n",
        "\n",
        "        for idx, row in df.iterrows():\n",
        "            x_seq = src_vocab.encode(row[1])\n",
        "            y_seq = tgt_vocab.encode(row[0])\n",
        "            self.source_sequences.append(x_seq)\n",
        "            self.target_sequences.append(y_seq)\n",
        "\n",
        "    def __len__(self):\n",
        "        return len(self.source_sequences)\n",
        "\n",
        "    def __getitem__(self, idx):\n",
        "        return torch.tensor(self.source_sequences[idx], dtype=torch.long), torch.tensor(self.target_sequences[idx], dtype=torch.long)\n"
      ]
    },
    {
      "cell_type": "code",
      "execution_count": null,
      "id": "45fc18f8",
      "metadata": {
        "execution": {
          "iopub.execute_input": "2025-05-14T06:23:02.174798Z",
          "iopub.status.busy": "2025-05-14T06:23:02.174585Z",
          "iopub.status.idle": "2025-05-14T06:23:02.178396Z",
          "shell.execute_reply": "2025-05-14T06:23:02.177768Z"
        },
        "id": "45fc18f8",
        "papermill": {
          "duration": 0.009436,
          "end_time": "2025-05-14T06:23:02.179541",
          "exception": false,
          "start_time": "2025-05-14T06:23:02.170105",
          "status": "completed"
        },
        "tags": []
      },
      "outputs": [],
      "source": [
        "def collate_fn(batch):\n",
        "    src_batch = [item[0] for item in batch]\n",
        "    tgt_batch = [item[1] for item in batch]\n",
        "\n",
        "    # Pad sequences\n",
        "    src_batch_padded = pad_sequence(src_batch, batch_first=True, padding_value=0)\n",
        "    tgt_batch_padded = pad_sequence(tgt_batch, batch_first=True, padding_value=0)\n",
        "\n",
        "    return src_batch_padded, tgt_batch_padded"
      ]
    },
    {
      "cell_type": "code",
      "execution_count": null,
      "id": "7c39e868",
      "metadata": {
        "execution": {
          "iopub.execute_input": "2025-05-14T06:23:02.188369Z",
          "iopub.status.busy": "2025-05-14T06:23:02.188194Z",
          "iopub.status.idle": "2025-05-14T06:23:03.927865Z",
          "shell.execute_reply": "2025-05-14T06:23:03.927051Z"
        },
        "id": "7c39e868",
        "papermill": {
          "duration": 1.745597,
          "end_time": "2025-05-14T06:23:03.929401",
          "exception": false,
          "start_time": "2025-05-14T06:23:02.183804",
          "status": "completed"
        },
        "tags": []
      },
      "outputs": [],
      "source": [
        "# Build Source and Target Vocabularies\n",
        "src_vocab = Vocabulary()\n",
        "tgt_vocab = Vocabulary()\n",
        "\n",
        "train_df = pd.read_csv(TRAIN_FilePath, sep='\\t', header=None)\n",
        "src_text = []\n",
        "tgt_text = []\n",
        "for idx, row in train_df.iterrows():\n",
        "    src_text.append(row[1])\n",
        "    tgt_text.append(row[0])\n",
        "\n",
        "src_vocab.build_vocabulary(src_text)\n",
        "tgt_vocab.build_vocabulary(tgt_text)"
      ]
    },
    {
      "cell_type": "code",
      "execution_count": null,
      "id": "15e651a8",
      "metadata": {
        "execution": {
          "iopub.execute_input": "2025-05-14T06:23:03.938803Z",
          "iopub.status.busy": "2025-05-14T06:23:03.938556Z",
          "iopub.status.idle": "2025-05-14T06:23:06.421195Z",
          "shell.execute_reply": "2025-05-14T06:23:06.420592Z"
        },
        "id": "15e651a8",
        "papermill": {
          "duration": 2.488719,
          "end_time": "2025-05-14T06:23:06.422567",
          "exception": false,
          "start_time": "2025-05-14T06:23:03.933848",
          "status": "completed"
        },
        "tags": []
      },
      "outputs": [],
      "source": [
        "# Train, Test and Dev (Validation) Dataset and Dataloaders\n",
        "train_dataset = TransliterationDataset(TRAIN_FilePath, src_vocab, tgt_vocab)\n",
        "train_loader = DataLoader(train_dataset, batch_size=32, shuffle=True, collate_fn=collate_fn)\n",
        "\n",
        "dev_dataset = TransliterationDataset(DEV_FilePath, src_vocab, tgt_vocab)\n",
        "dev_loader = DataLoader(dev_dataset, batch_size=32, shuffle=False, collate_fn=collate_fn)\n",
        "\n",
        "test_dataset = TransliterationDataset(TEST_FilePath, src_vocab, tgt_vocab)\n",
        "test_loader = DataLoader(test_dataset, batch_size=32, shuffle=False, collate_fn=collate_fn)\n"
      ]
    },
    {
      "cell_type": "code",
      "execution_count": null,
      "id": "52556cb0",
      "metadata": {
        "execution": {
          "iopub.execute_input": "2025-05-14T06:23:06.433581Z",
          "iopub.status.busy": "2025-05-14T06:23:06.433347Z",
          "iopub.status.idle": "2025-05-14T06:23:06.460857Z",
          "shell.execute_reply": "2025-05-14T06:23:06.460115Z"
        },
        "id": "52556cb0",
        "outputId": "ab75af37-cf89-495f-c189-99f1f68cf9cf",
        "papermill": {
          "duration": 0.034179,
          "end_time": "2025-05-14T06:23:06.461952",
          "exception": false,
          "start_time": "2025-05-14T06:23:06.427773",
          "status": "completed"
        },
        "tags": [],
        "colab": {
          "base_uri": "https://localhost:8080/"
        }
      },
      "outputs": [
        {
          "output_type": "stream",
          "name": "stdout",
          "text": [
            "Inputs shape: torch.Size([32, 17])\n",
            "Targets shape: torch.Size([32, 15])\n",
            "Sample input: tensor([ 1, 15, 16,  4, 15, 16,  8,  2,  0,  0,  0,  0,  0,  0,  0,  0,  0])\n",
            "Sample target: tensor([ 1, 14, 14,  9,  2,  0,  0,  0,  0,  0,  0,  0,  0,  0,  0])\n",
            "shashi\n",
            "शशि\n"
          ]
        }
      ],
      "source": [
        "# Inspect if dataloader is created as desired\n",
        "for batch in train_loader:\n",
        "    inputs, targets = batch\n",
        "\n",
        "    print(\"Inputs shape:\", inputs.shape)\n",
        "    print(\"Targets shape:\", targets.shape)\n",
        "\n",
        "    # Check one sample\n",
        "    print(\"Sample input:\", inputs[0])\n",
        "    print(\"Sample target:\", targets[0])\n",
        "    print(src_vocab.decode(inputs[0]))\n",
        "    print(tgt_vocab.decode(targets[0]))\n",
        "    break"
      ]
    },
    {
      "cell_type": "markdown",
      "id": "fa9dd93e",
      "metadata": {
        "id": "fa9dd93e",
        "papermill": {
          "duration": 0.00403,
          "end_time": "2025-05-14T06:23:06.470260",
          "exception": false,
          "start_time": "2025-05-14T06:23:06.466230",
          "status": "completed"
        },
        "tags": []
      },
      "source": [
        "## Model"
      ]
    },
    {
      "cell_type": "code",
      "execution_count": null,
      "id": "f83ec17a",
      "metadata": {
        "execution": {
          "iopub.execute_input": "2025-05-14T06:23:06.479179Z",
          "iopub.status.busy": "2025-05-14T06:23:06.478950Z",
          "iopub.status.idle": "2025-05-14T06:23:06.484987Z",
          "shell.execute_reply": "2025-05-14T06:23:06.484309Z"
        },
        "id": "f83ec17a",
        "papermill": {
          "duration": 0.011663,
          "end_time": "2025-05-14T06:23:06.485996",
          "exception": false,
          "start_time": "2025-05-14T06:23:06.474333",
          "status": "completed"
        },
        "tags": []
      },
      "outputs": [],
      "source": [
        "class Encoder(nn.Module):\n",
        "    def __init__(self, input_size, embedding_size, hidden_size, num_layers=1, cell_type=\"RNN\", dropout=0.0):\n",
        "        super().__init__()\n",
        "\n",
        "        if num_layers == 1:\n",
        "            dropout = 0\n",
        "\n",
        "        self.cell_type = cell_type\n",
        "\n",
        "        # Embedding Layer\n",
        "        self.embedding = nn.Embedding(input_size, embedding_size)\n",
        "\n",
        "        # Recurrent Layer\n",
        "        if cell_type == \"LSTM\":\n",
        "            self.recurrent_layer = nn.LSTM(embedding_size, hidden_size, num_layers, dropout=dropout, batch_first=True)\n",
        "        elif cell_type == \"GRU\":\n",
        "            self.recurrent_layer = nn.GRU(embedding_size, hidden_size, num_layers, dropout=dropout, batch_first=True)\n",
        "        else: # Default (RNN)\n",
        "            self.recurrent_layer = nn.RNN(embedding_size, hidden_size, num_layers, dropout=dropout, batch_first=True)\n",
        "\n",
        "        # Dropout layer\n",
        "        self.dropout = nn.Dropout(dropout)\n",
        "\n",
        "    def forward(self, input):\n",
        "        # input: batch_size x seq_len\n",
        "\n",
        "        embeddings = self.embedding(input) # (batch, seq_len, embedding_size)\n",
        "        embeddings = self.dropout(embeddings)\n",
        "\n",
        "        if self.cell_type == 'LSTM':\n",
        "            outputs, (hidden, cell) = self.recurrent_layer(embeddings)\n",
        "            return outputs, (hidden, cell)\n",
        "        else:\n",
        "            outputs, hidden = self.recurrent_layer(embeddings)\n",
        "            return outputs, hidden\n"
      ]
    },
    {
      "cell_type": "code",
      "execution_count": null,
      "id": "91907bce",
      "metadata": {
        "execution": {
          "iopub.execute_input": "2025-05-14T06:23:06.495172Z",
          "iopub.status.busy": "2025-05-14T06:23:06.494975Z",
          "iopub.status.idle": "2025-05-14T06:23:06.501208Z",
          "shell.execute_reply": "2025-05-14T06:23:06.500532Z"
        },
        "id": "91907bce",
        "papermill": {
          "duration": 0.012052,
          "end_time": "2025-05-14T06:23:06.502316",
          "exception": false,
          "start_time": "2025-05-14T06:23:06.490264",
          "status": "completed"
        },
        "tags": []
      },
      "outputs": [],
      "source": [
        "class Decoder(nn.Module):\n",
        "    def __init__(self, output_size, embedding_size, hidden_size, num_layers=1, cell_type=\"RNN\", dropout=0.0):\n",
        "        super().__init__()\n",
        "\n",
        "        if num_layers == 1:\n",
        "            dropout = 0\n",
        "\n",
        "        self.output_size = output_size\n",
        "        self.cell_type = cell_type\n",
        "\n",
        "        # Embedding Layer\n",
        "        self.embedding = nn.Embedding(output_size, embedding_size)\n",
        "\n",
        "        # Dropout layer\n",
        "        self.dropout = nn.Dropout(dropout)\n",
        "\n",
        "        # Recurrent Layer\n",
        "        if cell_type == \"LSTM\":\n",
        "            self.recurrent_layer = nn.LSTM(embedding_size, hidden_size, num_layers, dropout=dropout, batch_first=True)\n",
        "        elif cell_type == \"GRU\":\n",
        "            self.recurrent_layer = nn.GRU(embedding_size, hidden_size, num_layers, dropout=dropout, batch_first=True)\n",
        "        else: # Default (RNN)\n",
        "            self.recurrent_layer = nn.RNN(embedding_size, hidden_size, num_layers, dropout=dropout, batch_first=True)\n",
        "\n",
        "        # Output layer\n",
        "        self.fc_out = nn.Linear(hidden_size, output_size)\n",
        "\n",
        "    def forward(self, input, hidden):\n",
        "\n",
        "        input = input.unsqueeze(1)\n",
        "        embeddings = self.embedding(input)\n",
        "        embeddings = self.dropout(embeddings)\n",
        "\n",
        "        if self.cell_type == \"LSTM\":\n",
        "            hidden, cell = hidden\n",
        "            outputs, (hidden, cell) = self.recurrent_layer(embeddings, (hidden, cell))\n",
        "            hidden = (hidden, cell)\n",
        "        else:\n",
        "            outputs, hidden = self.recurrent_layer(embeddings, hidden)\n",
        "\n",
        "        outputs = outputs.squeeze(1)\n",
        "        prediction = self.fc_out(outputs)\n",
        "        return prediction, hidden\n"
      ]
    },
    {
      "cell_type": "code",
      "execution_count": null,
      "id": "366f78d2",
      "metadata": {
        "execution": {
          "iopub.execute_input": "2025-05-14T06:23:06.511554Z",
          "iopub.status.busy": "2025-05-14T06:23:06.511352Z",
          "iopub.status.idle": "2025-05-14T06:23:06.519600Z",
          "shell.execute_reply": "2025-05-14T06:23:06.518855Z"
        },
        "id": "366f78d2",
        "papermill": {
          "duration": 0.014223,
          "end_time": "2025-05-14T06:23:06.520725",
          "exception": false,
          "start_time": "2025-05-14T06:23:06.506502",
          "status": "completed"
        },
        "tags": []
      },
      "outputs": [],
      "source": [
        "class Seq2Seq(nn.Module):\n",
        "    def __init__(self, encoder, decoder, device):\n",
        "        super().__init__()\n",
        "        self.encoder = encoder\n",
        "        self.decoder = decoder\n",
        "        self.device = device\n",
        "\n",
        "    def forward(self, src, tgt, teacher_forcing_ratio=0.5):\n",
        "\n",
        "        batch_size = src.shape[0]\n",
        "        tgt_len = tgt.shape[1]\n",
        "        tgt_vocab_size = self.decoder.output_size\n",
        "\n",
        "        outputs = torch.zeros(batch_size, tgt_len, tgt_vocab_size).to(self.device)\n",
        "\n",
        "        if self.encoder.cell_type == 'LSTM':\n",
        "            encoder_outputs, (hidden, cell) = self.encoder(src)\n",
        "            decoder_hidden = (hidden, cell)\n",
        "        else:\n",
        "            encoder_outputs, hidden = self.encoder(src)\n",
        "            decoder_hidden = hidden\n",
        "\n",
        "        decoder_input = tgt[:, 0]\n",
        "        for t in range(1, tgt_len):\n",
        "            decoder_output, decoder_hidden = self.decoder(decoder_input, decoder_hidden)\n",
        "            #print(decoder_output.shape)\n",
        "            #break\n",
        "            outputs[:, t] = decoder_output\n",
        "            top = decoder_output.argmax(1)\n",
        "            decoder_input = tgt[:, t] if random.random() < teacher_forcing_ratio else top\n",
        "        return outputs\n",
        "\n",
        "\n",
        "    def inference(self, src, max_len, sos_idx=1, eos_idx=2):\n",
        "\n",
        "        batch_size = src.shape[0]\n",
        "        tgt_len = max_len\n",
        "        tgt_vocab_size = self.decoder.output_size\n",
        "        outputs = torch.zeros(batch_size, tgt_len, tgt_vocab_size).to(self.device)\n",
        "\n",
        "        if self.encoder.cell_type == 'LSTM':\n",
        "            encoder_outputs, (hidden, cell) = self.encoder(src)\n",
        "            decoder_hidden = (hidden, cell)\n",
        "        else:\n",
        "            encoder_outputs, hidden = self.encoder(src)\n",
        "            decoder_hidden = hidden\n",
        "\n",
        "        decoder_input = torch.tensor([sos_idx] * batch_size, device=self.device)\n",
        "        for t in range(1, max_len):\n",
        "            decoder_output, decoder_hidden = self.decoder(decoder_input, decoder_hidden)\n",
        "            outputs[:, t] = decoder_output\n",
        "            top = decoder_output.argmax(1)\n",
        "            decoder_input = top\n",
        "\n",
        "            # Check if all sequences have reached <eos>\n",
        "            if (outputs == eos_idx).any(dim=1).all():\n",
        "                break\n",
        "        return outputs"
      ]
    },
    {
      "cell_type": "markdown",
      "source": [
        "## Training and Evaluation"
      ],
      "metadata": {
        "id": "RF6x-HHaCsLc"
      },
      "id": "RF6x-HHaCsLc"
    },
    {
      "cell_type": "code",
      "execution_count": null,
      "id": "c9abfedf",
      "metadata": {
        "execution": {
          "iopub.execute_input": "2025-05-14T06:23:06.529802Z",
          "iopub.status.busy": "2025-05-14T06:23:06.529570Z",
          "iopub.status.idle": "2025-05-14T06:23:06.534721Z",
          "shell.execute_reply": "2025-05-14T06:23:06.534026Z"
        },
        "id": "c9abfedf",
        "papermill": {
          "duration": 0.010952,
          "end_time": "2025-05-14T06:23:06.535885",
          "exception": false,
          "start_time": "2025-05-14T06:23:06.524933",
          "status": "completed"
        },
        "tags": []
      },
      "outputs": [],
      "source": [
        "def train(model, train_loader, optimizer, criterion, clip=1.0, teacher_forcing_ratio=0.5):\n",
        "    model.train()\n",
        "    epoch_loss = 0\n",
        "\n",
        "    for i, (src, tgt) in enumerate(train_loader):\n",
        "        src = src.to(device)\n",
        "        tgt = tgt.to(device)\n",
        "        #print(\"tgt\", tgt)\n",
        "        optimizer.zero_grad()\n",
        "\n",
        "        output = model(src, tgt, teacher_forcing_ratio)\n",
        "        #print(\"output\", output)\n",
        "\n",
        "        # Reshape output and target for loss calculation\n",
        "        # output: [batch_size, tgt_len, output_dim]\n",
        "        # tgt: [batch_size, tgt_len]\n",
        "        output_dim = output.shape[-1]\n",
        "        output = output[:, 1:].reshape(-1, output_dim)  # Remove first token (SOS)\n",
        "        tgt = tgt[:, 1:].reshape(-1)  # Remove first token (SOS)\n",
        "        #print(\"tgt2\", tgt)\n",
        "        #print(\"output2\", output)\n",
        "        #break\n",
        "        # Calculate loss\n",
        "        loss = criterion(output, tgt)\n",
        "\n",
        "        # Backpropagation\n",
        "        loss.backward()\n",
        "\n",
        "        # Gradient clipping\n",
        "        torch.nn.utils.clip_grad_norm_(model.parameters(), clip)\n",
        "\n",
        "        # Update parameters\n",
        "        optimizer.step()\n",
        "\n",
        "        epoch_loss += loss.item()\n",
        "\n",
        "    return epoch_loss / len(train_loader)"
      ]
    },
    {
      "cell_type": "code",
      "execution_count": null,
      "id": "c5774eab",
      "metadata": {
        "execution": {
          "iopub.execute_input": "2025-05-14T06:23:06.545405Z",
          "iopub.status.busy": "2025-05-14T06:23:06.545234Z",
          "iopub.status.idle": "2025-05-14T06:23:06.550065Z",
          "shell.execute_reply": "2025-05-14T06:23:06.549342Z"
        },
        "id": "c5774eab",
        "papermill": {
          "duration": 0.010778,
          "end_time": "2025-05-14T06:23:06.551230",
          "exception": false,
          "start_time": "2025-05-14T06:23:06.540452",
          "status": "completed"
        },
        "tags": []
      },
      "outputs": [],
      "source": [
        "def evaluate(model, val_loader, criterion):\n",
        "    model.eval()\n",
        "    epoch_loss = 0\n",
        "\n",
        "    with torch.no_grad():\n",
        "        for i, (src, tgt) in enumerate(val_loader):\n",
        "            src = src.to(device)\n",
        "            tgt = tgt.to(device)\n",
        "\n",
        "            output = model.inference(src, tgt.shape[1])\n",
        "\n",
        "            # Reshape output and target for loss calculation\n",
        "            output_dim = output.shape[-1]\n",
        "            output = output[:, 1:].reshape(-1, output_dim)\n",
        "            tgt = tgt[:, 1:].reshape(-1)\n",
        "\n",
        "            # Calculate loss\n",
        "            loss = criterion(output, tgt)\n",
        "            epoch_loss += loss.item()\n",
        "\n",
        "    return epoch_loss / len(val_loader)"
      ]
    },
    {
      "cell_type": "code",
      "execution_count": null,
      "id": "1f1e2b4f",
      "metadata": {
        "execution": {
          "iopub.execute_input": "2025-05-14T06:23:06.560962Z",
          "iopub.status.busy": "2025-05-14T06:23:06.560357Z",
          "iopub.status.idle": "2025-05-14T06:23:06.566028Z",
          "shell.execute_reply": "2025-05-14T06:23:06.565495Z"
        },
        "id": "1f1e2b4f",
        "papermill": {
          "duration": 0.01163,
          "end_time": "2025-05-14T06:23:06.567029",
          "exception": false,
          "start_time": "2025-05-14T06:23:06.555399",
          "status": "completed"
        },
        "tags": []
      },
      "outputs": [],
      "source": [
        "def transliterate(model, src_text, src_vocab, tgt_vocab, device, max_length=100):\n",
        "    model.eval()\n",
        "\n",
        "    # Convert source text to tensor\n",
        "    src_indices = src_vocab.encode(src_text)\n",
        "    src_tensor = torch.tensor(src_indices, dtype=torch.long).unsqueeze(0).to(device)\n",
        "\n",
        "    # Get encoder outputs\n",
        "    with torch.no_grad():\n",
        "        if model.encoder.cell_type == 'LSTM':\n",
        "            encoder_outputs, (hidden, cell) = model.encoder(src_tensor)\n",
        "            decoder_hidden = (hidden, cell)\n",
        "        else:\n",
        "            encoder_outputs, hidden = model.encoder(src_tensor)\n",
        "            decoder_hidden = hidden\n",
        "\n",
        "    # Start with SOS token\n",
        "    decoder_input = torch.tensor([tgt_vocab.char2idx[tgt_vocab.sos_token]], device=device)\n",
        "\n",
        "    result_indices = [tgt_vocab.char2idx[tgt_vocab.sos_token]]\n",
        "\n",
        "    for _ in range(max_length):\n",
        "        with torch.no_grad():\n",
        "            decoder_output, decoder_hidden = model.decoder(decoder_input, decoder_hidden)\n",
        "\n",
        "        # Get the most likely next character\n",
        "        top_token = decoder_output.argmax(1).item()\n",
        "        result_indices.append(top_token)\n",
        "\n",
        "        # Stop if EOS token\n",
        "        if top_token == tgt_vocab.char2idx[tgt_vocab.eos_token]:\n",
        "            break\n",
        "\n",
        "        # Use predicted token as next input\n",
        "        decoder_input = torch.tensor([top_token], device=device)\n",
        "\n",
        "    # Convert indices to text\n",
        "    result_text = tgt_vocab.decode(result_indices, remove_special_tokens=True)\n",
        "\n",
        "    return result_text"
      ]
    },
    {
      "cell_type": "code",
      "execution_count": null,
      "id": "cabbf04d",
      "metadata": {
        "execution": {
          "iopub.execute_input": "2025-05-14T06:23:06.576432Z",
          "iopub.status.busy": "2025-05-14T06:23:06.576231Z",
          "iopub.status.idle": "2025-05-14T06:23:06.889995Z",
          "shell.execute_reply": "2025-05-14T06:23:06.889353Z"
        },
        "id": "cabbf04d",
        "papermill": {
          "duration": 0.319882,
          "end_time": "2025-05-14T06:23:06.891323",
          "exception": false,
          "start_time": "2025-05-14T06:23:06.571441",
          "status": "completed"
        },
        "tags": []
      },
      "outputs": [],
      "source": [
        "INPUT_SIZE = src_vocab.vocab_size\n",
        "OUTPUT_SIZE = tgt_vocab.vocab_size\n",
        "EMBEDDING_SIZE = 256\n",
        "HIDDEN_SIZE = 512\n",
        "NUM_LAYERS = 2\n",
        "CELL_TYPE = \"LSTM\"\n",
        "DROPOUT = 0.2\n",
        "LEARNING_RATE = 0.001\n",
        "NUM_EPOCHS = 10\n",
        "\n",
        "# Initialize encoder, decoder, and seq2seq model\n",
        "encoder = Encoder(\n",
        "    input_size=INPUT_SIZE,\n",
        "    embedding_size=EMBEDDING_SIZE,\n",
        "    hidden_size=HIDDEN_SIZE,\n",
        "    num_layers=NUM_LAYERS,\n",
        "    cell_type=CELL_TYPE,\n",
        "    dropout=DROPOUT\n",
        ")\n",
        "\n",
        "decoder = Decoder(\n",
        "    output_size=OUTPUT_SIZE,\n",
        "    embedding_size=EMBEDDING_SIZE,\n",
        "    hidden_size=HIDDEN_SIZE,\n",
        "    num_layers=NUM_LAYERS,\n",
        "    cell_type=CELL_TYPE,\n",
        "    dropout=DROPOUT\n",
        ")\n",
        "\n",
        "model = Seq2Seq(encoder, decoder, device).to(device)\n",
        "criterion = nn.CrossEntropyLoss(ignore_index=0)\n",
        "optimizer = optim.Adam(model.parameters(), lr=LEARNING_RATE)"
      ]
    },
    {
      "cell_type": "code",
      "execution_count": null,
      "id": "45f780f1",
      "metadata": {
        "execution": {
          "iopub.execute_input": "2025-05-14T06:23:06.901755Z",
          "iopub.status.busy": "2025-05-14T06:23:06.901501Z",
          "iopub.status.idle": "2025-05-14T06:29:29.230992Z",
          "shell.execute_reply": "2025-05-14T06:29:29.230218Z"
        },
        "id": "45f780f1",
        "outputId": "d740acc4-f992-4bc4-acbc-f38f62c8f908",
        "papermill": {
          "duration": 382.341717,
          "end_time": "2025-05-14T06:29:29.238016",
          "exception": false,
          "start_time": "2025-05-14T06:23:06.896299",
          "status": "completed"
        },
        "tags": [],
        "colab": {
          "base_uri": "https://localhost:8080/"
        }
      },
      "outputs": [
        {
          "output_type": "stream",
          "name": "stdout",
          "text": [
            "Starting training for 10 epochs...\n",
            "Epoch 1/10\n",
            "Train Loss: 1.6911 | Valid Loss: 1.2774\n",
            "====================\n",
            "Epoch 2/10\n",
            "Train Loss: 0.7447 | Valid Loss: 1.0841\n",
            "====================\n",
            "Epoch 3/10\n",
            "Train Loss: 0.5753 | Valid Loss: 1.0521\n",
            "====================\n",
            "Epoch 4/10\n",
            "Train Loss: 0.4678 | Valid Loss: 1.0716\n",
            "====================\n",
            "Epoch 5/10\n",
            "Train Loss: 0.3957 | Valid Loss: 1.0537\n",
            "====================\n",
            "Epoch 6/10\n",
            "Train Loss: 0.3445 | Valid Loss: 1.0727\n",
            "====================\n",
            "Epoch 7/10\n",
            "Train Loss: 0.3004 | Valid Loss: 1.1386\n",
            "====================\n",
            "Epoch 8/10\n",
            "Train Loss: 0.2758 | Valid Loss: 1.1567\n",
            "====================\n",
            "Epoch 9/10\n",
            "Train Loss: 0.2444 | Valid Loss: 1.2164\n",
            "====================\n",
            "Epoch 10/10\n",
            "Train Loss: 0.2251 | Valid Loss: 1.2348\n",
            "====================\n"
          ]
        }
      ],
      "source": [
        "# Training loop\n",
        "print(f\"Starting training for {NUM_EPOCHS} epochs...\")\n",
        "\n",
        "for epoch in range(NUM_EPOCHS):\n",
        "    print(f\"Epoch {epoch+1}/{NUM_EPOCHS}\")\n",
        "\n",
        "    # Train model\n",
        "    train_loss = train(model, train_loader, optimizer, criterion)\n",
        "\n",
        "    # Evaluate model\n",
        "    valid_loss = evaluate(model, dev_loader, criterion)\n",
        "\n",
        "    print(f\"Train Loss: {train_loss:.4f} | Valid Loss: {valid_loss:.4f}\")\n",
        "    print(\"=\"*20)"
      ]
    },
    {
      "cell_type": "code",
      "execution_count": null,
      "id": "ba341001",
      "metadata": {
        "execution": {
          "iopub.execute_input": "2025-05-14T06:29:29.251258Z",
          "iopub.status.busy": "2025-05-14T06:29:29.250569Z",
          "iopub.status.idle": "2025-05-14T06:29:47.922705Z",
          "shell.execute_reply": "2025-05-14T06:29:47.922036Z"
        },
        "id": "ba341001",
        "outputId": "13a973db-a18a-4daf-cbed-ad6bc5ebaa59",
        "papermill": {
          "duration": 18.680159,
          "end_time": "2025-05-14T06:29:47.924173",
          "exception": false,
          "start_time": "2025-05-14T06:29:29.244014",
          "status": "completed"
        },
        "tags": [],
        "colab": {
          "base_uri": "https://localhost:8080/"
        }
      },
      "outputs": [
        {
          "output_type": "stream",
          "name": "stdout",
          "text": [
            "\n",
            "Validation Accuracy: 0.3502\n"
          ]
        }
      ],
      "source": [
        "# Accuracy calculation function\n",
        "def calculate_accuracy(model, data_loader, src_vocab, tgt_vocab, device):\n",
        "    model.eval()\n",
        "    correct = 0\n",
        "    total = 0\n",
        "\n",
        "    with torch.no_grad():\n",
        "        for src, tgt in data_loader:\n",
        "            src = src.to(device)\n",
        "            tgt = tgt.to(device)\n",
        "\n",
        "            batch_size = src.shape[0]\n",
        "\n",
        "            for i in range(batch_size):\n",
        "                # Get source text and actual target text\n",
        "                src_indices = src[i].tolist()\n",
        "                src_text = src_vocab.decode(src_indices)\n",
        "                actual_tgt_text = tgt_vocab.decode(tgt[i].tolist())\n",
        "\n",
        "                # Get predicted transliteration\n",
        "                predicted_tgt_text = transliterate(model, src_text, src_vocab, tgt_vocab, device)\n",
        "\n",
        "                # Check if prediction matches\n",
        "                if predicted_tgt_text == actual_tgt_text:\n",
        "                    correct += 1\n",
        "                total += 1\n",
        "\n",
        "    return correct / total\n",
        "\n",
        "val_accuracy = calculate_accuracy(model, dev_loader, src_vocab, tgt_vocab, device)\n",
        "print(f\"\\nValidation Accuracy: {val_accuracy:.4f}\")"
      ]
    },
    {
      "cell_type": "code",
      "execution_count": null,
      "id": "47e3f3e8",
      "metadata": {
        "execution": {
          "iopub.execute_input": "2025-05-14T06:29:47.937055Z",
          "iopub.status.busy": "2025-05-14T06:29:47.936788Z",
          "iopub.status.idle": "2025-05-14T06:29:47.945507Z",
          "shell.execute_reply": "2025-05-14T06:29:47.944791Z"
        },
        "id": "47e3f3e8",
        "papermill": {
          "duration": 0.016525,
          "end_time": "2025-05-14T06:29:47.946720",
          "exception": false,
          "start_time": "2025-05-14T06:29:47.930195",
          "status": "completed"
        },
        "tags": []
      },
      "outputs": [],
      "source": [
        "def sweep_hyperparameters(config=None):\n",
        "    with wandb.init(config=config):\n",
        "        config = wandb.config\n",
        "        wandb.run.name = f\"embedding_size_{str(config.embedding_size)}_num_layers_{str(config.num_layers)}_hidden_size_{config.hidden_size} \\\n",
        "                          _cell_type_{config.cell_type}_dp_{config.dropout}_lr_{config.learning_rate}_batch_{config.batch_size}\"\n",
        "\n",
        "        # Log in my details\n",
        "        wandb.config.update({\"NAME\": \"SIDDHANT BARANWAL\", \"ROLL NO.\": \"DA24M021\"})\n",
        "\n",
        "        train_dataset = TransliterationDataset(TRAIN_FilePath, src_vocab, tgt_vocab)\n",
        "        train_loader = DataLoader(train_dataset, batch_size=config.batch_size, shuffle=True, collate_fn=collate_fn)\n",
        "\n",
        "        dev_dataset = TransliterationDataset(DEV_FilePath, src_vocab, tgt_vocab)\n",
        "        dev_loader = DataLoader(dev_dataset, batch_size=config.batch_size, shuffle=False, collate_fn=collate_fn)\n",
        "\n",
        "        INPUT_SIZE = src_vocab.vocab_size\n",
        "        OUTPUT_SIZE = tgt_vocab.vocab_size\n",
        "\n",
        "        EMBEDDING_SIZE = config.embedding_size\n",
        "        HIDDEN_SIZE = config.hidden_size\n",
        "        NUM_LAYERS = config.num_layers\n",
        "        CELL_TYPE = config.cell_type\n",
        "        DROPOUT = config.dropout\n",
        "        LEARNING_RATE = config.learning_rate\n",
        "        NUM_EPOCHS = 10\n",
        "\n",
        "        # Initialize encoder, decoder, and seq2seq model\n",
        "        encoder = Encoder(\n",
        "            input_size=INPUT_SIZE,\n",
        "            embedding_size=EMBEDDING_SIZE,\n",
        "            hidden_size=HIDDEN_SIZE,\n",
        "            num_layers=NUM_LAYERS,\n",
        "            cell_type=CELL_TYPE,\n",
        "            dropout=DROPOUT\n",
        "        )\n",
        "\n",
        "        decoder = Decoder(\n",
        "            output_size=OUTPUT_SIZE,\n",
        "            embedding_size=EMBEDDING_SIZE,\n",
        "            hidden_size=HIDDEN_SIZE,\n",
        "            num_layers=NUM_LAYERS,\n",
        "            cell_type=CELL_TYPE,\n",
        "            dropout=DROPOUT\n",
        "        )\n",
        "\n",
        "        model = Seq2Seq(encoder, decoder, device).to(device)\n",
        "        criterion = nn.CrossEntropyLoss(ignore_index=0)\n",
        "        optimizer = optim.Adam(model.parameters(), lr=LEARNING_RATE)\n",
        "\n",
        "        criterion = nn.CrossEntropyLoss()\n",
        "        optimizer = optim.Adam(model.parameters(), lr=config.learning_rate)\n",
        "\n",
        "        for epoch in tqdm(range(NUM_EPOCHS)):\n",
        "            # Train model\n",
        "            train_loss = train(model, train_loader, optimizer, criterion)\n",
        "            # Evaluate model\n",
        "            valid_loss = evaluate(model, dev_loader, criterion)\n",
        "\n",
        "            print(f\"Train Loss: {train_loss:.4f} | Valid Loss: {valid_loss:.4f}\")\n",
        "            # Log the evaluation metrics\n",
        "            wandb.log({\n",
        "                \"epoch\": epoch,\n",
        "                \"train_loss\": train_loss,\n",
        "                \"validation_loss\": valid_loss,\n",
        "                })\n",
        "\n",
        "        # Calculate accuracy on validation set\n",
        "        val_accuracy = calculate_accuracy(model, dev_loader, src_vocab, tgt_vocab, device)\n",
        "        print(f\"\\nValidation Accuracy: {val_accuracy:.4f}\")\n",
        "        wandb.log({\n",
        "            \"val_accuracy\": val_accuracy\n",
        "        })"
      ]
    },
    {
      "cell_type": "code",
      "execution_count": null,
      "id": "6fdcd984",
      "metadata": {
        "execution": {
          "iopub.execute_input": "2025-05-14T06:29:47.958507Z",
          "iopub.status.busy": "2025-05-14T06:29:47.958310Z",
          "iopub.status.idle": "2025-05-14T18:00:11.443833Z",
          "shell.execute_reply": "2025-05-14T18:00:11.442982Z"
        },
        "id": "6fdcd984",
        "outputId": "c7877dab-520b-4918-c2d8-b535db0ea2eb",
        "papermill": {
          "duration": 41423.492896,
          "end_time": "2025-05-14T18:00:11.445221",
          "exception": false,
          "start_time": "2025-05-14T06:29:47.952325",
          "status": "completed"
        },
        "tags": []
      },
      "outputs": [
        {
          "name": "stdout",
          "output_type": "stream",
          "text": [
            "Create sweep with ID: 6g2ha9nv\n",
            "Sweep URL: https://wandb.ai/da24m021-indian-institute-of-technology-madras/da24m021_da6401_assignment3/sweeps/6g2ha9nv\n"
          ]
        },
        {
          "name": "stderr",
          "output_type": "stream",
          "text": [
            "\u001b[34m\u001b[1mwandb\u001b[0m: Agent Starting Run: x760x6ri with config:\n",
            "\u001b[34m\u001b[1mwandb\u001b[0m: \tbatch_size: 32\n",
            "\u001b[34m\u001b[1mwandb\u001b[0m: \tcell_type: GRU\n",
            "\u001b[34m\u001b[1mwandb\u001b[0m: \tdropout: 0.4\n",
            "\u001b[34m\u001b[1mwandb\u001b[0m: \tembedding_size: 16\n",
            "\u001b[34m\u001b[1mwandb\u001b[0m: \thidden_size: 2048\n",
            "\u001b[34m\u001b[1mwandb\u001b[0m: \tlearning_rate: 0.001\n",
            "\u001b[34m\u001b[1mwandb\u001b[0m: \tnum_layers: 1\n",
            "\u001b[34m\u001b[1mwandb\u001b[0m: Tracking run with wandb version 0.19.9\n",
            "\u001b[34m\u001b[1mwandb\u001b[0m: Run data is saved locally in \u001b[35m\u001b[1m/kaggle/working/wandb/run-20250514_062949-x760x6ri\u001b[0m\n",
            "\u001b[34m\u001b[1mwandb\u001b[0m: Run \u001b[1m`wandb offline`\u001b[0m to turn off syncing.\n",
            "\u001b[34m\u001b[1mwandb\u001b[0m: Syncing run \u001b[33msandy-sweep-1\u001b[0m\n",
            "\u001b[34m\u001b[1mwandb\u001b[0m: ⭐️ View project at \u001b[34m\u001b[4mhttps://wandb.ai/da24m021-indian-institute-of-technology-madras/da24m021_da6401_assignment3\u001b[0m\n",
            "\u001b[34m\u001b[1mwandb\u001b[0m: 🧹 View sweep at \u001b[34m\u001b[4mhttps://wandb.ai/da24m021-indian-institute-of-technology-madras/da24m021_da6401_assignment3/sweeps/6g2ha9nv\u001b[0m\n",
            "\u001b[34m\u001b[1mwandb\u001b[0m: 🚀 View run at \u001b[34m\u001b[4mhttps://wandb.ai/da24m021-indian-institute-of-technology-madras/da24m021_da6401_assignment3/runs/x760x6ri\u001b[0m\n",
            " 10%|█         | 1/10 [00:42<06:23, 42.56s/it]"
          ]
        },
        {
          "name": "stdout",
          "output_type": "stream",
          "text": [
            "Train Loss: 1.0674 | Valid Loss: 0.9679\n"
          ]
        },
        {
          "name": "stderr",
          "output_type": "stream",
          "text": [
            " 20%|██        | 2/10 [01:24<05:39, 42.44s/it]"
          ]
        },
        {
          "name": "stdout",
          "output_type": "stream",
          "text": [
            "Train Loss: 0.3931 | Valid Loss: 0.8412\n"
          ]
        },
        {
          "name": "stderr",
          "output_type": "stream",
          "text": [
            " 30%|███       | 3/10 [02:07<04:57, 42.44s/it]"
          ]
        },
        {
          "name": "stdout",
          "output_type": "stream",
          "text": [
            "Train Loss: 0.2653 | Valid Loss: 0.9011\n"
          ]
        },
        {
          "name": "stderr",
          "output_type": "stream",
          "text": [
            " 40%|████      | 4/10 [02:50<04:15, 42.55s/it]"
          ]
        },
        {
          "name": "stdout",
          "output_type": "stream",
          "text": [
            "Train Loss: 0.1995 | Valid Loss: 0.9560\n"
          ]
        },
        {
          "name": "stderr",
          "output_type": "stream",
          "text": [
            " 50%|█████     | 5/10 [03:32<03:33, 42.65s/it]"
          ]
        },
        {
          "name": "stdout",
          "output_type": "stream",
          "text": [
            "Train Loss: 0.1608 | Valid Loss: 1.0607\n"
          ]
        },
        {
          "name": "stderr",
          "output_type": "stream",
          "text": [
            " 60%|██████    | 6/10 [04:15<02:50, 42.67s/it]"
          ]
        },
        {
          "name": "stdout",
          "output_type": "stream",
          "text": [
            "Train Loss: 0.1403 | Valid Loss: 1.0887\n"
          ]
        },
        {
          "name": "stderr",
          "output_type": "stream",
          "text": [
            " 70%|███████   | 7/10 [04:58<02:07, 42.66s/it]"
          ]
        },
        {
          "name": "stdout",
          "output_type": "stream",
          "text": [
            "Train Loss: 0.1326 | Valid Loss: 1.0682\n"
          ]
        },
        {
          "name": "stderr",
          "output_type": "stream",
          "text": [
            " 80%|████████  | 8/10 [05:40<01:25, 42.69s/it]"
          ]
        },
        {
          "name": "stdout",
          "output_type": "stream",
          "text": [
            "Train Loss: 0.1211 | Valid Loss: 1.1039\n"
          ]
        },
        {
          "name": "stderr",
          "output_type": "stream",
          "text": [
            " 90%|█████████ | 9/10 [06:23<00:42, 42.68s/it]"
          ]
        },
        {
          "name": "stdout",
          "output_type": "stream",
          "text": [
            "Train Loss: 0.1148 | Valid Loss: 1.1140\n"
          ]
        },
        {
          "name": "stderr",
          "output_type": "stream",
          "text": [
            "100%|██████████| 10/10 [07:06<00:00, 42.64s/it]"
          ]
        },
        {
          "name": "stdout",
          "output_type": "stream",
          "text": [
            "Train Loss: 0.1148 | Valid Loss: 1.2005\n"
          ]
        },
        {
          "name": "stderr",
          "output_type": "stream",
          "text": [
            "\n"
          ]
        },
        {
          "name": "stdout",
          "output_type": "stream",
          "text": [
            "\n",
            "Validation Accuracy: 0.3022\n"
          ]
        },
        {
          "name": "stderr",
          "output_type": "stream",
          "text": [
            "\u001b[34m\u001b[1mwandb\u001b[0m:                                                                                \n",
            "\u001b[34m\u001b[1mwandb\u001b[0m: \n",
            "\u001b[34m\u001b[1mwandb\u001b[0m: Run history:\n",
            "\u001b[34m\u001b[1mwandb\u001b[0m:           epoch ▁▂▃▃▄▅▆▆▇█\n",
            "\u001b[34m\u001b[1mwandb\u001b[0m:      train_loss █▃▂▂▁▁▁▁▁▁\n",
            "\u001b[34m\u001b[1mwandb\u001b[0m:    val_accuracy ▁\n",
            "\u001b[34m\u001b[1mwandb\u001b[0m: validation_loss ▃▁▂▃▅▆▅▆▆█\n",
            "\u001b[34m\u001b[1mwandb\u001b[0m: \n",
            "\u001b[34m\u001b[1mwandb\u001b[0m: Run summary:\n",
            "\u001b[34m\u001b[1mwandb\u001b[0m:           epoch 9\n",
            "\u001b[34m\u001b[1mwandb\u001b[0m:      train_loss 0.1148\n",
            "\u001b[34m\u001b[1mwandb\u001b[0m:    val_accuracy 0.3022\n",
            "\u001b[34m\u001b[1mwandb\u001b[0m: validation_loss 1.20051\n",
            "\u001b[34m\u001b[1mwandb\u001b[0m: \n",
            "\u001b[34m\u001b[1mwandb\u001b[0m: 🚀 View run \u001b[33membedding_size_16_num_layers_1_hidden_size_2048                           _cell_type_GRU_dp_0.4_lr_0.001_batch_32\u001b[0m at: \u001b[34m\u001b[4mhttps://wandb.ai/da24m021-indian-institute-of-technology-madras/da24m021_da6401_assignment3/runs/x760x6ri\u001b[0m\n",
            "\u001b[34m\u001b[1mwandb\u001b[0m: ⭐️ View project at: \u001b[34m\u001b[4mhttps://wandb.ai/da24m021-indian-institute-of-technology-madras/da24m021_da6401_assignment3\u001b[0m\n",
            "\u001b[34m\u001b[1mwandb\u001b[0m: Synced 5 W&B file(s), 0 media file(s), 0 artifact file(s) and 0 other file(s)\n",
            "\u001b[34m\u001b[1mwandb\u001b[0m: Find logs at: \u001b[35m\u001b[1m./wandb/run-20250514_062949-x760x6ri/logs\u001b[0m\n",
            "\u001b[34m\u001b[1mwandb\u001b[0m: Agent Starting Run: fscbzjin with config:\n",
            "\u001b[34m\u001b[1mwandb\u001b[0m: \tbatch_size: 32\n",
            "\u001b[34m\u001b[1mwandb\u001b[0m: \tcell_type: LSTM\n",
            "\u001b[34m\u001b[1mwandb\u001b[0m: \tdropout: 0\n",
            "\u001b[34m\u001b[1mwandb\u001b[0m: \tembedding_size: 64\n",
            "\u001b[34m\u001b[1mwandb\u001b[0m: \thidden_size: 1024\n",
            "\u001b[34m\u001b[1mwandb\u001b[0m: \tlearning_rate: 0.001\n",
            "\u001b[34m\u001b[1mwandb\u001b[0m: \tnum_layers: 3\n",
            "\u001b[34m\u001b[1mwandb\u001b[0m: Tracking run with wandb version 0.19.9\n",
            "\u001b[34m\u001b[1mwandb\u001b[0m: Run data is saved locally in \u001b[35m\u001b[1m/kaggle/working/wandb/run-20250514_063726-fscbzjin\u001b[0m\n",
            "\u001b[34m\u001b[1mwandb\u001b[0m: Run \u001b[1m`wandb offline`\u001b[0m to turn off syncing.\n",
            "\u001b[34m\u001b[1mwandb\u001b[0m: Syncing run \u001b[33mpolar-sweep-2\u001b[0m\n",
            "\u001b[34m\u001b[1mwandb\u001b[0m: ⭐️ View project at \u001b[34m\u001b[4mhttps://wandb.ai/da24m021-indian-institute-of-technology-madras/da24m021_da6401_assignment3\u001b[0m\n",
            "\u001b[34m\u001b[1mwandb\u001b[0m: 🧹 View sweep at \u001b[34m\u001b[4mhttps://wandb.ai/da24m021-indian-institute-of-technology-madras/da24m021_da6401_assignment3/sweeps/6g2ha9nv\u001b[0m\n",
            "\u001b[34m\u001b[1mwandb\u001b[0m: 🚀 View run at \u001b[34m\u001b[4mhttps://wandb.ai/da24m021-indian-institute-of-technology-madras/da24m021_da6401_assignment3/runs/fscbzjin\u001b[0m\n",
            " 10%|█         | 1/10 [01:11<10:45, 71.69s/it]"
          ]
        },
        {
          "name": "stdout",
          "output_type": "stream",
          "text": [
            "Train Loss: 1.6832 | Valid Loss: 1.7699\n"
          ]
        },
        {
          "name": "stderr",
          "output_type": "stream",
          "text": [
            " 20%|██        | 2/10 [02:23<09:33, 71.63s/it]"
          ]
        },
        {
          "name": "stdout",
          "output_type": "stream",
          "text": [
            "Train Loss: 0.9383 | Valid Loss: 1.0246\n"
          ]
        },
        {
          "name": "stderr",
          "output_type": "stream",
          "text": [
            " 30%|███       | 3/10 [03:34<08:21, 71.59s/it]"
          ]
        },
        {
          "name": "stdout",
          "output_type": "stream",
          "text": [
            "Train Loss: 0.4509 | Valid Loss: 0.8852\n"
          ]
        },
        {
          "name": "stderr",
          "output_type": "stream",
          "text": [
            " 40%|████      | 4/10 [04:46<07:09, 71.55s/it]"
          ]
        },
        {
          "name": "stdout",
          "output_type": "stream",
          "text": [
            "Train Loss: 0.3276 | Valid Loss: 0.8264\n"
          ]
        },
        {
          "name": "stderr",
          "output_type": "stream",
          "text": [
            " 50%|█████     | 5/10 [05:58<05:58, 71.62s/it]"
          ]
        },
        {
          "name": "stdout",
          "output_type": "stream",
          "text": [
            "Train Loss: 0.2519 | Valid Loss: 0.9242\n"
          ]
        },
        {
          "name": "stderr",
          "output_type": "stream",
          "text": [
            " 60%|██████    | 6/10 [07:09<04:46, 71.64s/it]"
          ]
        },
        {
          "name": "stdout",
          "output_type": "stream",
          "text": [
            "Train Loss: 0.2019 | Valid Loss: 0.9092\n"
          ]
        },
        {
          "name": "stderr",
          "output_type": "stream",
          "text": [
            " 70%|███████   | 7/10 [08:21<03:34, 71.62s/it]"
          ]
        },
        {
          "name": "stdout",
          "output_type": "stream",
          "text": [
            "Train Loss: 0.1653 | Valid Loss: 0.9440\n"
          ]
        },
        {
          "name": "stderr",
          "output_type": "stream",
          "text": [
            " 80%|████████  | 8/10 [09:33<02:23, 71.80s/it]"
          ]
        },
        {
          "name": "stdout",
          "output_type": "stream",
          "text": [
            "Train Loss: 0.1406 | Valid Loss: 0.9886\n"
          ]
        },
        {
          "name": "stderr",
          "output_type": "stream",
          "text": [
            " 90%|█████████ | 9/10 [10:45<01:11, 71.84s/it]"
          ]
        },
        {
          "name": "stdout",
          "output_type": "stream",
          "text": [
            "Train Loss: 0.1236 | Valid Loss: 0.9803\n"
          ]
        },
        {
          "name": "stderr",
          "output_type": "stream",
          "text": [
            "100%|██████████| 10/10 [11:57<00:00, 71.70s/it]"
          ]
        },
        {
          "name": "stdout",
          "output_type": "stream",
          "text": [
            "Train Loss: 0.1086 | Valid Loss: 1.0134\n"
          ]
        },
        {
          "name": "stderr",
          "output_type": "stream",
          "text": [
            "\n"
          ]
        },
        {
          "name": "stdout",
          "output_type": "stream",
          "text": [
            "\n",
            "Validation Accuracy: 0.3410\n"
          ]
        },
        {
          "name": "stderr",
          "output_type": "stream",
          "text": [
            "\u001b[34m\u001b[1mwandb\u001b[0m:                                                                                \n",
            "\u001b[34m\u001b[1mwandb\u001b[0m: \n",
            "\u001b[34m\u001b[1mwandb\u001b[0m: Run history:\n",
            "\u001b[34m\u001b[1mwandb\u001b[0m:           epoch ▁▂▃▃▄▅▆▆▇█\n",
            "\u001b[34m\u001b[1mwandb\u001b[0m:      train_loss █▅▃▂▂▁▁▁▁▁\n",
            "\u001b[34m\u001b[1mwandb\u001b[0m:    val_accuracy ▁\n",
            "\u001b[34m\u001b[1mwandb\u001b[0m: validation_loss █▂▁▁▂▂▂▂▂▂\n",
            "\u001b[34m\u001b[1mwandb\u001b[0m: \n",
            "\u001b[34m\u001b[1mwandb\u001b[0m: Run summary:\n",
            "\u001b[34m\u001b[1mwandb\u001b[0m:           epoch 9\n",
            "\u001b[34m\u001b[1mwandb\u001b[0m:      train_loss 0.10863\n",
            "\u001b[34m\u001b[1mwandb\u001b[0m:    val_accuracy 0.34098\n",
            "\u001b[34m\u001b[1mwandb\u001b[0m: validation_loss 1.01338\n",
            "\u001b[34m\u001b[1mwandb\u001b[0m: \n",
            "\u001b[34m\u001b[1mwandb\u001b[0m: 🚀 View run \u001b[33membedding_size_64_num_layers_3_hidden_size_1024                           _cell_type_LSTM_dp_0_lr_0.001_batch_32\u001b[0m at: \u001b[34m\u001b[4mhttps://wandb.ai/da24m021-indian-institute-of-technology-madras/da24m021_da6401_assignment3/runs/fscbzjin\u001b[0m\n",
            "\u001b[34m\u001b[1mwandb\u001b[0m: ⭐️ View project at: \u001b[34m\u001b[4mhttps://wandb.ai/da24m021-indian-institute-of-technology-madras/da24m021_da6401_assignment3\u001b[0m\n",
            "\u001b[34m\u001b[1mwandb\u001b[0m: Synced 5 W&B file(s), 0 media file(s), 0 artifact file(s) and 0 other file(s)\n",
            "\u001b[34m\u001b[1mwandb\u001b[0m: Find logs at: \u001b[35m\u001b[1m./wandb/run-20250514_063726-fscbzjin/logs\u001b[0m\n",
            "\u001b[34m\u001b[1mwandb\u001b[0m: Agent Starting Run: fe13dpon with config:\n",
            "\u001b[34m\u001b[1mwandb\u001b[0m: \tbatch_size: 32\n",
            "\u001b[34m\u001b[1mwandb\u001b[0m: \tcell_type: RNN\n",
            "\u001b[34m\u001b[1mwandb\u001b[0m: \tdropout: 0\n",
            "\u001b[34m\u001b[1mwandb\u001b[0m: \tembedding_size: 512\n",
            "\u001b[34m\u001b[1mwandb\u001b[0m: \thidden_size: 1024\n",
            "\u001b[34m\u001b[1mwandb\u001b[0m: \tlearning_rate: 0.0005\n",
            "\u001b[34m\u001b[1mwandb\u001b[0m: \tnum_layers: 2\n",
            "\u001b[34m\u001b[1mwandb\u001b[0m: Tracking run with wandb version 0.19.9\n",
            "\u001b[34m\u001b[1mwandb\u001b[0m: Run data is saved locally in \u001b[35m\u001b[1m/kaggle/working/wandb/run-20250514_064955-fe13dpon\u001b[0m\n",
            "\u001b[34m\u001b[1mwandb\u001b[0m: Run \u001b[1m`wandb offline`\u001b[0m to turn off syncing.\n",
            "\u001b[34m\u001b[1mwandb\u001b[0m: Syncing run \u001b[33mdifferent-sweep-3\u001b[0m\n",
            "\u001b[34m\u001b[1mwandb\u001b[0m: ⭐️ View project at \u001b[34m\u001b[4mhttps://wandb.ai/da24m021-indian-institute-of-technology-madras/da24m021_da6401_assignment3\u001b[0m\n",
            "\u001b[34m\u001b[1mwandb\u001b[0m: 🧹 View sweep at \u001b[34m\u001b[4mhttps://wandb.ai/da24m021-indian-institute-of-technology-madras/da24m021_da6401_assignment3/sweeps/6g2ha9nv\u001b[0m\n",
            "\u001b[34m\u001b[1mwandb\u001b[0m: 🚀 View run at \u001b[34m\u001b[4mhttps://wandb.ai/da24m021-indian-institute-of-technology-madras/da24m021_da6401_assignment3/runs/fe13dpon\u001b[0m\n",
            " 10%|█         | 1/10 [00:32<04:51, 32.42s/it]"
          ]
        },
        {
          "name": "stdout",
          "output_type": "stream",
          "text": [
            "Train Loss: 1.8696 | Valid Loss: 2.5516\n"
          ]
        },
        {
          "name": "stderr",
          "output_type": "stream",
          "text": [
            " 20%|██        | 2/10 [01:04<04:18, 32.31s/it]"
          ]
        },
        {
          "name": "stdout",
          "output_type": "stream",
          "text": [
            "Train Loss: 1.7705 | Valid Loss: 2.3840\n"
          ]
        },
        {
          "name": "stderr",
          "output_type": "stream",
          "text": [
            " 30%|███       | 3/10 [01:37<03:47, 32.46s/it]"
          ]
        },
        {
          "name": "stdout",
          "output_type": "stream",
          "text": [
            "Train Loss: 1.7303 | Valid Loss: 2.3232\n"
          ]
        },
        {
          "name": "stderr",
          "output_type": "stream",
          "text": [
            " 40%|████      | 4/10 [02:10<03:15, 32.64s/it]"
          ]
        },
        {
          "name": "stdout",
          "output_type": "stream",
          "text": [
            "Train Loss: 1.7143 | Valid Loss: 2.3936\n"
          ]
        },
        {
          "name": "stderr",
          "output_type": "stream",
          "text": [
            " 50%|█████     | 5/10 [02:42<02:43, 32.63s/it]"
          ]
        },
        {
          "name": "stdout",
          "output_type": "stream",
          "text": [
            "Train Loss: 1.7004 | Valid Loss: 2.2954\n"
          ]
        },
        {
          "name": "stderr",
          "output_type": "stream",
          "text": [
            " 60%|██████    | 6/10 [03:15<02:10, 32.50s/it]"
          ]
        },
        {
          "name": "stdout",
          "output_type": "stream",
          "text": [
            "Train Loss: 1.6785 | Valid Loss: 2.3325\n"
          ]
        },
        {
          "name": "stderr",
          "output_type": "stream",
          "text": [
            " 70%|███████   | 7/10 [03:49<01:39, 33.28s/it]"
          ]
        },
        {
          "name": "stdout",
          "output_type": "stream",
          "text": [
            "Train Loss: 1.6686 | Valid Loss: 2.3103\n"
          ]
        },
        {
          "name": "stderr",
          "output_type": "stream",
          "text": [
            " 80%|████████  | 8/10 [04:25<01:07, 33.92s/it]"
          ]
        },
        {
          "name": "stdout",
          "output_type": "stream",
          "text": [
            "Train Loss: 1.6666 | Valid Loss: 2.2729\n"
          ]
        },
        {
          "name": "stderr",
          "output_type": "stream",
          "text": [
            " 90%|█████████ | 9/10 [05:00<00:34, 34.42s/it]"
          ]
        },
        {
          "name": "stdout",
          "output_type": "stream",
          "text": [
            "Train Loss: 1.6592 | Valid Loss: 2.3277\n"
          ]
        },
        {
          "name": "stderr",
          "output_type": "stream",
          "text": [
            "100%|██████████| 10/10 [05:35<00:00, 33.56s/it]"
          ]
        },
        {
          "name": "stdout",
          "output_type": "stream",
          "text": [
            "Train Loss: 1.6412 | Valid Loss: 2.2606\n"
          ]
        },
        {
          "name": "stderr",
          "output_type": "stream",
          "text": [
            "\n"
          ]
        },
        {
          "name": "stdout",
          "output_type": "stream",
          "text": [
            "\n",
            "Validation Accuracy: 0.0000\n"
          ]
        },
        {
          "name": "stderr",
          "output_type": "stream",
          "text": [
            "\u001b[34m\u001b[1mwandb\u001b[0m:                                                                                \n",
            "\u001b[34m\u001b[1mwandb\u001b[0m: \n",
            "\u001b[34m\u001b[1mwandb\u001b[0m: Run history:\n",
            "\u001b[34m\u001b[1mwandb\u001b[0m:           epoch ▁▂▃▃▄▅▆▆▇█\n",
            "\u001b[34m\u001b[1mwandb\u001b[0m:      train_loss █▅▄▃▃▂▂▂▂▁\n",
            "\u001b[34m\u001b[1mwandb\u001b[0m:    val_accuracy ▁\n",
            "\u001b[34m\u001b[1mwandb\u001b[0m: validation_loss █▄▃▄▂▃▂▁▃▁\n",
            "\u001b[34m\u001b[1mwandb\u001b[0m: \n",
            "\u001b[34m\u001b[1mwandb\u001b[0m: Run summary:\n",
            "\u001b[34m\u001b[1mwandb\u001b[0m:           epoch 9\n",
            "\u001b[34m\u001b[1mwandb\u001b[0m:      train_loss 1.6412\n",
            "\u001b[34m\u001b[1mwandb\u001b[0m:    val_accuracy 0\n",
            "\u001b[34m\u001b[1mwandb\u001b[0m: validation_loss 2.26062\n",
            "\u001b[34m\u001b[1mwandb\u001b[0m: \n",
            "\u001b[34m\u001b[1mwandb\u001b[0m: 🚀 View run \u001b[33membedding_size_512_num_layers_2_hidden_size_1024                           _cell_type_RNN_dp_0_lr_0.0005_batch_32\u001b[0m at: \u001b[34m\u001b[4mhttps://wandb.ai/da24m021-indian-institute-of-technology-madras/da24m021_da6401_assignment3/runs/fe13dpon\u001b[0m\n",
            "\u001b[34m\u001b[1mwandb\u001b[0m: ⭐️ View project at: \u001b[34m\u001b[4mhttps://wandb.ai/da24m021-indian-institute-of-technology-madras/da24m021_da6401_assignment3\u001b[0m\n",
            "\u001b[34m\u001b[1mwandb\u001b[0m: Synced 5 W&B file(s), 0 media file(s), 0 artifact file(s) and 0 other file(s)\n",
            "\u001b[34m\u001b[1mwandb\u001b[0m: Find logs at: \u001b[35m\u001b[1m./wandb/run-20250514_064955-fe13dpon/logs\u001b[0m\n",
            "\u001b[34m\u001b[1mwandb\u001b[0m: Agent Starting Run: rvznk0l1 with config:\n",
            "\u001b[34m\u001b[1mwandb\u001b[0m: \tbatch_size: 16\n",
            "\u001b[34m\u001b[1mwandb\u001b[0m: \tcell_type: RNN\n",
            "\u001b[34m\u001b[1mwandb\u001b[0m: \tdropout: 0.4\n",
            "\u001b[34m\u001b[1mwandb\u001b[0m: \tembedding_size: 256\n",
            "\u001b[34m\u001b[1mwandb\u001b[0m: \thidden_size: 256\n",
            "\u001b[34m\u001b[1mwandb\u001b[0m: \tlearning_rate: 0.0005\n",
            "\u001b[34m\u001b[1mwandb\u001b[0m: \tnum_layers: 3\n",
            "\u001b[34m\u001b[1mwandb\u001b[0m: Tracking run with wandb version 0.19.9\n",
            "\u001b[34m\u001b[1mwandb\u001b[0m: Run data is saved locally in \u001b[35m\u001b[1m/kaggle/working/wandb/run-20250514_065605-rvznk0l1\u001b[0m\n",
            "\u001b[34m\u001b[1mwandb\u001b[0m: Run \u001b[1m`wandb offline`\u001b[0m to turn off syncing.\n",
            "\u001b[34m\u001b[1mwandb\u001b[0m: Syncing run \u001b[33mexalted-sweep-4\u001b[0m\n",
            "\u001b[34m\u001b[1mwandb\u001b[0m: ⭐️ View project at \u001b[34m\u001b[4mhttps://wandb.ai/da24m021-indian-institute-of-technology-madras/da24m021_da6401_assignment3\u001b[0m\n",
            "\u001b[34m\u001b[1mwandb\u001b[0m: 🧹 View sweep at \u001b[34m\u001b[4mhttps://wandb.ai/da24m021-indian-institute-of-technology-madras/da24m021_da6401_assignment3/sweeps/6g2ha9nv\u001b[0m\n",
            "\u001b[34m\u001b[1mwandb\u001b[0m: 🚀 View run at \u001b[34m\u001b[4mhttps://wandb.ai/da24m021-indian-institute-of-technology-madras/da24m021_da6401_assignment3/runs/rvznk0l1\u001b[0m\n",
            " 10%|█         | 1/10 [01:05<09:49, 65.54s/it]"
          ]
        },
        {
          "name": "stdout",
          "output_type": "stream",
          "text": [
            "Train Loss: 1.9448 | Valid Loss: 2.3918\n"
          ]
        },
        {
          "name": "stderr",
          "output_type": "stream",
          "text": [
            " 20%|██        | 2/10 [02:11<08:44, 65.61s/it]"
          ]
        },
        {
          "name": "stdout",
          "output_type": "stream",
          "text": [
            "Train Loss: 1.8357 | Valid Loss: 2.3451\n"
          ]
        },
        {
          "name": "stderr",
          "output_type": "stream",
          "text": [
            " 30%|███       | 3/10 [03:17<07:39, 65.70s/it]"
          ]
        },
        {
          "name": "stdout",
          "output_type": "stream",
          "text": [
            "Train Loss: 1.8036 | Valid Loss: 2.3517\n"
          ]
        },
        {
          "name": "stderr",
          "output_type": "stream",
          "text": [
            " 40%|████      | 4/10 [04:21<06:32, 65.37s/it]"
          ]
        },
        {
          "name": "stdout",
          "output_type": "stream",
          "text": [
            "Train Loss: 1.7868 | Valid Loss: 2.3432\n"
          ]
        },
        {
          "name": "stderr",
          "output_type": "stream",
          "text": [
            " 50%|█████     | 5/10 [05:25<05:23, 64.61s/it]"
          ]
        },
        {
          "name": "stdout",
          "output_type": "stream",
          "text": [
            "Train Loss: 1.7846 | Valid Loss: 2.3967\n"
          ]
        },
        {
          "name": "stderr",
          "output_type": "stream",
          "text": [
            " 60%|██████    | 6/10 [06:29<04:17, 64.50s/it]"
          ]
        },
        {
          "name": "stdout",
          "output_type": "stream",
          "text": [
            "Train Loss: 1.7745 | Valid Loss: 2.3501\n"
          ]
        },
        {
          "name": "stderr",
          "output_type": "stream",
          "text": [
            " 70%|███████   | 7/10 [07:34<03:13, 64.56s/it]"
          ]
        },
        {
          "name": "stdout",
          "output_type": "stream",
          "text": [
            "Train Loss: 1.7648 | Valid Loss: 2.3447\n"
          ]
        },
        {
          "name": "stderr",
          "output_type": "stream",
          "text": [
            " 80%|████████  | 8/10 [08:39<02:09, 64.73s/it]"
          ]
        },
        {
          "name": "stdout",
          "output_type": "stream",
          "text": [
            "Train Loss: 1.7621 | Valid Loss: 2.3468\n"
          ]
        },
        {
          "name": "stderr",
          "output_type": "stream",
          "text": [
            " 90%|█████████ | 9/10 [09:43<01:04, 64.51s/it]"
          ]
        },
        {
          "name": "stdout",
          "output_type": "stream",
          "text": [
            "Train Loss: 1.7565 | Valid Loss: 2.3290\n"
          ]
        },
        {
          "name": "stderr",
          "output_type": "stream",
          "text": [
            "100%|██████████| 10/10 [10:47<00:00, 64.77s/it]"
          ]
        },
        {
          "name": "stdout",
          "output_type": "stream",
          "text": [
            "Train Loss: 1.7464 | Valid Loss: 2.3633\n"
          ]
        },
        {
          "name": "stderr",
          "output_type": "stream",
          "text": [
            "\n"
          ]
        },
        {
          "name": "stdout",
          "output_type": "stream",
          "text": [
            "\n",
            "Validation Accuracy: 0.0000\n"
          ]
        },
        {
          "name": "stderr",
          "output_type": "stream",
          "text": [
            "\u001b[34m\u001b[1mwandb\u001b[0m:                                                                                \n",
            "\u001b[34m\u001b[1mwandb\u001b[0m: \n",
            "\u001b[34m\u001b[1mwandb\u001b[0m: Run history:\n",
            "\u001b[34m\u001b[1mwandb\u001b[0m:           epoch ▁▂▃▃▄▅▆▆▇█\n",
            "\u001b[34m\u001b[1mwandb\u001b[0m:      train_loss █▄▃▂▂▂▂▂▁▁\n",
            "\u001b[34m\u001b[1mwandb\u001b[0m:    val_accuracy ▁\n",
            "\u001b[34m\u001b[1mwandb\u001b[0m: validation_loss ▇▃▃▂█▃▃▃▁▅\n",
            "\u001b[34m\u001b[1mwandb\u001b[0m: \n",
            "\u001b[34m\u001b[1mwandb\u001b[0m: Run summary:\n",
            "\u001b[34m\u001b[1mwandb\u001b[0m:           epoch 9\n",
            "\u001b[34m\u001b[1mwandb\u001b[0m:      train_loss 1.74641\n",
            "\u001b[34m\u001b[1mwandb\u001b[0m:    val_accuracy 0\n",
            "\u001b[34m\u001b[1mwandb\u001b[0m: validation_loss 2.36334\n",
            "\u001b[34m\u001b[1mwandb\u001b[0m: \n",
            "\u001b[34m\u001b[1mwandb\u001b[0m: 🚀 View run \u001b[33membedding_size_256_num_layers_3_hidden_size_256                           _cell_type_RNN_dp_0.4_lr_0.0005_batch_16\u001b[0m at: \u001b[34m\u001b[4mhttps://wandb.ai/da24m021-indian-institute-of-technology-madras/da24m021_da6401_assignment3/runs/rvznk0l1\u001b[0m\n",
            "\u001b[34m\u001b[1mwandb\u001b[0m: ⭐️ View project at: \u001b[34m\u001b[4mhttps://wandb.ai/da24m021-indian-institute-of-technology-madras/da24m021_da6401_assignment3\u001b[0m\n",
            "\u001b[34m\u001b[1mwandb\u001b[0m: Synced 5 W&B file(s), 0 media file(s), 0 artifact file(s) and 0 other file(s)\n",
            "\u001b[34m\u001b[1mwandb\u001b[0m: Find logs at: \u001b[35m\u001b[1m./wandb/run-20250514_065605-rvznk0l1/logs\u001b[0m\n",
            "\u001b[34m\u001b[1mwandb\u001b[0m: Agent Starting Run: 30pv1rr6 with config:\n",
            "\u001b[34m\u001b[1mwandb\u001b[0m: \tbatch_size: 32\n",
            "\u001b[34m\u001b[1mwandb\u001b[0m: \tcell_type: LSTM\n",
            "\u001b[34m\u001b[1mwandb\u001b[0m: \tdropout: 0\n",
            "\u001b[34m\u001b[1mwandb\u001b[0m: \tembedding_size: 64\n",
            "\u001b[34m\u001b[1mwandb\u001b[0m: \thidden_size: 2048\n",
            "\u001b[34m\u001b[1mwandb\u001b[0m: \tlearning_rate: 0.001\n",
            "\u001b[34m\u001b[1mwandb\u001b[0m: \tnum_layers: 3\n",
            "\u001b[34m\u001b[1mwandb\u001b[0m: Tracking run with wandb version 0.19.9\n",
            "\u001b[34m\u001b[1mwandb\u001b[0m: Run data is saved locally in \u001b[35m\u001b[1m/kaggle/working/wandb/run-20250514_070720-30pv1rr6\u001b[0m\n",
            "\u001b[34m\u001b[1mwandb\u001b[0m: Run \u001b[1m`wandb offline`\u001b[0m to turn off syncing.\n",
            "\u001b[34m\u001b[1mwandb\u001b[0m: Syncing run \u001b[33mfaithful-sweep-5\u001b[0m\n",
            "\u001b[34m\u001b[1mwandb\u001b[0m: ⭐️ View project at \u001b[34m\u001b[4mhttps://wandb.ai/da24m021-indian-institute-of-technology-madras/da24m021_da6401_assignment3\u001b[0m\n",
            "\u001b[34m\u001b[1mwandb\u001b[0m: 🧹 View sweep at \u001b[34m\u001b[4mhttps://wandb.ai/da24m021-indian-institute-of-technology-madras/da24m021_da6401_assignment3/sweeps/6g2ha9nv\u001b[0m\n",
            "\u001b[34m\u001b[1mwandb\u001b[0m: 🚀 View run at \u001b[34m\u001b[4mhttps://wandb.ai/da24m021-indian-institute-of-technology-madras/da24m021_da6401_assignment3/runs/30pv1rr6\u001b[0m\n",
            " 10%|█         | 1/10 [03:40<33:07, 220.78s/it]"
          ]
        },
        {
          "name": "stdout",
          "output_type": "stream",
          "text": [
            "Train Loss: 1.5870 | Valid Loss: 1.3883\n"
          ]
        },
        {
          "name": "stderr",
          "output_type": "stream",
          "text": [
            " 20%|██        | 2/10 [07:21<29:27, 220.95s/it]"
          ]
        },
        {
          "name": "stdout",
          "output_type": "stream",
          "text": [
            "Train Loss: 0.6349 | Valid Loss: 0.8958\n"
          ]
        },
        {
          "name": "stderr",
          "output_type": "stream",
          "text": [
            " 30%|███       | 3/10 [11:02<25:47, 221.02s/it]"
          ]
        },
        {
          "name": "stdout",
          "output_type": "stream",
          "text": [
            "Train Loss: 0.3742 | Valid Loss: 0.8377\n"
          ]
        },
        {
          "name": "stderr",
          "output_type": "stream",
          "text": [
            " 40%|████      | 4/10 [14:43<22:06, 221.02s/it]"
          ]
        },
        {
          "name": "stdout",
          "output_type": "stream",
          "text": [
            "Train Loss: 0.2659 | Valid Loss: 0.8882\n"
          ]
        },
        {
          "name": "stderr",
          "output_type": "stream",
          "text": [
            " 50%|█████     | 5/10 [18:25<18:25, 221.07s/it]"
          ]
        },
        {
          "name": "stdout",
          "output_type": "stream",
          "text": [
            "Train Loss: 0.1992 | Valid Loss: 0.8943\n"
          ]
        },
        {
          "name": "stderr",
          "output_type": "stream",
          "text": [
            " 60%|██████    | 6/10 [22:06<14:44, 221.13s/it]"
          ]
        },
        {
          "name": "stdout",
          "output_type": "stream",
          "text": [
            "Train Loss: 0.1559 | Valid Loss: 0.8746\n"
          ]
        },
        {
          "name": "stderr",
          "output_type": "stream",
          "text": [
            " 70%|███████   | 7/10 [25:47<11:03, 221.24s/it]"
          ]
        },
        {
          "name": "stdout",
          "output_type": "stream",
          "text": [
            "Train Loss: 0.1269 | Valid Loss: 0.9596\n"
          ]
        },
        {
          "name": "stderr",
          "output_type": "stream",
          "text": [
            " 80%|████████  | 8/10 [29:28<07:22, 221.18s/it]"
          ]
        },
        {
          "name": "stdout",
          "output_type": "stream",
          "text": [
            "Train Loss: 0.1046 | Valid Loss: 1.0074\n"
          ]
        },
        {
          "name": "stderr",
          "output_type": "stream",
          "text": [
            " 90%|█████████ | 9/10 [33:09<03:41, 221.15s/it]"
          ]
        },
        {
          "name": "stdout",
          "output_type": "stream",
          "text": [
            "Train Loss: 0.0944 | Valid Loss: 1.0543\n"
          ]
        },
        {
          "name": "stderr",
          "output_type": "stream",
          "text": [
            "100%|██████████| 10/10 [36:51<00:00, 221.12s/it]"
          ]
        },
        {
          "name": "stdout",
          "output_type": "stream",
          "text": [
            "Train Loss: 0.0858 | Valid Loss: 1.0961\n"
          ]
        },
        {
          "name": "stderr",
          "output_type": "stream",
          "text": [
            "\n"
          ]
        },
        {
          "name": "stdout",
          "output_type": "stream",
          "text": [
            "\n",
            "Validation Accuracy: 0.3212\n"
          ]
        },
        {
          "name": "stderr",
          "output_type": "stream",
          "text": [
            "\u001b[34m\u001b[1mwandb\u001b[0m:                                                                                \n",
            "\u001b[34m\u001b[1mwandb\u001b[0m: \n",
            "\u001b[34m\u001b[1mwandb\u001b[0m: Run history:\n",
            "\u001b[34m\u001b[1mwandb\u001b[0m:           epoch ▁▂▃▃▄▅▆▆▇█\n",
            "\u001b[34m\u001b[1mwandb\u001b[0m:      train_loss █▄▂▂▂▁▁▁▁▁\n",
            "\u001b[34m\u001b[1mwandb\u001b[0m:    val_accuracy ▁\n",
            "\u001b[34m\u001b[1mwandb\u001b[0m: validation_loss █▂▁▂▂▁▃▃▄▄\n",
            "\u001b[34m\u001b[1mwandb\u001b[0m: \n",
            "\u001b[34m\u001b[1mwandb\u001b[0m: Run summary:\n",
            "\u001b[34m\u001b[1mwandb\u001b[0m:           epoch 9\n",
            "\u001b[34m\u001b[1mwandb\u001b[0m:      train_loss 0.0858\n",
            "\u001b[34m\u001b[1mwandb\u001b[0m:    val_accuracy 0.32125\n",
            "\u001b[34m\u001b[1mwandb\u001b[0m: validation_loss 1.09606\n",
            "\u001b[34m\u001b[1mwandb\u001b[0m: \n",
            "\u001b[34m\u001b[1mwandb\u001b[0m: 🚀 View run \u001b[33membedding_size_64_num_layers_3_hidden_size_2048                           _cell_type_LSTM_dp_0_lr_0.001_batch_32\u001b[0m at: \u001b[34m\u001b[4mhttps://wandb.ai/da24m021-indian-institute-of-technology-madras/da24m021_da6401_assignment3/runs/30pv1rr6\u001b[0m\n",
            "\u001b[34m\u001b[1mwandb\u001b[0m: ⭐️ View project at: \u001b[34m\u001b[4mhttps://wandb.ai/da24m021-indian-institute-of-technology-madras/da24m021_da6401_assignment3\u001b[0m\n",
            "\u001b[34m\u001b[1mwandb\u001b[0m: Synced 5 W&B file(s), 0 media file(s), 0 artifact file(s) and 0 other file(s)\n",
            "\u001b[34m\u001b[1mwandb\u001b[0m: Find logs at: \u001b[35m\u001b[1m./wandb/run-20250514_070720-30pv1rr6/logs\u001b[0m\n",
            "\u001b[34m\u001b[1mwandb\u001b[0m: Agent Starting Run: 7uohk3os with config:\n",
            "\u001b[34m\u001b[1mwandb\u001b[0m: \tbatch_size: 32\n",
            "\u001b[34m\u001b[1mwandb\u001b[0m: \tcell_type: GRU\n",
            "\u001b[34m\u001b[1mwandb\u001b[0m: \tdropout: 0\n",
            "\u001b[34m\u001b[1mwandb\u001b[0m: \tembedding_size: 64\n",
            "\u001b[34m\u001b[1mwandb\u001b[0m: \thidden_size: 2048\n",
            "\u001b[34m\u001b[1mwandb\u001b[0m: \tlearning_rate: 0.0005\n",
            "\u001b[34m\u001b[1mwandb\u001b[0m: \tnum_layers: 4\n",
            "\u001b[34m\u001b[1mwandb\u001b[0m: Tracking run with wandb version 0.19.9\n",
            "\u001b[34m\u001b[1mwandb\u001b[0m: Run data is saved locally in \u001b[35m\u001b[1m/kaggle/working/wandb/run-20250514_074517-7uohk3os\u001b[0m\n",
            "\u001b[34m\u001b[1mwandb\u001b[0m: Run \u001b[1m`wandb offline`\u001b[0m to turn off syncing.\n",
            "\u001b[34m\u001b[1mwandb\u001b[0m: Syncing run \u001b[33msilvery-sweep-6\u001b[0m\n",
            "\u001b[34m\u001b[1mwandb\u001b[0m: ⭐️ View project at \u001b[34m\u001b[4mhttps://wandb.ai/da24m021-indian-institute-of-technology-madras/da24m021_da6401_assignment3\u001b[0m\n",
            "\u001b[34m\u001b[1mwandb\u001b[0m: 🧹 View sweep at \u001b[34m\u001b[4mhttps://wandb.ai/da24m021-indian-institute-of-technology-madras/da24m021_da6401_assignment3/sweeps/6g2ha9nv\u001b[0m\n",
            "\u001b[34m\u001b[1mwandb\u001b[0m: 🚀 View run at \u001b[34m\u001b[4mhttps://wandb.ai/da24m021-indian-institute-of-technology-madras/da24m021_da6401_assignment3/runs/7uohk3os\u001b[0m\n",
            " 10%|█         | 1/10 [03:56<35:24, 236.06s/it]"
          ]
        },
        {
          "name": "stdout",
          "output_type": "stream",
          "text": [
            "Train Loss: 0.8256 | Valid Loss: 0.9673\n"
          ]
        },
        {
          "name": "stderr",
          "output_type": "stream",
          "text": [
            " 20%|██        | 2/10 [07:52<31:28, 236.02s/it]"
          ]
        },
        {
          "name": "stdout",
          "output_type": "stream",
          "text": [
            "Train Loss: 0.3991 | Valid Loss: 0.9331\n"
          ]
        },
        {
          "name": "stderr",
          "output_type": "stream",
          "text": [
            " 30%|███       | 3/10 [11:48<27:31, 236.00s/it]"
          ]
        },
        {
          "name": "stdout",
          "output_type": "stream",
          "text": [
            "Train Loss: 0.3110 | Valid Loss: 0.9416\n"
          ]
        },
        {
          "name": "stderr",
          "output_type": "stream",
          "text": [
            " 40%|████      | 4/10 [15:44<23:35, 236.00s/it]"
          ]
        },
        {
          "name": "stdout",
          "output_type": "stream",
          "text": [
            "Train Loss: 0.2630 | Valid Loss: 1.0093\n"
          ]
        },
        {
          "name": "stderr",
          "output_type": "stream",
          "text": [
            " 50%|█████     | 5/10 [19:40<19:40, 236.03s/it]"
          ]
        },
        {
          "name": "stdout",
          "output_type": "stream",
          "text": [
            "Train Loss: 0.2313 | Valid Loss: 0.9361\n"
          ]
        },
        {
          "name": "stderr",
          "output_type": "stream",
          "text": [
            " 60%|██████    | 6/10 [23:36<15:44, 236.03s/it]"
          ]
        },
        {
          "name": "stdout",
          "output_type": "stream",
          "text": [
            "Train Loss: 0.2128 | Valid Loss: 0.9970\n"
          ]
        },
        {
          "name": "stderr",
          "output_type": "stream",
          "text": [
            " 70%|███████   | 7/10 [27:31<11:47, 235.93s/it]"
          ]
        },
        {
          "name": "stdout",
          "output_type": "stream",
          "text": [
            "Train Loss: 0.2070 | Valid Loss: 1.0169\n"
          ]
        },
        {
          "name": "stderr",
          "output_type": "stream",
          "text": [
            " 80%|████████  | 8/10 [31:27<07:51, 235.93s/it]"
          ]
        },
        {
          "name": "stdout",
          "output_type": "stream",
          "text": [
            "Train Loss: 0.2021 | Valid Loss: 0.9949\n"
          ]
        },
        {
          "name": "stderr",
          "output_type": "stream",
          "text": [
            " 90%|█████████ | 9/10 [35:23<03:55, 235.95s/it]"
          ]
        },
        {
          "name": "stdout",
          "output_type": "stream",
          "text": [
            "Train Loss: 0.1891 | Valid Loss: 1.0453\n"
          ]
        },
        {
          "name": "stderr",
          "output_type": "stream",
          "text": [
            "100%|██████████| 10/10 [39:19<00:00, 235.97s/it]"
          ]
        },
        {
          "name": "stdout",
          "output_type": "stream",
          "text": [
            "Train Loss: 0.1850 | Valid Loss: 1.0523\n"
          ]
        },
        {
          "name": "stderr",
          "output_type": "stream",
          "text": [
            "\n"
          ]
        },
        {
          "name": "stdout",
          "output_type": "stream",
          "text": [
            "\n",
            "Validation Accuracy: 0.3426\n"
          ]
        },
        {
          "name": "stderr",
          "output_type": "stream",
          "text": [
            "\u001b[34m\u001b[1mwandb\u001b[0m:                                                                                \n",
            "\u001b[34m\u001b[1mwandb\u001b[0m: \n",
            "\u001b[34m\u001b[1mwandb\u001b[0m: Run history:\n",
            "\u001b[34m\u001b[1mwandb\u001b[0m:           epoch ▁▂▃▃▄▅▆▆▇█\n",
            "\u001b[34m\u001b[1mwandb\u001b[0m:      train_loss █▃▂▂▂▁▁▁▁▁\n",
            "\u001b[34m\u001b[1mwandb\u001b[0m:    val_accuracy ▁\n",
            "\u001b[34m\u001b[1mwandb\u001b[0m: validation_loss ▃▁▂▅▁▅▆▅██\n",
            "\u001b[34m\u001b[1mwandb\u001b[0m: \n",
            "\u001b[34m\u001b[1mwandb\u001b[0m: Run summary:\n",
            "\u001b[34m\u001b[1mwandb\u001b[0m:           epoch 9\n",
            "\u001b[34m\u001b[1mwandb\u001b[0m:      train_loss 0.18497\n",
            "\u001b[34m\u001b[1mwandb\u001b[0m:    val_accuracy 0.34259\n",
            "\u001b[34m\u001b[1mwandb\u001b[0m: validation_loss 1.05226\n",
            "\u001b[34m\u001b[1mwandb\u001b[0m: \n",
            "\u001b[34m\u001b[1mwandb\u001b[0m: 🚀 View run \u001b[33membedding_size_64_num_layers_4_hidden_size_2048                           _cell_type_GRU_dp_0_lr_0.0005_batch_32\u001b[0m at: \u001b[34m\u001b[4mhttps://wandb.ai/da24m021-indian-institute-of-technology-madras/da24m021_da6401_assignment3/runs/7uohk3os\u001b[0m\n",
            "\u001b[34m\u001b[1mwandb\u001b[0m: ⭐️ View project at: \u001b[34m\u001b[4mhttps://wandb.ai/da24m021-indian-institute-of-technology-madras/da24m021_da6401_assignment3\u001b[0m\n",
            "\u001b[34m\u001b[1mwandb\u001b[0m: Synced 5 W&B file(s), 0 media file(s), 0 artifact file(s) and 0 other file(s)\n",
            "\u001b[34m\u001b[1mwandb\u001b[0m: Find logs at: \u001b[35m\u001b[1m./wandb/run-20250514_074517-7uohk3os/logs\u001b[0m\n",
            "\u001b[34m\u001b[1mwandb\u001b[0m: Agent Starting Run: vpscd3wq with config:\n",
            "\u001b[34m\u001b[1mwandb\u001b[0m: \tbatch_size: 32\n",
            "\u001b[34m\u001b[1mwandb\u001b[0m: \tcell_type: GRU\n",
            "\u001b[34m\u001b[1mwandb\u001b[0m: \tdropout: 0\n",
            "\u001b[34m\u001b[1mwandb\u001b[0m: \tembedding_size: 256\n",
            "\u001b[34m\u001b[1mwandb\u001b[0m: \thidden_size: 1024\n",
            "\u001b[34m\u001b[1mwandb\u001b[0m: \tlearning_rate: 0.01\n",
            "\u001b[34m\u001b[1mwandb\u001b[0m: \tnum_layers: 4\n",
            "\u001b[34m\u001b[1mwandb\u001b[0m: Tracking run with wandb version 0.19.9\n",
            "\u001b[34m\u001b[1mwandb\u001b[0m: Run data is saved locally in \u001b[35m\u001b[1m/kaggle/working/wandb/run-20250514_082547-vpscd3wq\u001b[0m\n",
            "\u001b[34m\u001b[1mwandb\u001b[0m: Run \u001b[1m`wandb offline`\u001b[0m to turn off syncing.\n",
            "\u001b[34m\u001b[1mwandb\u001b[0m: Syncing run \u001b[33mlegendary-sweep-7\u001b[0m\n",
            "\u001b[34m\u001b[1mwandb\u001b[0m: ⭐️ View project at \u001b[34m\u001b[4mhttps://wandb.ai/da24m021-indian-institute-of-technology-madras/da24m021_da6401_assignment3\u001b[0m\n",
            "\u001b[34m\u001b[1mwandb\u001b[0m: 🧹 View sweep at \u001b[34m\u001b[4mhttps://wandb.ai/da24m021-indian-institute-of-technology-madras/da24m021_da6401_assignment3/sweeps/6g2ha9nv\u001b[0m\n",
            "\u001b[34m\u001b[1mwandb\u001b[0m: 🚀 View run at \u001b[34m\u001b[4mhttps://wandb.ai/da24m021-indian-institute-of-technology-madras/da24m021_da6401_assignment3/runs/vpscd3wq\u001b[0m\n",
            " 10%|█         | 1/10 [01:21<12:15, 81.76s/it]"
          ]
        },
        {
          "name": "stdout",
          "output_type": "stream",
          "text": [
            "Train Loss: 3.1389 | Valid Loss: 3.5658\n"
          ]
        },
        {
          "name": "stderr",
          "output_type": "stream",
          "text": [
            " 20%|██        | 2/10 [02:43<10:54, 81.81s/it]"
          ]
        },
        {
          "name": "stdout",
          "output_type": "stream",
          "text": [
            "Train Loss: 3.1354 | Valid Loss: 3.4678\n"
          ]
        },
        {
          "name": "stderr",
          "output_type": "stream",
          "text": [
            " 30%|███       | 3/10 [04:05<09:32, 81.85s/it]"
          ]
        },
        {
          "name": "stdout",
          "output_type": "stream",
          "text": [
            "Train Loss: 3.1062 | Valid Loss: 3.4313\n"
          ]
        },
        {
          "name": "stderr",
          "output_type": "stream",
          "text": [
            " 40%|████      | 4/10 [05:27<08:10, 81.82s/it]"
          ]
        },
        {
          "name": "stdout",
          "output_type": "stream",
          "text": [
            "Train Loss: 3.1680 | Valid Loss: 3.4684\n"
          ]
        },
        {
          "name": "stderr",
          "output_type": "stream",
          "text": [
            " 50%|█████     | 5/10 [06:49<06:49, 81.82s/it]"
          ]
        },
        {
          "name": "stdout",
          "output_type": "stream",
          "text": [
            "Train Loss: 3.0956 | Valid Loss: 3.3346\n"
          ]
        },
        {
          "name": "stderr",
          "output_type": "stream",
          "text": [
            " 60%|██████    | 6/10 [08:10<05:26, 81.75s/it]"
          ]
        },
        {
          "name": "stdout",
          "output_type": "stream",
          "text": [
            "Train Loss: 3.0662 | Valid Loss: 3.3870\n"
          ]
        },
        {
          "name": "stderr",
          "output_type": "stream",
          "text": [
            " 70%|███████   | 7/10 [09:32<04:05, 81.74s/it]"
          ]
        },
        {
          "name": "stdout",
          "output_type": "stream",
          "text": [
            "Train Loss: 3.1156 | Valid Loss: 3.5872\n"
          ]
        },
        {
          "name": "stderr",
          "output_type": "stream",
          "text": [
            " 80%|████████  | 8/10 [10:54<02:43, 81.73s/it]"
          ]
        },
        {
          "name": "stdout",
          "output_type": "stream",
          "text": [
            "Train Loss: 3.1406 | Valid Loss: 3.3921\n"
          ]
        },
        {
          "name": "stderr",
          "output_type": "stream",
          "text": [
            " 90%|█████████ | 9/10 [12:15<01:21, 81.72s/it]"
          ]
        },
        {
          "name": "stdout",
          "output_type": "stream",
          "text": [
            "Train Loss: 3.0923 | Valid Loss: 3.3760\n"
          ]
        },
        {
          "name": "stderr",
          "output_type": "stream",
          "text": [
            "100%|██████████| 10/10 [13:37<00:00, 81.76s/it]"
          ]
        },
        {
          "name": "stdout",
          "output_type": "stream",
          "text": [
            "Train Loss: 3.0553 | Valid Loss: 3.4310\n"
          ]
        },
        {
          "name": "stderr",
          "output_type": "stream",
          "text": [
            "\n"
          ]
        },
        {
          "name": "stdout",
          "output_type": "stream",
          "text": [
            "\n",
            "Validation Accuracy: 0.0000\n"
          ]
        },
        {
          "name": "stderr",
          "output_type": "stream",
          "text": [
            "\u001b[34m\u001b[1mwandb\u001b[0m:                                                                                \n",
            "\u001b[34m\u001b[1mwandb\u001b[0m: \n",
            "\u001b[34m\u001b[1mwandb\u001b[0m: Run history:\n",
            "\u001b[34m\u001b[1mwandb\u001b[0m:           epoch ▁▂▃▃▄▅▆▆▇█\n",
            "\u001b[34m\u001b[1mwandb\u001b[0m:      train_loss ▆▆▄█▄▂▅▆▃▁\n",
            "\u001b[34m\u001b[1mwandb\u001b[0m:    val_accuracy ▁\n",
            "\u001b[34m\u001b[1mwandb\u001b[0m: validation_loss ▇▅▄▅▁▂█▃▂▄\n",
            "\u001b[34m\u001b[1mwandb\u001b[0m: \n",
            "\u001b[34m\u001b[1mwandb\u001b[0m: Run summary:\n",
            "\u001b[34m\u001b[1mwandb\u001b[0m:           epoch 9\n",
            "\u001b[34m\u001b[1mwandb\u001b[0m:      train_loss 3.05528\n",
            "\u001b[34m\u001b[1mwandb\u001b[0m:    val_accuracy 0\n",
            "\u001b[34m\u001b[1mwandb\u001b[0m: validation_loss 3.43104\n",
            "\u001b[34m\u001b[1mwandb\u001b[0m: \n",
            "\u001b[34m\u001b[1mwandb\u001b[0m: 🚀 View run \u001b[33membedding_size_256_num_layers_4_hidden_size_1024                           _cell_type_GRU_dp_0_lr_0.01_batch_32\u001b[0m at: \u001b[34m\u001b[4mhttps://wandb.ai/da24m021-indian-institute-of-technology-madras/da24m021_da6401_assignment3/runs/vpscd3wq\u001b[0m\n",
            "\u001b[34m\u001b[1mwandb\u001b[0m: ⭐️ View project at: \u001b[34m\u001b[4mhttps://wandb.ai/da24m021-indian-institute-of-technology-madras/da24m021_da6401_assignment3\u001b[0m\n",
            "\u001b[34m\u001b[1mwandb\u001b[0m: Synced 5 W&B file(s), 0 media file(s), 0 artifact file(s) and 0 other file(s)\n",
            "\u001b[34m\u001b[1mwandb\u001b[0m: Find logs at: \u001b[35m\u001b[1m./wandb/run-20250514_082547-vpscd3wq/logs\u001b[0m\n",
            "\u001b[34m\u001b[1mwandb\u001b[0m: Agent Starting Run: 33pi1wse with config:\n",
            "\u001b[34m\u001b[1mwandb\u001b[0m: \tbatch_size: 32\n",
            "\u001b[34m\u001b[1mwandb\u001b[0m: \tcell_type: GRU\n",
            "\u001b[34m\u001b[1mwandb\u001b[0m: \tdropout: 0\n",
            "\u001b[34m\u001b[1mwandb\u001b[0m: \tembedding_size: 32\n",
            "\u001b[34m\u001b[1mwandb\u001b[0m: \thidden_size: 2048\n",
            "\u001b[34m\u001b[1mwandb\u001b[0m: \tlearning_rate: 0.0005\n",
            "\u001b[34m\u001b[1mwandb\u001b[0m: \tnum_layers: 4\n",
            "\u001b[34m\u001b[1mwandb\u001b[0m: Tracking run with wandb version 0.19.9\n",
            "\u001b[34m\u001b[1mwandb\u001b[0m: Run data is saved locally in \u001b[35m\u001b[1m/kaggle/working/wandb/run-20250514_084348-33pi1wse\u001b[0m\n",
            "\u001b[34m\u001b[1mwandb\u001b[0m: Run \u001b[1m`wandb offline`\u001b[0m to turn off syncing.\n",
            "\u001b[34m\u001b[1mwandb\u001b[0m: Syncing run \u001b[33mgrateful-sweep-8\u001b[0m\n",
            "\u001b[34m\u001b[1mwandb\u001b[0m: ⭐️ View project at \u001b[34m\u001b[4mhttps://wandb.ai/da24m021-indian-institute-of-technology-madras/da24m021_da6401_assignment3\u001b[0m\n",
            "\u001b[34m\u001b[1mwandb\u001b[0m: 🧹 View sweep at \u001b[34m\u001b[4mhttps://wandb.ai/da24m021-indian-institute-of-technology-madras/da24m021_da6401_assignment3/sweeps/6g2ha9nv\u001b[0m\n",
            "\u001b[34m\u001b[1mwandb\u001b[0m: 🚀 View run at \u001b[34m\u001b[4mhttps://wandb.ai/da24m021-indian-institute-of-technology-madras/da24m021_da6401_assignment3/runs/33pi1wse\u001b[0m\n",
            " 10%|█         | 1/10 [03:55<35:20, 235.62s/it]"
          ]
        },
        {
          "name": "stdout",
          "output_type": "stream",
          "text": [
            "Train Loss: 0.8683 | Valid Loss: 0.9529\n"
          ]
        },
        {
          "name": "stderr",
          "output_type": "stream",
          "text": [
            " 20%|██        | 2/10 [07:51<31:24, 235.62s/it]"
          ]
        },
        {
          "name": "stdout",
          "output_type": "stream",
          "text": [
            "Train Loss: 0.4093 | Valid Loss: 0.9091\n"
          ]
        },
        {
          "name": "stderr",
          "output_type": "stream",
          "text": [
            " 30%|███       | 3/10 [11:46<27:29, 235.65s/it]"
          ]
        },
        {
          "name": "stdout",
          "output_type": "stream",
          "text": [
            "Train Loss: 0.3162 | Valid Loss: 0.9200\n"
          ]
        },
        {
          "name": "stderr",
          "output_type": "stream",
          "text": [
            " 40%|████      | 4/10 [15:42<23:33, 235.55s/it]"
          ]
        },
        {
          "name": "stdout",
          "output_type": "stream",
          "text": [
            "Train Loss: 0.2670 | Valid Loss: 0.9463\n"
          ]
        },
        {
          "name": "stderr",
          "output_type": "stream",
          "text": [
            " 50%|█████     | 5/10 [19:37<19:37, 235.58s/it]"
          ]
        },
        {
          "name": "stdout",
          "output_type": "stream",
          "text": [
            "Train Loss: 0.2366 | Valid Loss: 1.0170\n"
          ]
        },
        {
          "name": "stderr",
          "output_type": "stream",
          "text": [
            " 60%|██████    | 6/10 [23:33<15:41, 235.49s/it]"
          ]
        },
        {
          "name": "stdout",
          "output_type": "stream",
          "text": [
            "Train Loss: 0.2207 | Valid Loss: 0.9745\n"
          ]
        },
        {
          "name": "stderr",
          "output_type": "stream",
          "text": [
            " 70%|███████   | 7/10 [27:28<11:46, 235.49s/it]"
          ]
        },
        {
          "name": "stdout",
          "output_type": "stream",
          "text": [
            "Train Loss: 0.2028 | Valid Loss: 0.9855\n"
          ]
        },
        {
          "name": "stderr",
          "output_type": "stream",
          "text": [
            " 80%|████████  | 8/10 [31:24<07:51, 235.58s/it]"
          ]
        },
        {
          "name": "stdout",
          "output_type": "stream",
          "text": [
            "Train Loss: 0.1964 | Valid Loss: 1.0618\n"
          ]
        },
        {
          "name": "stderr",
          "output_type": "stream",
          "text": [
            " 90%|█████████ | 9/10 [35:19<03:55, 235.48s/it]"
          ]
        },
        {
          "name": "stdout",
          "output_type": "stream",
          "text": [
            "Train Loss: 0.1896 | Valid Loss: 1.0550\n"
          ]
        },
        {
          "name": "stderr",
          "output_type": "stream",
          "text": [
            "100%|██████████| 10/10 [39:15<00:00, 235.54s/it]"
          ]
        },
        {
          "name": "stdout",
          "output_type": "stream",
          "text": [
            "Train Loss: 0.1900 | Valid Loss: 1.1004\n"
          ]
        },
        {
          "name": "stderr",
          "output_type": "stream",
          "text": [
            "\n"
          ]
        },
        {
          "name": "stdout",
          "output_type": "stream",
          "text": [
            "\n",
            "Validation Accuracy: 0.3307\n"
          ]
        },
        {
          "name": "stderr",
          "output_type": "stream",
          "text": [
            "\u001b[34m\u001b[1mwandb\u001b[0m:                                                                                \n",
            "\u001b[34m\u001b[1mwandb\u001b[0m: \n",
            "\u001b[34m\u001b[1mwandb\u001b[0m: Run history:\n",
            "\u001b[34m\u001b[1mwandb\u001b[0m:           epoch ▁▂▃▃▄▅▆▆▇█\n",
            "\u001b[34m\u001b[1mwandb\u001b[0m:      train_loss █▃▂▂▁▁▁▁▁▁\n",
            "\u001b[34m\u001b[1mwandb\u001b[0m:    val_accuracy ▁\n",
            "\u001b[34m\u001b[1mwandb\u001b[0m: validation_loss ▃▁▁▂▅▃▄▇▆█\n",
            "\u001b[34m\u001b[1mwandb\u001b[0m: \n",
            "\u001b[34m\u001b[1mwandb\u001b[0m: Run summary:\n",
            "\u001b[34m\u001b[1mwandb\u001b[0m:           epoch 9\n",
            "\u001b[34m\u001b[1mwandb\u001b[0m:      train_loss 0.19005\n",
            "\u001b[34m\u001b[1mwandb\u001b[0m:    val_accuracy 0.33066\n",
            "\u001b[34m\u001b[1mwandb\u001b[0m: validation_loss 1.10037\n",
            "\u001b[34m\u001b[1mwandb\u001b[0m: \n",
            "\u001b[34m\u001b[1mwandb\u001b[0m: 🚀 View run \u001b[33membedding_size_32_num_layers_4_hidden_size_2048                           _cell_type_GRU_dp_0_lr_0.0005_batch_32\u001b[0m at: \u001b[34m\u001b[4mhttps://wandb.ai/da24m021-indian-institute-of-technology-madras/da24m021_da6401_assignment3/runs/33pi1wse\u001b[0m\n",
            "\u001b[34m\u001b[1mwandb\u001b[0m: ⭐️ View project at: \u001b[34m\u001b[4mhttps://wandb.ai/da24m021-indian-institute-of-technology-madras/da24m021_da6401_assignment3\u001b[0m\n",
            "\u001b[34m\u001b[1mwandb\u001b[0m: Synced 5 W&B file(s), 0 media file(s), 0 artifact file(s) and 0 other file(s)\n",
            "\u001b[34m\u001b[1mwandb\u001b[0m: Find logs at: \u001b[35m\u001b[1m./wandb/run-20250514_084348-33pi1wse/logs\u001b[0m\n",
            "\u001b[34m\u001b[1mwandb\u001b[0m: Agent Starting Run: 8o7u3hc0 with config:\n",
            "\u001b[34m\u001b[1mwandb\u001b[0m: \tbatch_size: 32\n",
            "\u001b[34m\u001b[1mwandb\u001b[0m: \tcell_type: GRU\n",
            "\u001b[34m\u001b[1mwandb\u001b[0m: \tdropout: 0\n",
            "\u001b[34m\u001b[1mwandb\u001b[0m: \tembedding_size: 16\n",
            "\u001b[34m\u001b[1mwandb\u001b[0m: \thidden_size: 2048\n",
            "\u001b[34m\u001b[1mwandb\u001b[0m: \tlearning_rate: 0.0005\n",
            "\u001b[34m\u001b[1mwandb\u001b[0m: \tnum_layers: 3\n",
            "\u001b[34m\u001b[1mwandb\u001b[0m: Tracking run with wandb version 0.19.9\n",
            "\u001b[34m\u001b[1mwandb\u001b[0m: Run data is saved locally in \u001b[35m\u001b[1m/kaggle/working/wandb/run-20250514_092414-8o7u3hc0\u001b[0m\n",
            "\u001b[34m\u001b[1mwandb\u001b[0m: Run \u001b[1m`wandb offline`\u001b[0m to turn off syncing.\n",
            "\u001b[34m\u001b[1mwandb\u001b[0m: Syncing run \u001b[33mdenim-sweep-9\u001b[0m\n",
            "\u001b[34m\u001b[1mwandb\u001b[0m: ⭐️ View project at \u001b[34m\u001b[4mhttps://wandb.ai/da24m021-indian-institute-of-technology-madras/da24m021_da6401_assignment3\u001b[0m\n",
            "\u001b[34m\u001b[1mwandb\u001b[0m: 🧹 View sweep at \u001b[34m\u001b[4mhttps://wandb.ai/da24m021-indian-institute-of-technology-madras/da24m021_da6401_assignment3/sweeps/6g2ha9nv\u001b[0m\n",
            "\u001b[34m\u001b[1mwandb\u001b[0m: 🚀 View run at \u001b[34m\u001b[4mhttps://wandb.ai/da24m021-indian-institute-of-technology-madras/da24m021_da6401_assignment3/runs/8o7u3hc0\u001b[0m\n",
            " 10%|█         | 1/10 [02:54<26:12, 174.71s/it]"
          ]
        },
        {
          "name": "stdout",
          "output_type": "stream",
          "text": [
            "Train Loss: 0.8550 | Valid Loss: 0.9038\n"
          ]
        },
        {
          "name": "stderr",
          "output_type": "stream",
          "text": [
            " 20%|██        | 2/10 [05:49<23:19, 174.89s/it]"
          ]
        },
        {
          "name": "stdout",
          "output_type": "stream",
          "text": [
            "Train Loss: 0.3780 | Valid Loss: 0.8949\n"
          ]
        },
        {
          "name": "stderr",
          "output_type": "stream",
          "text": [
            " 30%|███       | 3/10 [08:45<20:25, 175.11s/it]"
          ]
        },
        {
          "name": "stdout",
          "output_type": "stream",
          "text": [
            "Train Loss: 0.2758 | Valid Loss: 0.8904\n"
          ]
        },
        {
          "name": "stderr",
          "output_type": "stream",
          "text": [
            " 40%|████      | 4/10 [11:40<17:30, 175.06s/it]"
          ]
        },
        {
          "name": "stdout",
          "output_type": "stream",
          "text": [
            "Train Loss: 0.2226 | Valid Loss: 0.9745\n"
          ]
        },
        {
          "name": "stderr",
          "output_type": "stream",
          "text": [
            " 50%|█████     | 5/10 [14:34<14:34, 174.98s/it]"
          ]
        },
        {
          "name": "stdout",
          "output_type": "stream",
          "text": [
            "Train Loss: 0.1856 | Valid Loss: 1.0371\n"
          ]
        },
        {
          "name": "stderr",
          "output_type": "stream",
          "text": [
            " 60%|██████    | 6/10 [17:29<11:39, 174.98s/it]"
          ]
        },
        {
          "name": "stdout",
          "output_type": "stream",
          "text": [
            "Train Loss: 0.1629 | Valid Loss: 1.0135\n"
          ]
        },
        {
          "name": "stderr",
          "output_type": "stream",
          "text": [
            " 70%|███████   | 7/10 [20:24<08:44, 174.98s/it]"
          ]
        },
        {
          "name": "stdout",
          "output_type": "stream",
          "text": [
            "Train Loss: 0.1488 | Valid Loss: 1.0710\n"
          ]
        },
        {
          "name": "stderr",
          "output_type": "stream",
          "text": [
            " 80%|████████  | 8/10 [23:19<05:50, 175.00s/it]"
          ]
        },
        {
          "name": "stdout",
          "output_type": "stream",
          "text": [
            "Train Loss: 0.1426 | Valid Loss: 1.0894\n"
          ]
        },
        {
          "name": "stderr",
          "output_type": "stream",
          "text": [
            " 90%|█████████ | 9/10 [26:15<02:55, 175.03s/it]"
          ]
        },
        {
          "name": "stdout",
          "output_type": "stream",
          "text": [
            "Train Loss: 0.1388 | Valid Loss: 1.1143\n"
          ]
        },
        {
          "name": "stderr",
          "output_type": "stream",
          "text": [
            "100%|██████████| 10/10 [29:10<00:00, 175.01s/it]"
          ]
        },
        {
          "name": "stdout",
          "output_type": "stream",
          "text": [
            "Train Loss: 0.1288 | Valid Loss: 1.2102\n"
          ]
        },
        {
          "name": "stderr",
          "output_type": "stream",
          "text": [
            "\n"
          ]
        },
        {
          "name": "stdout",
          "output_type": "stream",
          "text": [
            "\n",
            "Validation Accuracy: 0.3440\n"
          ]
        },
        {
          "name": "stderr",
          "output_type": "stream",
          "text": [
            "\u001b[34m\u001b[1mwandb\u001b[0m:                                                                                \n",
            "\u001b[34m\u001b[1mwandb\u001b[0m: \n",
            "\u001b[34m\u001b[1mwandb\u001b[0m: Run history:\n",
            "\u001b[34m\u001b[1mwandb\u001b[0m:           epoch ▁▂▃▃▄▅▆▆▇█\n",
            "\u001b[34m\u001b[1mwandb\u001b[0m:      train_loss █▃▂▂▂▁▁▁▁▁\n",
            "\u001b[34m\u001b[1mwandb\u001b[0m:    val_accuracy ▁\n",
            "\u001b[34m\u001b[1mwandb\u001b[0m: validation_loss ▁▁▁▃▄▄▅▅▆█\n",
            "\u001b[34m\u001b[1mwandb\u001b[0m: \n",
            "\u001b[34m\u001b[1mwandb\u001b[0m: Run summary:\n",
            "\u001b[34m\u001b[1mwandb\u001b[0m:           epoch 9\n",
            "\u001b[34m\u001b[1mwandb\u001b[0m:      train_loss 0.12878\n",
            "\u001b[34m\u001b[1mwandb\u001b[0m:    val_accuracy 0.34397\n",
            "\u001b[34m\u001b[1mwandb\u001b[0m: validation_loss 1.21016\n",
            "\u001b[34m\u001b[1mwandb\u001b[0m: \n",
            "\u001b[34m\u001b[1mwandb\u001b[0m: 🚀 View run \u001b[33membedding_size_16_num_layers_3_hidden_size_2048                           _cell_type_GRU_dp_0_lr_0.0005_batch_32\u001b[0m at: \u001b[34m\u001b[4mhttps://wandb.ai/da24m021-indian-institute-of-technology-madras/da24m021_da6401_assignment3/runs/8o7u3hc0\u001b[0m\n",
            "\u001b[34m\u001b[1mwandb\u001b[0m: ⭐️ View project at: \u001b[34m\u001b[4mhttps://wandb.ai/da24m021-indian-institute-of-technology-madras/da24m021_da6401_assignment3\u001b[0m\n",
            "\u001b[34m\u001b[1mwandb\u001b[0m: Synced 5 W&B file(s), 0 media file(s), 0 artifact file(s) and 0 other file(s)\n",
            "\u001b[34m\u001b[1mwandb\u001b[0m: Find logs at: \u001b[35m\u001b[1m./wandb/run-20250514_092414-8o7u3hc0/logs\u001b[0m\n",
            "\u001b[34m\u001b[1mwandb\u001b[0m: Agent Starting Run: udnvb79f with config:\n",
            "\u001b[34m\u001b[1mwandb\u001b[0m: \tbatch_size: 32\n",
            "\u001b[34m\u001b[1mwandb\u001b[0m: \tcell_type: GRU\n",
            "\u001b[34m\u001b[1mwandb\u001b[0m: \tdropout: 0.2\n",
            "\u001b[34m\u001b[1mwandb\u001b[0m: \tembedding_size: 16\n",
            "\u001b[34m\u001b[1mwandb\u001b[0m: \thidden_size: 512\n",
            "\u001b[34m\u001b[1mwandb\u001b[0m: \tlearning_rate: 0.0005\n",
            "\u001b[34m\u001b[1mwandb\u001b[0m: \tnum_layers: 3\n",
            "\u001b[34m\u001b[1mwandb\u001b[0m: Tracking run with wandb version 0.19.9\n",
            "\u001b[34m\u001b[1mwandb\u001b[0m: Run data is saved locally in \u001b[35m\u001b[1m/kaggle/working/wandb/run-20250514_095421-udnvb79f\u001b[0m\n",
            "\u001b[34m\u001b[1mwandb\u001b[0m: Run \u001b[1m`wandb offline`\u001b[0m to turn off syncing.\n",
            "\u001b[34m\u001b[1mwandb\u001b[0m: Syncing run \u001b[33mclassic-sweep-10\u001b[0m\n",
            "\u001b[34m\u001b[1mwandb\u001b[0m: ⭐️ View project at \u001b[34m\u001b[4mhttps://wandb.ai/da24m021-indian-institute-of-technology-madras/da24m021_da6401_assignment3\u001b[0m\n",
            "\u001b[34m\u001b[1mwandb\u001b[0m: 🧹 View sweep at \u001b[34m\u001b[4mhttps://wandb.ai/da24m021-indian-institute-of-technology-madras/da24m021_da6401_assignment3/sweeps/6g2ha9nv\u001b[0m\n",
            "\u001b[34m\u001b[1mwandb\u001b[0m: 🚀 View run at \u001b[34m\u001b[4mhttps://wandb.ai/da24m021-indian-institute-of-technology-madras/da24m021_da6401_assignment3/runs/udnvb79f\u001b[0m\n",
            " 10%|█         | 1/10 [00:47<07:07, 47.45s/it]"
          ]
        },
        {
          "name": "stdout",
          "output_type": "stream",
          "text": [
            "Train Loss: 1.2562 | Valid Loss: 0.9741\n"
          ]
        },
        {
          "name": "stderr",
          "output_type": "stream",
          "text": [
            " 20%|██        | 2/10 [01:34<06:19, 47.46s/it]"
          ]
        },
        {
          "name": "stdout",
          "output_type": "stream",
          "text": [
            "Train Loss: 0.5921 | Valid Loss: 0.8597\n"
          ]
        },
        {
          "name": "stderr",
          "output_type": "stream",
          "text": [
            " 30%|███       | 3/10 [02:22<05:31, 47.34s/it]"
          ]
        },
        {
          "name": "stdout",
          "output_type": "stream",
          "text": [
            "Train Loss: 0.4442 | Valid Loss: 0.8529\n"
          ]
        },
        {
          "name": "stderr",
          "output_type": "stream",
          "text": [
            " 40%|████      | 4/10 [03:10<04:45, 47.58s/it]"
          ]
        },
        {
          "name": "stdout",
          "output_type": "stream",
          "text": [
            "Train Loss: 0.3662 | Valid Loss: 0.8364\n"
          ]
        },
        {
          "name": "stderr",
          "output_type": "stream",
          "text": [
            " 50%|█████     | 5/10 [03:58<03:59, 47.85s/it]"
          ]
        },
        {
          "name": "stdout",
          "output_type": "stream",
          "text": [
            "Train Loss: 0.3103 | Valid Loss: 0.8898\n"
          ]
        },
        {
          "name": "stderr",
          "output_type": "stream",
          "text": [
            " 60%|██████    | 6/10 [04:47<03:13, 48.36s/it]"
          ]
        },
        {
          "name": "stdout",
          "output_type": "stream",
          "text": [
            "Train Loss: 0.2705 | Valid Loss: 0.8659\n"
          ]
        },
        {
          "name": "stderr",
          "output_type": "stream",
          "text": [
            " 70%|███████   | 7/10 [05:36<02:25, 48.47s/it]"
          ]
        },
        {
          "name": "stdout",
          "output_type": "stream",
          "text": [
            "Train Loss: 0.2396 | Valid Loss: 0.8414\n"
          ]
        },
        {
          "name": "stderr",
          "output_type": "stream",
          "text": [
            " 80%|████████  | 8/10 [06:25<01:37, 48.59s/it]"
          ]
        },
        {
          "name": "stdout",
          "output_type": "stream",
          "text": [
            "Train Loss: 0.2155 | Valid Loss: 0.8970\n"
          ]
        },
        {
          "name": "stderr",
          "output_type": "stream",
          "text": [
            " 90%|█████████ | 9/10 [07:14<00:48, 48.70s/it]"
          ]
        },
        {
          "name": "stdout",
          "output_type": "stream",
          "text": [
            "Train Loss: 0.1942 | Valid Loss: 0.9335\n"
          ]
        },
        {
          "name": "stderr",
          "output_type": "stream",
          "text": [
            "100%|██████████| 10/10 [08:02<00:00, 48.23s/it]"
          ]
        },
        {
          "name": "stdout",
          "output_type": "stream",
          "text": [
            "Train Loss: 0.1775 | Valid Loss: 0.9492\n"
          ]
        },
        {
          "name": "stderr",
          "output_type": "stream",
          "text": [
            "\n"
          ]
        },
        {
          "name": "stdout",
          "output_type": "stream",
          "text": [
            "\n",
            "Validation Accuracy: 0.3635\n"
          ]
        },
        {
          "name": "stderr",
          "output_type": "stream",
          "text": [
            "\u001b[34m\u001b[1mwandb\u001b[0m:                                                                                \n",
            "\u001b[34m\u001b[1mwandb\u001b[0m: \n",
            "\u001b[34m\u001b[1mwandb\u001b[0m: Run history:\n",
            "\u001b[34m\u001b[1mwandb\u001b[0m:           epoch ▁▂▃▃▄▅▆▆▇█\n",
            "\u001b[34m\u001b[1mwandb\u001b[0m:      train_loss █▄▃▂▂▂▁▁▁▁\n",
            "\u001b[34m\u001b[1mwandb\u001b[0m:    val_accuracy ▁\n",
            "\u001b[34m\u001b[1mwandb\u001b[0m: validation_loss █▂▂▁▄▂▁▄▆▇\n",
            "\u001b[34m\u001b[1mwandb\u001b[0m: \n",
            "\u001b[34m\u001b[1mwandb\u001b[0m: Run summary:\n",
            "\u001b[34m\u001b[1mwandb\u001b[0m:           epoch 9\n",
            "\u001b[34m\u001b[1mwandb\u001b[0m:      train_loss 0.17749\n",
            "\u001b[34m\u001b[1mwandb\u001b[0m:    val_accuracy 0.36347\n",
            "\u001b[34m\u001b[1mwandb\u001b[0m: validation_loss 0.94915\n",
            "\u001b[34m\u001b[1mwandb\u001b[0m: \n",
            "\u001b[34m\u001b[1mwandb\u001b[0m: 🚀 View run \u001b[33membedding_size_16_num_layers_3_hidden_size_512                           _cell_type_GRU_dp_0.2_lr_0.0005_batch_32\u001b[0m at: \u001b[34m\u001b[4mhttps://wandb.ai/da24m021-indian-institute-of-technology-madras/da24m021_da6401_assignment3/runs/udnvb79f\u001b[0m\n",
            "\u001b[34m\u001b[1mwandb\u001b[0m: ⭐️ View project at: \u001b[34m\u001b[4mhttps://wandb.ai/da24m021-indian-institute-of-technology-madras/da24m021_da6401_assignment3\u001b[0m\n",
            "\u001b[34m\u001b[1mwandb\u001b[0m: Synced 5 W&B file(s), 0 media file(s), 0 artifact file(s) and 0 other file(s)\n",
            "\u001b[34m\u001b[1mwandb\u001b[0m: Find logs at: \u001b[35m\u001b[1m./wandb/run-20250514_095421-udnvb79f/logs\u001b[0m\n",
            "\u001b[34m\u001b[1mwandb\u001b[0m: Agent Starting Run: 6udggq7e with config:\n",
            "\u001b[34m\u001b[1mwandb\u001b[0m: \tbatch_size: 32\n",
            "\u001b[34m\u001b[1mwandb\u001b[0m: \tcell_type: GRU\n",
            "\u001b[34m\u001b[1mwandb\u001b[0m: \tdropout: 0.2\n",
            "\u001b[34m\u001b[1mwandb\u001b[0m: \tembedding_size: 32\n",
            "\u001b[34m\u001b[1mwandb\u001b[0m: \thidden_size: 1024\n",
            "\u001b[34m\u001b[1mwandb\u001b[0m: \tlearning_rate: 0.0005\n",
            "\u001b[34m\u001b[1mwandb\u001b[0m: \tnum_layers: 2\n",
            "\u001b[34m\u001b[1mwandb\u001b[0m: Tracking run with wandb version 0.19.9\n",
            "\u001b[34m\u001b[1mwandb\u001b[0m: Run data is saved locally in \u001b[35m\u001b[1m/kaggle/working/wandb/run-20250514_100253-6udggq7e\u001b[0m\n",
            "\u001b[34m\u001b[1mwandb\u001b[0m: Run \u001b[1m`wandb offline`\u001b[0m to turn off syncing.\n",
            "\u001b[34m\u001b[1mwandb\u001b[0m: Syncing run \u001b[33mstilted-sweep-11\u001b[0m\n",
            "\u001b[34m\u001b[1mwandb\u001b[0m: ⭐️ View project at \u001b[34m\u001b[4mhttps://wandb.ai/da24m021-indian-institute-of-technology-madras/da24m021_da6401_assignment3\u001b[0m\n",
            "\u001b[34m\u001b[1mwandb\u001b[0m: 🧹 View sweep at \u001b[34m\u001b[4mhttps://wandb.ai/da24m021-indian-institute-of-technology-madras/da24m021_da6401_assignment3/sweeps/6g2ha9nv\u001b[0m\n",
            "\u001b[34m\u001b[1mwandb\u001b[0m: 🚀 View run at \u001b[34m\u001b[4mhttps://wandb.ai/da24m021-indian-institute-of-technology-madras/da24m021_da6401_assignment3/runs/6udggq7e\u001b[0m\n",
            " 10%|█         | 1/10 [00:45<06:52, 45.79s/it]"
          ]
        },
        {
          "name": "stdout",
          "output_type": "stream",
          "text": [
            "Train Loss: 0.9544 | Valid Loss: 0.9038\n"
          ]
        },
        {
          "name": "stderr",
          "output_type": "stream",
          "text": [
            " 20%|██        | 2/10 [01:31<06:06, 45.84s/it]"
          ]
        },
        {
          "name": "stdout",
          "output_type": "stream",
          "text": [
            "Train Loss: 0.4494 | Valid Loss: 0.8506\n"
          ]
        },
        {
          "name": "stderr",
          "output_type": "stream",
          "text": [
            " 30%|███       | 3/10 [02:18<05:22, 46.13s/it]"
          ]
        },
        {
          "name": "stdout",
          "output_type": "stream",
          "text": [
            "Train Loss: 0.3314 | Valid Loss: 0.8320\n"
          ]
        },
        {
          "name": "stderr",
          "output_type": "stream",
          "text": [
            " 40%|████      | 4/10 [03:04<04:37, 46.27s/it]"
          ]
        },
        {
          "name": "stdout",
          "output_type": "stream",
          "text": [
            "Train Loss: 0.2637 | Valid Loss: 0.8518\n"
          ]
        },
        {
          "name": "stderr",
          "output_type": "stream",
          "text": [
            " 50%|█████     | 5/10 [03:51<03:51, 46.31s/it]"
          ]
        },
        {
          "name": "stdout",
          "output_type": "stream",
          "text": [
            "Train Loss: 0.2156 | Valid Loss: 0.8918\n"
          ]
        },
        {
          "name": "stderr",
          "output_type": "stream",
          "text": [
            " 60%|██████    | 6/10 [04:37<03:05, 46.25s/it]"
          ]
        },
        {
          "name": "stdout",
          "output_type": "stream",
          "text": [
            "Train Loss: 0.1786 | Valid Loss: 0.9679\n"
          ]
        },
        {
          "name": "stderr",
          "output_type": "stream",
          "text": [
            " 70%|███████   | 7/10 [05:23<02:18, 46.25s/it]"
          ]
        },
        {
          "name": "stdout",
          "output_type": "stream",
          "text": [
            "Train Loss: 0.1578 | Valid Loss: 0.9622\n"
          ]
        },
        {
          "name": "stderr",
          "output_type": "stream",
          "text": [
            " 80%|████████  | 8/10 [06:09<01:32, 46.27s/it]"
          ]
        },
        {
          "name": "stdout",
          "output_type": "stream",
          "text": [
            "Train Loss: 0.1372 | Valid Loss: 1.0371\n"
          ]
        },
        {
          "name": "stderr",
          "output_type": "stream",
          "text": [
            " 90%|█████████ | 9/10 [06:56<00:46, 46.33s/it]"
          ]
        },
        {
          "name": "stdout",
          "output_type": "stream",
          "text": [
            "Train Loss: 0.1274 | Valid Loss: 1.0526\n"
          ]
        },
        {
          "name": "stderr",
          "output_type": "stream",
          "text": [
            "100%|██████████| 10/10 [07:42<00:00, 46.27s/it]"
          ]
        },
        {
          "name": "stdout",
          "output_type": "stream",
          "text": [
            "Train Loss: 0.1213 | Valid Loss: 1.0846\n"
          ]
        },
        {
          "name": "stderr",
          "output_type": "stream",
          "text": [
            "\n"
          ]
        },
        {
          "name": "stdout",
          "output_type": "stream",
          "text": [
            "\n",
            "Validation Accuracy: 0.3371\n"
          ]
        },
        {
          "name": "stderr",
          "output_type": "stream",
          "text": [
            "\u001b[34m\u001b[1mwandb\u001b[0m:                                                                                \n",
            "\u001b[34m\u001b[1mwandb\u001b[0m: \n",
            "\u001b[34m\u001b[1mwandb\u001b[0m: Run history:\n",
            "\u001b[34m\u001b[1mwandb\u001b[0m:           epoch ▁▂▃▃▄▅▆▆▇█\n",
            "\u001b[34m\u001b[1mwandb\u001b[0m:      train_loss █▄▃▂▂▁▁▁▁▁\n",
            "\u001b[34m\u001b[1mwandb\u001b[0m:    val_accuracy ▁\n",
            "\u001b[34m\u001b[1mwandb\u001b[0m: validation_loss ▃▂▁▂▃▅▅▇▇█\n",
            "\u001b[34m\u001b[1mwandb\u001b[0m: \n",
            "\u001b[34m\u001b[1mwandb\u001b[0m: Run summary:\n",
            "\u001b[34m\u001b[1mwandb\u001b[0m:           epoch 9\n",
            "\u001b[34m\u001b[1mwandb\u001b[0m:      train_loss 0.12132\n",
            "\u001b[34m\u001b[1mwandb\u001b[0m:    val_accuracy 0.33708\n",
            "\u001b[34m\u001b[1mwandb\u001b[0m: validation_loss 1.08464\n",
            "\u001b[34m\u001b[1mwandb\u001b[0m: \n",
            "\u001b[34m\u001b[1mwandb\u001b[0m: 🚀 View run \u001b[33membedding_size_32_num_layers_2_hidden_size_1024                           _cell_type_GRU_dp_0.2_lr_0.0005_batch_32\u001b[0m at: \u001b[34m\u001b[4mhttps://wandb.ai/da24m021-indian-institute-of-technology-madras/da24m021_da6401_assignment3/runs/6udggq7e\u001b[0m\n",
            "\u001b[34m\u001b[1mwandb\u001b[0m: ⭐️ View project at: \u001b[34m\u001b[4mhttps://wandb.ai/da24m021-indian-institute-of-technology-madras/da24m021_da6401_assignment3\u001b[0m\n",
            "\u001b[34m\u001b[1mwandb\u001b[0m: Synced 5 W&B file(s), 0 media file(s), 0 artifact file(s) and 0 other file(s)\n",
            "\u001b[34m\u001b[1mwandb\u001b[0m: Find logs at: \u001b[35m\u001b[1m./wandb/run-20250514_100253-6udggq7e/logs\u001b[0m\n",
            "\u001b[34m\u001b[1mwandb\u001b[0m: Agent Starting Run: dedwmc0b with config:\n",
            "\u001b[34m\u001b[1mwandb\u001b[0m: \tbatch_size: 32\n",
            "\u001b[34m\u001b[1mwandb\u001b[0m: \tcell_type: LSTM\n",
            "\u001b[34m\u001b[1mwandb\u001b[0m: \tdropout: 0\n",
            "\u001b[34m\u001b[1mwandb\u001b[0m: \tembedding_size: 16\n",
            "\u001b[34m\u001b[1mwandb\u001b[0m: \thidden_size: 512\n",
            "\u001b[34m\u001b[1mwandb\u001b[0m: \tlearning_rate: 0.0005\n",
            "\u001b[34m\u001b[1mwandb\u001b[0m: \tnum_layers: 4\n",
            "\u001b[34m\u001b[1mwandb\u001b[0m: Tracking run with wandb version 0.19.9\n",
            "\u001b[34m\u001b[1mwandb\u001b[0m: Run data is saved locally in \u001b[35m\u001b[1m/kaggle/working/wandb/run-20250514_101104-dedwmc0b\u001b[0m\n",
            "\u001b[34m\u001b[1mwandb\u001b[0m: Run \u001b[1m`wandb offline`\u001b[0m to turn off syncing.\n",
            "\u001b[34m\u001b[1mwandb\u001b[0m: Syncing run \u001b[33micy-sweep-12\u001b[0m\n",
            "\u001b[34m\u001b[1mwandb\u001b[0m: ⭐️ View project at \u001b[34m\u001b[4mhttps://wandb.ai/da24m021-indian-institute-of-technology-madras/da24m021_da6401_assignment3\u001b[0m\n",
            "\u001b[34m\u001b[1mwandb\u001b[0m: 🧹 View sweep at \u001b[34m\u001b[4mhttps://wandb.ai/da24m021-indian-institute-of-technology-madras/da24m021_da6401_assignment3/sweeps/6g2ha9nv\u001b[0m\n",
            "\u001b[34m\u001b[1mwandb\u001b[0m: 🚀 View run at \u001b[34m\u001b[4mhttps://wandb.ai/da24m021-indian-institute-of-technology-madras/da24m021_da6401_assignment3/runs/dedwmc0b\u001b[0m\n",
            " 10%|█         | 1/10 [01:00<09:06, 60.70s/it]"
          ]
        },
        {
          "name": "stdout",
          "output_type": "stream",
          "text": [
            "Train Loss: 1.6891 | Valid Loss: 1.6716\n"
          ]
        },
        {
          "name": "stderr",
          "output_type": "stream",
          "text": [
            " 20%|██        | 2/10 [02:00<08:02, 60.30s/it]"
          ]
        },
        {
          "name": "stdout",
          "output_type": "stream",
          "text": [
            "Train Loss: 0.9380 | Valid Loss: 1.0502\n"
          ]
        },
        {
          "name": "stderr",
          "output_type": "stream",
          "text": [
            " 30%|███       | 3/10 [03:00<07:01, 60.17s/it]"
          ]
        },
        {
          "name": "stdout",
          "output_type": "stream",
          "text": [
            "Train Loss: 0.5312 | Valid Loss: 0.9262\n"
          ]
        },
        {
          "name": "stderr",
          "output_type": "stream",
          "text": [
            " 40%|████      | 4/10 [04:01<06:03, 60.51s/it]"
          ]
        },
        {
          "name": "stdout",
          "output_type": "stream",
          "text": [
            "Train Loss: 0.3796 | Valid Loss: 0.8763\n"
          ]
        },
        {
          "name": "stderr",
          "output_type": "stream",
          "text": [
            " 50%|█████     | 5/10 [05:01<05:01, 60.30s/it]"
          ]
        },
        {
          "name": "stdout",
          "output_type": "stream",
          "text": [
            "Train Loss: 0.2976 | Valid Loss: 0.8615\n"
          ]
        },
        {
          "name": "stderr",
          "output_type": "stream",
          "text": [
            " 60%|██████    | 6/10 [06:01<04:00, 60.15s/it]"
          ]
        },
        {
          "name": "stdout",
          "output_type": "stream",
          "text": [
            "Train Loss: 0.2411 | Valid Loss: 0.8712\n"
          ]
        },
        {
          "name": "stderr",
          "output_type": "stream",
          "text": [
            " 70%|███████   | 7/10 [07:01<03:00, 60.21s/it]"
          ]
        },
        {
          "name": "stdout",
          "output_type": "stream",
          "text": [
            "Train Loss: 0.1906 | Valid Loss: 0.8596\n"
          ]
        },
        {
          "name": "stderr",
          "output_type": "stream",
          "text": [
            " 80%|████████  | 8/10 [08:02<02:00, 60.38s/it]"
          ]
        },
        {
          "name": "stdout",
          "output_type": "stream",
          "text": [
            "Train Loss: 0.1575 | Valid Loss: 0.9593\n"
          ]
        },
        {
          "name": "stderr",
          "output_type": "stream",
          "text": [
            " 90%|█████████ | 9/10 [09:03<01:00, 60.45s/it]"
          ]
        },
        {
          "name": "stdout",
          "output_type": "stream",
          "text": [
            "Train Loss: 0.1323 | Valid Loss: 0.9829\n"
          ]
        },
        {
          "name": "stderr",
          "output_type": "stream",
          "text": [
            "100%|██████████| 10/10 [10:03<00:00, 60.31s/it]"
          ]
        },
        {
          "name": "stdout",
          "output_type": "stream",
          "text": [
            "Train Loss: 0.1123 | Valid Loss: 0.9962\n"
          ]
        },
        {
          "name": "stderr",
          "output_type": "stream",
          "text": [
            "\n"
          ]
        },
        {
          "name": "stdout",
          "output_type": "stream",
          "text": [
            "\n",
            "Validation Accuracy: 0.3430\n"
          ]
        },
        {
          "name": "stderr",
          "output_type": "stream",
          "text": [
            "\u001b[34m\u001b[1mwandb\u001b[0m:                                                                                \n",
            "\u001b[34m\u001b[1mwandb\u001b[0m: \n",
            "\u001b[34m\u001b[1mwandb\u001b[0m: Run history:\n",
            "\u001b[34m\u001b[1mwandb\u001b[0m:           epoch ▁▂▃▃▄▅▆▆▇█\n",
            "\u001b[34m\u001b[1mwandb\u001b[0m:      train_loss █▅▃▂▂▂▁▁▁▁\n",
            "\u001b[34m\u001b[1mwandb\u001b[0m:    val_accuracy ▁\n",
            "\u001b[34m\u001b[1mwandb\u001b[0m: validation_loss █▃▂▁▁▁▁▂▂▂\n",
            "\u001b[34m\u001b[1mwandb\u001b[0m: \n",
            "\u001b[34m\u001b[1mwandb\u001b[0m: Run summary:\n",
            "\u001b[34m\u001b[1mwandb\u001b[0m:           epoch 9\n",
            "\u001b[34m\u001b[1mwandb\u001b[0m:      train_loss 0.11226\n",
            "\u001b[34m\u001b[1mwandb\u001b[0m:    val_accuracy 0.34305\n",
            "\u001b[34m\u001b[1mwandb\u001b[0m: validation_loss 0.99616\n",
            "\u001b[34m\u001b[1mwandb\u001b[0m: \n",
            "\u001b[34m\u001b[1mwandb\u001b[0m: 🚀 View run \u001b[33membedding_size_16_num_layers_4_hidden_size_512                           _cell_type_LSTM_dp_0_lr_0.0005_batch_32\u001b[0m at: \u001b[34m\u001b[4mhttps://wandb.ai/da24m021-indian-institute-of-technology-madras/da24m021_da6401_assignment3/runs/dedwmc0b\u001b[0m\n",
            "\u001b[34m\u001b[1mwandb\u001b[0m: ⭐️ View project at: \u001b[34m\u001b[4mhttps://wandb.ai/da24m021-indian-institute-of-technology-madras/da24m021_da6401_assignment3\u001b[0m\n",
            "\u001b[34m\u001b[1mwandb\u001b[0m: Synced 5 W&B file(s), 0 media file(s), 0 artifact file(s) and 0 other file(s)\n",
            "\u001b[34m\u001b[1mwandb\u001b[0m: Find logs at: \u001b[35m\u001b[1m./wandb/run-20250514_101104-dedwmc0b/logs\u001b[0m\n",
            "\u001b[34m\u001b[1mwandb\u001b[0m: Agent Starting Run: qx8qsb5b with config:\n",
            "\u001b[34m\u001b[1mwandb\u001b[0m: \tbatch_size: 32\n",
            "\u001b[34m\u001b[1mwandb\u001b[0m: \tcell_type: LSTM\n",
            "\u001b[34m\u001b[1mwandb\u001b[0m: \tdropout: 0.2\n",
            "\u001b[34m\u001b[1mwandb\u001b[0m: \tembedding_size: 16\n",
            "\u001b[34m\u001b[1mwandb\u001b[0m: \thidden_size: 1024\n",
            "\u001b[34m\u001b[1mwandb\u001b[0m: \tlearning_rate: 0.001\n",
            "\u001b[34m\u001b[1mwandb\u001b[0m: \tnum_layers: 3\n",
            "\u001b[34m\u001b[1mwandb\u001b[0m: Tracking run with wandb version 0.19.9\n",
            "\u001b[34m\u001b[1mwandb\u001b[0m: Run data is saved locally in \u001b[35m\u001b[1m/kaggle/working/wandb/run-20250514_102138-qx8qsb5b\u001b[0m\n",
            "\u001b[34m\u001b[1mwandb\u001b[0m: Run \u001b[1m`wandb offline`\u001b[0m to turn off syncing.\n",
            "\u001b[34m\u001b[1mwandb\u001b[0m: Syncing run \u001b[33mmild-sweep-13\u001b[0m\n",
            "\u001b[34m\u001b[1mwandb\u001b[0m: ⭐️ View project at \u001b[34m\u001b[4mhttps://wandb.ai/da24m021-indian-institute-of-technology-madras/da24m021_da6401_assignment3\u001b[0m\n",
            "\u001b[34m\u001b[1mwandb\u001b[0m: 🧹 View sweep at \u001b[34m\u001b[4mhttps://wandb.ai/da24m021-indian-institute-of-technology-madras/da24m021_da6401_assignment3/sweeps/6g2ha9nv\u001b[0m\n",
            "\u001b[34m\u001b[1mwandb\u001b[0m: 🚀 View run at \u001b[34m\u001b[4mhttps://wandb.ai/da24m021-indian-institute-of-technology-madras/da24m021_da6401_assignment3/runs/qx8qsb5b\u001b[0m\n",
            " 10%|█         | 1/10 [01:15<11:16, 75.13s/it]"
          ]
        },
        {
          "name": "stdout",
          "output_type": "stream",
          "text": [
            "Train Loss: 1.6858 | Valid Loss: 1.4024\n"
          ]
        },
        {
          "name": "stderr",
          "output_type": "stream",
          "text": [
            " 20%|██        | 2/10 [02:30<10:00, 75.12s/it]"
          ]
        },
        {
          "name": "stdout",
          "output_type": "stream",
          "text": [
            "Train Loss: 0.6675 | Valid Loss: 0.8819\n"
          ]
        },
        {
          "name": "stderr",
          "output_type": "stream",
          "text": [
            " 30%|███       | 3/10 [03:45<08:46, 75.20s/it]"
          ]
        },
        {
          "name": "stdout",
          "output_type": "stream",
          "text": [
            "Train Loss: 0.3789 | Valid Loss: 0.8565\n"
          ]
        },
        {
          "name": "stderr",
          "output_type": "stream",
          "text": [
            " 40%|████      | 4/10 [05:00<07:31, 75.24s/it]"
          ]
        },
        {
          "name": "stdout",
          "output_type": "stream",
          "text": [
            "Train Loss: 0.2824 | Valid Loss: 0.8236\n"
          ]
        },
        {
          "name": "stderr",
          "output_type": "stream",
          "text": [
            " 50%|█████     | 5/10 [06:16<06:16, 75.29s/it]"
          ]
        },
        {
          "name": "stdout",
          "output_type": "stream",
          "text": [
            "Train Loss: 0.2098 | Valid Loss: 0.8569\n"
          ]
        },
        {
          "name": "stderr",
          "output_type": "stream",
          "text": [
            " 60%|██████    | 6/10 [07:31<05:01, 75.28s/it]"
          ]
        },
        {
          "name": "stdout",
          "output_type": "stream",
          "text": [
            "Train Loss: 0.1698 | Valid Loss: 0.9109\n"
          ]
        },
        {
          "name": "stderr",
          "output_type": "stream",
          "text": [
            " 70%|███████   | 7/10 [08:46<03:45, 75.21s/it]"
          ]
        },
        {
          "name": "stdout",
          "output_type": "stream",
          "text": [
            "Train Loss: 0.1420 | Valid Loss: 0.9160\n"
          ]
        },
        {
          "name": "stderr",
          "output_type": "stream",
          "text": [
            " 80%|████████  | 8/10 [10:01<02:30, 75.26s/it]"
          ]
        },
        {
          "name": "stdout",
          "output_type": "stream",
          "text": [
            "Train Loss: 0.1214 | Valid Loss: 0.9919\n"
          ]
        },
        {
          "name": "stderr",
          "output_type": "stream",
          "text": [
            " 90%|█████████ | 9/10 [11:17<01:15, 75.24s/it]"
          ]
        },
        {
          "name": "stdout",
          "output_type": "stream",
          "text": [
            "Train Loss: 0.1059 | Valid Loss: 1.0688\n"
          ]
        },
        {
          "name": "stderr",
          "output_type": "stream",
          "text": [
            "100%|██████████| 10/10 [12:32<00:00, 75.24s/it]"
          ]
        },
        {
          "name": "stdout",
          "output_type": "stream",
          "text": [
            "Train Loss: 0.0994 | Valid Loss: 1.0069\n"
          ]
        },
        {
          "name": "stderr",
          "output_type": "stream",
          "text": [
            "\n"
          ]
        },
        {
          "name": "stdout",
          "output_type": "stream",
          "text": [
            "\n",
            "Validation Accuracy: 0.3749\n"
          ]
        },
        {
          "name": "stderr",
          "output_type": "stream",
          "text": [
            "\u001b[34m\u001b[1mwandb\u001b[0m:                                                                                \n",
            "\u001b[34m\u001b[1mwandb\u001b[0m: \n",
            "\u001b[34m\u001b[1mwandb\u001b[0m: Run history:\n",
            "\u001b[34m\u001b[1mwandb\u001b[0m:           epoch ▁▂▃▃▄▅▆▆▇█\n",
            "\u001b[34m\u001b[1mwandb\u001b[0m:      train_loss █▄▂▂▁▁▁▁▁▁\n",
            "\u001b[34m\u001b[1mwandb\u001b[0m:    val_accuracy ▁\n",
            "\u001b[34m\u001b[1mwandb\u001b[0m: validation_loss █▂▁▁▁▂▂▃▄▃\n",
            "\u001b[34m\u001b[1mwandb\u001b[0m: \n",
            "\u001b[34m\u001b[1mwandb\u001b[0m: Run summary:\n",
            "\u001b[34m\u001b[1mwandb\u001b[0m:           epoch 9\n",
            "\u001b[34m\u001b[1mwandb\u001b[0m:      train_loss 0.09942\n",
            "\u001b[34m\u001b[1mwandb\u001b[0m:    val_accuracy 0.37494\n",
            "\u001b[34m\u001b[1mwandb\u001b[0m: validation_loss 1.00685\n",
            "\u001b[34m\u001b[1mwandb\u001b[0m: \n",
            "\u001b[34m\u001b[1mwandb\u001b[0m: 🚀 View run \u001b[33membedding_size_16_num_layers_3_hidden_size_1024                           _cell_type_LSTM_dp_0.2_lr_0.001_batch_32\u001b[0m at: \u001b[34m\u001b[4mhttps://wandb.ai/da24m021-indian-institute-of-technology-madras/da24m021_da6401_assignment3/runs/qx8qsb5b\u001b[0m\n",
            "\u001b[34m\u001b[1mwandb\u001b[0m: ⭐️ View project at: \u001b[34m\u001b[4mhttps://wandb.ai/da24m021-indian-institute-of-technology-madras/da24m021_da6401_assignment3\u001b[0m\n",
            "\u001b[34m\u001b[1mwandb\u001b[0m: Synced 5 W&B file(s), 0 media file(s), 0 artifact file(s) and 0 other file(s)\n",
            "\u001b[34m\u001b[1mwandb\u001b[0m: Find logs at: \u001b[35m\u001b[1m./wandb/run-20250514_102138-qx8qsb5b/logs\u001b[0m\n",
            "\u001b[34m\u001b[1mwandb\u001b[0m: Agent Starting Run: wn1fvqzz with config:\n",
            "\u001b[34m\u001b[1mwandb\u001b[0m: \tbatch_size: 32\n",
            "\u001b[34m\u001b[1mwandb\u001b[0m: \tcell_type: LSTM\n",
            "\u001b[34m\u001b[1mwandb\u001b[0m: \tdropout: 0\n",
            "\u001b[34m\u001b[1mwandb\u001b[0m: \tembedding_size: 16\n",
            "\u001b[34m\u001b[1mwandb\u001b[0m: \thidden_size: 2048\n",
            "\u001b[34m\u001b[1mwandb\u001b[0m: \tlearning_rate: 0.0005\n",
            "\u001b[34m\u001b[1mwandb\u001b[0m: \tnum_layers: 3\n",
            "\u001b[34m\u001b[1mwandb\u001b[0m: Tracking run with wandb version 0.19.9\n",
            "\u001b[34m\u001b[1mwandb\u001b[0m: Run data is saved locally in \u001b[35m\u001b[1m/kaggle/working/wandb/run-20250514_103443-wn1fvqzz\u001b[0m\n",
            "\u001b[34m\u001b[1mwandb\u001b[0m: Run \u001b[1m`wandb offline`\u001b[0m to turn off syncing.\n",
            "\u001b[34m\u001b[1mwandb\u001b[0m: Syncing run \u001b[33mresilient-sweep-14\u001b[0m\n",
            "\u001b[34m\u001b[1mwandb\u001b[0m: ⭐️ View project at \u001b[34m\u001b[4mhttps://wandb.ai/da24m021-indian-institute-of-technology-madras/da24m021_da6401_assignment3\u001b[0m\n",
            "\u001b[34m\u001b[1mwandb\u001b[0m: 🧹 View sweep at \u001b[34m\u001b[4mhttps://wandb.ai/da24m021-indian-institute-of-technology-madras/da24m021_da6401_assignment3/sweeps/6g2ha9nv\u001b[0m\n",
            "\u001b[34m\u001b[1mwandb\u001b[0m: 🚀 View run at \u001b[34m\u001b[4mhttps://wandb.ai/da24m021-indian-institute-of-technology-madras/da24m021_da6401_assignment3/runs/wn1fvqzz\u001b[0m\n",
            " 10%|█         | 1/10 [03:41<33:10, 221.18s/it]"
          ]
        },
        {
          "name": "stdout",
          "output_type": "stream",
          "text": [
            "Train Loss: 1.7544 | Valid Loss: 1.5584\n"
          ]
        },
        {
          "name": "stderr",
          "output_type": "stream",
          "text": [
            " 20%|██        | 2/10 [07:22<29:31, 221.39s/it]"
          ]
        },
        {
          "name": "stdout",
          "output_type": "stream",
          "text": [
            "Train Loss: 0.6474 | Valid Loss: 0.8577\n"
          ]
        },
        {
          "name": "stderr",
          "output_type": "stream",
          "text": [
            " 30%|███       | 3/10 [11:03<25:48, 221.24s/it]"
          ]
        },
        {
          "name": "stdout",
          "output_type": "stream",
          "text": [
            "Train Loss: 0.3232 | Valid Loss: 0.8153\n"
          ]
        },
        {
          "name": "stderr",
          "output_type": "stream",
          "text": [
            " 40%|████      | 4/10 [14:45<22:08, 221.36s/it]"
          ]
        },
        {
          "name": "stdout",
          "output_type": "stream",
          "text": [
            "Train Loss: 0.2113 | Valid Loss: 0.8451\n"
          ]
        },
        {
          "name": "stderr",
          "output_type": "stream",
          "text": [
            " 50%|█████     | 5/10 [18:26<18:26, 221.26s/it]"
          ]
        },
        {
          "name": "stdout",
          "output_type": "stream",
          "text": [
            "Train Loss: 0.1468 | Valid Loss: 0.9116\n"
          ]
        },
        {
          "name": "stderr",
          "output_type": "stream",
          "text": [
            " 60%|██████    | 6/10 [22:07<14:45, 221.33s/it]"
          ]
        },
        {
          "name": "stdout",
          "output_type": "stream",
          "text": [
            "Train Loss: 0.1117 | Valid Loss: 0.9969\n"
          ]
        },
        {
          "name": "stderr",
          "output_type": "stream",
          "text": [
            " 70%|███████   | 7/10 [25:48<11:03, 221.26s/it]"
          ]
        },
        {
          "name": "stdout",
          "output_type": "stream",
          "text": [
            "Train Loss: 0.0937 | Valid Loss: 0.9896\n"
          ]
        },
        {
          "name": "stderr",
          "output_type": "stream",
          "text": [
            " 80%|████████  | 8/10 [29:30<07:22, 221.27s/it]"
          ]
        },
        {
          "name": "stdout",
          "output_type": "stream",
          "text": [
            "Train Loss: 0.0816 | Valid Loss: 1.0543\n"
          ]
        },
        {
          "name": "stderr",
          "output_type": "stream",
          "text": [
            " 90%|█████████ | 9/10 [33:11<03:41, 221.19s/it]"
          ]
        },
        {
          "name": "stdout",
          "output_type": "stream",
          "text": [
            "Train Loss: 0.0752 | Valid Loss: 1.1062\n"
          ]
        },
        {
          "name": "stderr",
          "output_type": "stream",
          "text": [
            "100%|██████████| 10/10 [36:52<00:00, 221.27s/it]"
          ]
        },
        {
          "name": "stdout",
          "output_type": "stream",
          "text": [
            "Train Loss: 0.0676 | Valid Loss: 1.0929\n"
          ]
        },
        {
          "name": "stderr",
          "output_type": "stream",
          "text": [
            "\n"
          ]
        },
        {
          "name": "stdout",
          "output_type": "stream",
          "text": [
            "\n",
            "Validation Accuracy: 0.3653\n"
          ]
        },
        {
          "name": "stderr",
          "output_type": "stream",
          "text": [
            "\u001b[34m\u001b[1mwandb\u001b[0m:                                                                                \n",
            "\u001b[34m\u001b[1mwandb\u001b[0m: \n",
            "\u001b[34m\u001b[1mwandb\u001b[0m: Run history:\n",
            "\u001b[34m\u001b[1mwandb\u001b[0m:           epoch ▁▂▃▃▄▅▆▆▇█\n",
            "\u001b[34m\u001b[1mwandb\u001b[0m:      train_loss █▃▂▂▁▁▁▁▁▁\n",
            "\u001b[34m\u001b[1mwandb\u001b[0m:    val_accuracy ▁\n",
            "\u001b[34m\u001b[1mwandb\u001b[0m: validation_loss █▁▁▁▂▃▃▃▄▄\n",
            "\u001b[34m\u001b[1mwandb\u001b[0m: \n",
            "\u001b[34m\u001b[1mwandb\u001b[0m: Run summary:\n",
            "\u001b[34m\u001b[1mwandb\u001b[0m:           epoch 9\n",
            "\u001b[34m\u001b[1mwandb\u001b[0m:      train_loss 0.06759\n",
            "\u001b[34m\u001b[1mwandb\u001b[0m:    val_accuracy 0.36531\n",
            "\u001b[34m\u001b[1mwandb\u001b[0m: validation_loss 1.09286\n",
            "\u001b[34m\u001b[1mwandb\u001b[0m: \n",
            "\u001b[34m\u001b[1mwandb\u001b[0m: 🚀 View run \u001b[33membedding_size_16_num_layers_3_hidden_size_2048                           _cell_type_LSTM_dp_0_lr_0.0005_batch_32\u001b[0m at: \u001b[34m\u001b[4mhttps://wandb.ai/da24m021-indian-institute-of-technology-madras/da24m021_da6401_assignment3/runs/wn1fvqzz\u001b[0m\n",
            "\u001b[34m\u001b[1mwandb\u001b[0m: ⭐️ View project at: \u001b[34m\u001b[4mhttps://wandb.ai/da24m021-indian-institute-of-technology-madras/da24m021_da6401_assignment3\u001b[0m\n",
            "\u001b[34m\u001b[1mwandb\u001b[0m: Synced 5 W&B file(s), 0 media file(s), 0 artifact file(s) and 0 other file(s)\n",
            "\u001b[34m\u001b[1mwandb\u001b[0m: Find logs at: \u001b[35m\u001b[1m./wandb/run-20250514_103443-wn1fvqzz/logs\u001b[0m\n",
            "\u001b[34m\u001b[1mwandb\u001b[0m: Agent Starting Run: nv8ai0a3 with config:\n",
            "\u001b[34m\u001b[1mwandb\u001b[0m: \tbatch_size: 32\n",
            "\u001b[34m\u001b[1mwandb\u001b[0m: \tcell_type: GRU\n",
            "\u001b[34m\u001b[1mwandb\u001b[0m: \tdropout: 0\n",
            "\u001b[34m\u001b[1mwandb\u001b[0m: \tembedding_size: 32\n",
            "\u001b[34m\u001b[1mwandb\u001b[0m: \thidden_size: 512\n",
            "\u001b[34m\u001b[1mwandb\u001b[0m: \tlearning_rate: 0.001\n",
            "\u001b[34m\u001b[1mwandb\u001b[0m: \tnum_layers: 3\n",
            "\u001b[34m\u001b[1mwandb\u001b[0m: Tracking run with wandb version 0.19.9\n",
            "\u001b[34m\u001b[1mwandb\u001b[0m: Run data is saved locally in \u001b[35m\u001b[1m/kaggle/working/wandb/run-20250514_111244-nv8ai0a3\u001b[0m\n",
            "\u001b[34m\u001b[1mwandb\u001b[0m: Run \u001b[1m`wandb offline`\u001b[0m to turn off syncing.\n",
            "\u001b[34m\u001b[1mwandb\u001b[0m: Syncing run \u001b[33mclean-sweep-15\u001b[0m\n",
            "\u001b[34m\u001b[1mwandb\u001b[0m: ⭐️ View project at \u001b[34m\u001b[4mhttps://wandb.ai/da24m021-indian-institute-of-technology-madras/da24m021_da6401_assignment3\u001b[0m\n",
            "\u001b[34m\u001b[1mwandb\u001b[0m: 🧹 View sweep at \u001b[34m\u001b[4mhttps://wandb.ai/da24m021-indian-institute-of-technology-madras/da24m021_da6401_assignment3/sweeps/6g2ha9nv\u001b[0m\n",
            "\u001b[34m\u001b[1mwandb\u001b[0m: 🚀 View run at \u001b[34m\u001b[4mhttps://wandb.ai/da24m021-indian-institute-of-technology-madras/da24m021_da6401_assignment3/runs/nv8ai0a3\u001b[0m\n",
            " 10%|█         | 1/10 [00:47<07:04, 47.21s/it]"
          ]
        },
        {
          "name": "stdout",
          "output_type": "stream",
          "text": [
            "Train Loss: 0.8351 | Valid Loss: 0.9259\n"
          ]
        },
        {
          "name": "stderr",
          "output_type": "stream",
          "text": [
            " 20%|██        | 2/10 [01:34<06:15, 46.99s/it]"
          ]
        },
        {
          "name": "stdout",
          "output_type": "stream",
          "text": [
            "Train Loss: 0.3934 | Valid Loss: 0.9197\n"
          ]
        },
        {
          "name": "stderr",
          "output_type": "stream",
          "text": [
            " 30%|███       | 3/10 [02:21<05:29, 47.07s/it]"
          ]
        },
        {
          "name": "stdout",
          "output_type": "stream",
          "text": [
            "Train Loss: 0.3076 | Valid Loss: 0.8994\n"
          ]
        },
        {
          "name": "stderr",
          "output_type": "stream",
          "text": [
            " 40%|████      | 4/10 [03:07<04:41, 46.90s/it]"
          ]
        },
        {
          "name": "stdout",
          "output_type": "stream",
          "text": [
            "Train Loss: 0.2546 | Valid Loss: 0.9237\n"
          ]
        },
        {
          "name": "stderr",
          "output_type": "stream",
          "text": [
            " 50%|█████     | 5/10 [03:55<03:55, 47.02s/it]"
          ]
        },
        {
          "name": "stdout",
          "output_type": "stream",
          "text": [
            "Train Loss: 0.2181 | Valid Loss: 0.9934\n"
          ]
        },
        {
          "name": "stderr",
          "output_type": "stream",
          "text": [
            " 60%|██████    | 6/10 [04:41<03:07, 46.92s/it]"
          ]
        },
        {
          "name": "stdout",
          "output_type": "stream",
          "text": [
            "Train Loss: 0.1972 | Valid Loss: 0.9785\n"
          ]
        },
        {
          "name": "stderr",
          "output_type": "stream",
          "text": [
            " 70%|███████   | 7/10 [05:28<02:20, 46.95s/it]"
          ]
        },
        {
          "name": "stdout",
          "output_type": "stream",
          "text": [
            "Train Loss: 0.1808 | Valid Loss: 1.0111\n"
          ]
        },
        {
          "name": "stderr",
          "output_type": "stream",
          "text": [
            " 80%|████████  | 8/10 [06:16<01:34, 47.13s/it]"
          ]
        },
        {
          "name": "stdout",
          "output_type": "stream",
          "text": [
            "Train Loss: 0.1704 | Valid Loss: 1.0199\n"
          ]
        },
        {
          "name": "stderr",
          "output_type": "stream",
          "text": [
            " 90%|█████████ | 9/10 [07:03<00:47, 47.02s/it]"
          ]
        },
        {
          "name": "stdout",
          "output_type": "stream",
          "text": [
            "Train Loss: 0.1653 | Valid Loss: 0.9989\n"
          ]
        },
        {
          "name": "stderr",
          "output_type": "stream",
          "text": [
            "100%|██████████| 10/10 [07:49<00:00, 46.98s/it]"
          ]
        },
        {
          "name": "stdout",
          "output_type": "stream",
          "text": [
            "Train Loss: 0.1604 | Valid Loss: 1.0629\n"
          ]
        },
        {
          "name": "stderr",
          "output_type": "stream",
          "text": [
            "\n"
          ]
        },
        {
          "name": "stdout",
          "output_type": "stream",
          "text": [
            "\n",
            "Validation Accuracy: 0.3219\n"
          ]
        },
        {
          "name": "stderr",
          "output_type": "stream",
          "text": [
            "\u001b[34m\u001b[1mwandb\u001b[0m:                                                                                \n",
            "\u001b[34m\u001b[1mwandb\u001b[0m: \n",
            "\u001b[34m\u001b[1mwandb\u001b[0m: Run history:\n",
            "\u001b[34m\u001b[1mwandb\u001b[0m:           epoch ▁▂▃▃▄▅▆▆▇█\n",
            "\u001b[34m\u001b[1mwandb\u001b[0m:      train_loss █▃▃▂▂▁▁▁▁▁\n",
            "\u001b[34m\u001b[1mwandb\u001b[0m:    val_accuracy ▁\n",
            "\u001b[34m\u001b[1mwandb\u001b[0m: validation_loss ▂▂▁▂▅▄▆▆▅█\n",
            "\u001b[34m\u001b[1mwandb\u001b[0m: \n",
            "\u001b[34m\u001b[1mwandb\u001b[0m: Run summary:\n",
            "\u001b[34m\u001b[1mwandb\u001b[0m:           epoch 9\n",
            "\u001b[34m\u001b[1mwandb\u001b[0m:      train_loss 0.16044\n",
            "\u001b[34m\u001b[1mwandb\u001b[0m:    val_accuracy 0.32194\n",
            "\u001b[34m\u001b[1mwandb\u001b[0m: validation_loss 1.06289\n",
            "\u001b[34m\u001b[1mwandb\u001b[0m: \n",
            "\u001b[34m\u001b[1mwandb\u001b[0m: 🚀 View run \u001b[33membedding_size_32_num_layers_3_hidden_size_512                           _cell_type_GRU_dp_0_lr_0.001_batch_32\u001b[0m at: \u001b[34m\u001b[4mhttps://wandb.ai/da24m021-indian-institute-of-technology-madras/da24m021_da6401_assignment3/runs/nv8ai0a3\u001b[0m\n",
            "\u001b[34m\u001b[1mwandb\u001b[0m: ⭐️ View project at: \u001b[34m\u001b[4mhttps://wandb.ai/da24m021-indian-institute-of-technology-madras/da24m021_da6401_assignment3\u001b[0m\n",
            "\u001b[34m\u001b[1mwandb\u001b[0m: Synced 5 W&B file(s), 0 media file(s), 0 artifact file(s) and 0 other file(s)\n",
            "\u001b[34m\u001b[1mwandb\u001b[0m: Find logs at: \u001b[35m\u001b[1m./wandb/run-20250514_111244-nv8ai0a3/logs\u001b[0m\n",
            "\u001b[34m\u001b[1mwandb\u001b[0m: Sweep Agent: Waiting for job.\n",
            "\u001b[34m\u001b[1mwandb\u001b[0m: Job received.\n",
            "\u001b[34m\u001b[1mwandb\u001b[0m: Agent Starting Run: y82yz13o with config:\n",
            "\u001b[34m\u001b[1mwandb\u001b[0m: \tbatch_size: 32\n",
            "\u001b[34m\u001b[1mwandb\u001b[0m: \tcell_type: LSTM\n",
            "\u001b[34m\u001b[1mwandb\u001b[0m: \tdropout: 0\n",
            "\u001b[34m\u001b[1mwandb\u001b[0m: \tembedding_size: 16\n",
            "\u001b[34m\u001b[1mwandb\u001b[0m: \thidden_size: 1024\n",
            "\u001b[34m\u001b[1mwandb\u001b[0m: \tlearning_rate: 0.0005\n",
            "\u001b[34m\u001b[1mwandb\u001b[0m: \tnum_layers: 3\n",
            "\u001b[34m\u001b[1mwandb\u001b[0m: Tracking run with wandb version 0.19.9\n",
            "\u001b[34m\u001b[1mwandb\u001b[0m: Run data is saved locally in \u001b[35m\u001b[1m/kaggle/working/wandb/run-20250514_112112-y82yz13o\u001b[0m\n",
            "\u001b[34m\u001b[1mwandb\u001b[0m: Run \u001b[1m`wandb offline`\u001b[0m to turn off syncing.\n",
            "\u001b[34m\u001b[1mwandb\u001b[0m: Syncing run \u001b[33mpious-sweep-16\u001b[0m\n",
            "\u001b[34m\u001b[1mwandb\u001b[0m: ⭐️ View project at \u001b[34m\u001b[4mhttps://wandb.ai/da24m021-indian-institute-of-technology-madras/da24m021_da6401_assignment3\u001b[0m\n",
            "\u001b[34m\u001b[1mwandb\u001b[0m: 🧹 View sweep at \u001b[34m\u001b[4mhttps://wandb.ai/da24m021-indian-institute-of-technology-madras/da24m021_da6401_assignment3/sweeps/6g2ha9nv\u001b[0m\n",
            "\u001b[34m\u001b[1mwandb\u001b[0m: 🚀 View run at \u001b[34m\u001b[4mhttps://wandb.ai/da24m021-indian-institute-of-technology-madras/da24m021_da6401_assignment3/runs/y82yz13o\u001b[0m\n",
            " 10%|█         | 1/10 [01:11<10:46, 71.79s/it]"
          ]
        },
        {
          "name": "stdout",
          "output_type": "stream",
          "text": [
            "Train Loss: 1.6513 | Valid Loss: 1.6579\n"
          ]
        },
        {
          "name": "stderr",
          "output_type": "stream",
          "text": [
            " 20%|██        | 2/10 [02:23<09:33, 71.74s/it]"
          ]
        },
        {
          "name": "stdout",
          "output_type": "stream",
          "text": [
            "Train Loss: 0.7819 | Valid Loss: 0.9528\n"
          ]
        },
        {
          "name": "stderr",
          "output_type": "stream",
          "text": [
            " 30%|███       | 3/10 [03:35<08:22, 71.81s/it]"
          ]
        },
        {
          "name": "stdout",
          "output_type": "stream",
          "text": [
            "Train Loss: 0.4051 | Valid Loss: 0.8669\n"
          ]
        },
        {
          "name": "stderr",
          "output_type": "stream",
          "text": [
            " 40%|████      | 4/10 [04:47<07:10, 71.75s/it]"
          ]
        },
        {
          "name": "stdout",
          "output_type": "stream",
          "text": [
            "Train Loss: 0.2873 | Valid Loss: 0.8585\n"
          ]
        },
        {
          "name": "stderr",
          "output_type": "stream",
          "text": [
            " 50%|█████     | 5/10 [05:58<05:58, 71.78s/it]"
          ]
        },
        {
          "name": "stdout",
          "output_type": "stream",
          "text": [
            "Train Loss: 0.2125 | Valid Loss: 0.8370\n"
          ]
        },
        {
          "name": "stderr",
          "output_type": "stream",
          "text": [
            " 60%|██████    | 6/10 [07:10<04:47, 71.80s/it]"
          ]
        },
        {
          "name": "stdout",
          "output_type": "stream",
          "text": [
            "Train Loss: 0.1635 | Valid Loss: 0.9075\n"
          ]
        },
        {
          "name": "stderr",
          "output_type": "stream",
          "text": [
            " 70%|███████   | 7/10 [08:22<03:35, 71.80s/it]"
          ]
        },
        {
          "name": "stdout",
          "output_type": "stream",
          "text": [
            "Train Loss: 0.1295 | Valid Loss: 0.9519\n"
          ]
        },
        {
          "name": "stderr",
          "output_type": "stream",
          "text": [
            " 80%|████████  | 8/10 [09:34<02:23, 71.92s/it]"
          ]
        },
        {
          "name": "stdout",
          "output_type": "stream",
          "text": [
            "Train Loss: 0.1092 | Valid Loss: 0.9865\n"
          ]
        },
        {
          "name": "stderr",
          "output_type": "stream",
          "text": [
            " 90%|█████████ | 9/10 [10:46<01:11, 71.89s/it]"
          ]
        },
        {
          "name": "stdout",
          "output_type": "stream",
          "text": [
            "Train Loss: 0.0930 | Valid Loss: 0.9962\n"
          ]
        },
        {
          "name": "stderr",
          "output_type": "stream",
          "text": [
            "100%|██████████| 10/10 [11:58<00:00, 71.84s/it]"
          ]
        },
        {
          "name": "stdout",
          "output_type": "stream",
          "text": [
            "Train Loss: 0.0854 | Valid Loss: 1.0220\n"
          ]
        },
        {
          "name": "stderr",
          "output_type": "stream",
          "text": [
            "\n"
          ]
        },
        {
          "name": "stdout",
          "output_type": "stream",
          "text": [
            "\n",
            "Validation Accuracy: 0.3731\n"
          ]
        },
        {
          "name": "stderr",
          "output_type": "stream",
          "text": [
            "\u001b[34m\u001b[1mwandb\u001b[0m:                                                                                \n",
            "\u001b[34m\u001b[1mwandb\u001b[0m: \n",
            "\u001b[34m\u001b[1mwandb\u001b[0m: Run history:\n",
            "\u001b[34m\u001b[1mwandb\u001b[0m:           epoch ▁▂▃▃▄▅▆▆▇█\n",
            "\u001b[34m\u001b[1mwandb\u001b[0m:      train_loss █▄▂▂▂▁▁▁▁▁\n",
            "\u001b[34m\u001b[1mwandb\u001b[0m:    val_accuracy ▁\n",
            "\u001b[34m\u001b[1mwandb\u001b[0m: validation_loss █▂▁▁▁▂▂▂▂▃\n",
            "\u001b[34m\u001b[1mwandb\u001b[0m: \n",
            "\u001b[34m\u001b[1mwandb\u001b[0m: Run summary:\n",
            "\u001b[34m\u001b[1mwandb\u001b[0m:           epoch 9\n",
            "\u001b[34m\u001b[1mwandb\u001b[0m:      train_loss 0.08535\n",
            "\u001b[34m\u001b[1mwandb\u001b[0m:    val_accuracy 0.37311\n",
            "\u001b[34m\u001b[1mwandb\u001b[0m: validation_loss 1.02197\n",
            "\u001b[34m\u001b[1mwandb\u001b[0m: \n",
            "\u001b[34m\u001b[1mwandb\u001b[0m: 🚀 View run \u001b[33membedding_size_16_num_layers_3_hidden_size_1024                           _cell_type_LSTM_dp_0_lr_0.0005_batch_32\u001b[0m at: \u001b[34m\u001b[4mhttps://wandb.ai/da24m021-indian-institute-of-technology-madras/da24m021_da6401_assignment3/runs/y82yz13o\u001b[0m\n",
            "\u001b[34m\u001b[1mwandb\u001b[0m: ⭐️ View project at: \u001b[34m\u001b[4mhttps://wandb.ai/da24m021-indian-institute-of-technology-madras/da24m021_da6401_assignment3\u001b[0m\n",
            "\u001b[34m\u001b[1mwandb\u001b[0m: Synced 5 W&B file(s), 0 media file(s), 0 artifact file(s) and 0 other file(s)\n",
            "\u001b[34m\u001b[1mwandb\u001b[0m: Find logs at: \u001b[35m\u001b[1m./wandb/run-20250514_112112-y82yz13o/logs\u001b[0m\n",
            "\u001b[34m\u001b[1mwandb\u001b[0m: Agent Starting Run: 5y4mhme6 with config:\n",
            "\u001b[34m\u001b[1mwandb\u001b[0m: \tbatch_size: 32\n",
            "\u001b[34m\u001b[1mwandb\u001b[0m: \tcell_type: GRU\n",
            "\u001b[34m\u001b[1mwandb\u001b[0m: \tdropout: 0\n",
            "\u001b[34m\u001b[1mwandb\u001b[0m: \tembedding_size: 16\n",
            "\u001b[34m\u001b[1mwandb\u001b[0m: \thidden_size: 512\n",
            "\u001b[34m\u001b[1mwandb\u001b[0m: \tlearning_rate: 0.0005\n",
            "\u001b[34m\u001b[1mwandb\u001b[0m: \tnum_layers: 1\n",
            "\u001b[34m\u001b[1mwandb\u001b[0m: Tracking run with wandb version 0.19.9\n",
            "\u001b[34m\u001b[1mwandb\u001b[0m: Run data is saved locally in \u001b[35m\u001b[1m/kaggle/working/wandb/run-20250514_113346-5y4mhme6\u001b[0m\n",
            "\u001b[34m\u001b[1mwandb\u001b[0m: Run \u001b[1m`wandb offline`\u001b[0m to turn off syncing.\n",
            "\u001b[34m\u001b[1mwandb\u001b[0m: Syncing run \u001b[33mdistinctive-sweep-17\u001b[0m\n",
            "\u001b[34m\u001b[1mwandb\u001b[0m: ⭐️ View project at \u001b[34m\u001b[4mhttps://wandb.ai/da24m021-indian-institute-of-technology-madras/da24m021_da6401_assignment3\u001b[0m\n",
            "\u001b[34m\u001b[1mwandb\u001b[0m: 🧹 View sweep at \u001b[34m\u001b[4mhttps://wandb.ai/da24m021-indian-institute-of-technology-madras/da24m021_da6401_assignment3/sweeps/6g2ha9nv\u001b[0m\n",
            "\u001b[34m\u001b[1mwandb\u001b[0m: 🚀 View run at \u001b[34m\u001b[4mhttps://wandb.ai/da24m021-indian-institute-of-technology-madras/da24m021_da6401_assignment3/runs/5y4mhme6\u001b[0m\n",
            " 10%|█         | 1/10 [00:31<04:42, 31.34s/it]"
          ]
        },
        {
          "name": "stdout",
          "output_type": "stream",
          "text": [
            "Train Loss: 1.5163 | Valid Loss: 1.3849\n"
          ]
        },
        {
          "name": "stderr",
          "output_type": "stream",
          "text": [
            " 20%|██        | 2/10 [01:03<04:13, 31.69s/it]"
          ]
        },
        {
          "name": "stdout",
          "output_type": "stream",
          "text": [
            "Train Loss: 0.7489 | Valid Loss: 1.0232\n"
          ]
        },
        {
          "name": "stderr",
          "output_type": "stream",
          "text": [
            " 30%|███       | 3/10 [01:35<03:42, 31.73s/it]"
          ]
        },
        {
          "name": "stdout",
          "output_type": "stream",
          "text": [
            "Train Loss: 0.5261 | Valid Loss: 0.9189\n"
          ]
        },
        {
          "name": "stderr",
          "output_type": "stream",
          "text": [
            " 40%|████      | 4/10 [02:06<03:10, 31.77s/it]"
          ]
        },
        {
          "name": "stdout",
          "output_type": "stream",
          "text": [
            "Train Loss: 0.4141 | Valid Loss: 0.8805\n"
          ]
        },
        {
          "name": "stderr",
          "output_type": "stream",
          "text": [
            " 50%|█████     | 5/10 [02:38<02:38, 31.72s/it]"
          ]
        },
        {
          "name": "stdout",
          "output_type": "stream",
          "text": [
            "Train Loss: 0.3448 | Valid Loss: 0.8733\n"
          ]
        },
        {
          "name": "stderr",
          "output_type": "stream",
          "text": [
            " 60%|██████    | 6/10 [03:09<02:05, 31.49s/it]"
          ]
        },
        {
          "name": "stdout",
          "output_type": "stream",
          "text": [
            "Train Loss: 0.2858 | Valid Loss: 0.8773\n"
          ]
        },
        {
          "name": "stderr",
          "output_type": "stream",
          "text": [
            " 70%|███████   | 7/10 [03:40<01:34, 31.34s/it]"
          ]
        },
        {
          "name": "stdout",
          "output_type": "stream",
          "text": [
            "Train Loss: 0.2434 | Valid Loss: 0.9105\n"
          ]
        },
        {
          "name": "stderr",
          "output_type": "stream",
          "text": [
            " 80%|████████  | 8/10 [04:11<01:02, 31.29s/it]"
          ]
        },
        {
          "name": "stdout",
          "output_type": "stream",
          "text": [
            "Train Loss: 0.2037 | Valid Loss: 0.9341\n"
          ]
        },
        {
          "name": "stderr",
          "output_type": "stream",
          "text": [
            " 90%|█████████ | 9/10 [04:43<00:31, 31.28s/it]"
          ]
        },
        {
          "name": "stdout",
          "output_type": "stream",
          "text": [
            "Train Loss: 0.1731 | Valid Loss: 0.9851\n"
          ]
        },
        {
          "name": "stderr",
          "output_type": "stream",
          "text": [
            "100%|██████████| 10/10 [05:14<00:00, 31.41s/it]"
          ]
        },
        {
          "name": "stdout",
          "output_type": "stream",
          "text": [
            "Train Loss: 0.1487 | Valid Loss: 1.0195\n"
          ]
        },
        {
          "name": "stderr",
          "output_type": "stream",
          "text": [
            "\n"
          ]
        },
        {
          "name": "stdout",
          "output_type": "stream",
          "text": [
            "\n",
            "Validation Accuracy: 0.2402\n"
          ]
        },
        {
          "name": "stderr",
          "output_type": "stream",
          "text": [
            "\u001b[34m\u001b[1mwandb\u001b[0m:                                                                                \n",
            "\u001b[34m\u001b[1mwandb\u001b[0m: \n",
            "\u001b[34m\u001b[1mwandb\u001b[0m: Run history:\n",
            "\u001b[34m\u001b[1mwandb\u001b[0m:           epoch ▁▂▃▃▄▅▆▆▇█\n",
            "\u001b[34m\u001b[1mwandb\u001b[0m:      train_loss █▄▃▂▂▂▁▁▁▁\n",
            "\u001b[34m\u001b[1mwandb\u001b[0m:    val_accuracy ▁\n",
            "\u001b[34m\u001b[1mwandb\u001b[0m: validation_loss █▃▂▁▁▁▂▂▃▃\n",
            "\u001b[34m\u001b[1mwandb\u001b[0m: \n",
            "\u001b[34m\u001b[1mwandb\u001b[0m: Run summary:\n",
            "\u001b[34m\u001b[1mwandb\u001b[0m:           epoch 9\n",
            "\u001b[34m\u001b[1mwandb\u001b[0m:      train_loss 0.14875\n",
            "\u001b[34m\u001b[1mwandb\u001b[0m:    val_accuracy 0.24025\n",
            "\u001b[34m\u001b[1mwandb\u001b[0m: validation_loss 1.01953\n",
            "\u001b[34m\u001b[1mwandb\u001b[0m: \n",
            "\u001b[34m\u001b[1mwandb\u001b[0m: 🚀 View run \u001b[33membedding_size_16_num_layers_1_hidden_size_512                           _cell_type_GRU_dp_0_lr_0.0005_batch_32\u001b[0m at: \u001b[34m\u001b[4mhttps://wandb.ai/da24m021-indian-institute-of-technology-madras/da24m021_da6401_assignment3/runs/5y4mhme6\u001b[0m\n",
            "\u001b[34m\u001b[1mwandb\u001b[0m: ⭐️ View project at: \u001b[34m\u001b[4mhttps://wandb.ai/da24m021-indian-institute-of-technology-madras/da24m021_da6401_assignment3\u001b[0m\n",
            "\u001b[34m\u001b[1mwandb\u001b[0m: Synced 5 W&B file(s), 0 media file(s), 0 artifact file(s) and 0 other file(s)\n",
            "\u001b[34m\u001b[1mwandb\u001b[0m: Find logs at: \u001b[35m\u001b[1m./wandb/run-20250514_113346-5y4mhme6/logs\u001b[0m\n",
            "\u001b[34m\u001b[1mwandb\u001b[0m: Agent Starting Run: ctg667t3 with config:\n",
            "\u001b[34m\u001b[1mwandb\u001b[0m: \tbatch_size: 32\n",
            "\u001b[34m\u001b[1mwandb\u001b[0m: \tcell_type: GRU\n",
            "\u001b[34m\u001b[1mwandb\u001b[0m: \tdropout: 0.3\n",
            "\u001b[34m\u001b[1mwandb\u001b[0m: \tembedding_size: 16\n",
            "\u001b[34m\u001b[1mwandb\u001b[0m: \thidden_size: 16\n",
            "\u001b[34m\u001b[1mwandb\u001b[0m: \tlearning_rate: 0.01\n",
            "\u001b[34m\u001b[1mwandb\u001b[0m: \tnum_layers: 1\n",
            "\u001b[34m\u001b[1mwandb\u001b[0m: Tracking run with wandb version 0.19.9\n",
            "\u001b[34m\u001b[1mwandb\u001b[0m: Run data is saved locally in \u001b[35m\u001b[1m/kaggle/working/wandb/run-20250514_113927-ctg667t3\u001b[0m\n",
            "\u001b[34m\u001b[1mwandb\u001b[0m: Run \u001b[1m`wandb offline`\u001b[0m to turn off syncing.\n",
            "\u001b[34m\u001b[1mwandb\u001b[0m: Syncing run \u001b[33mfine-sweep-18\u001b[0m\n",
            "\u001b[34m\u001b[1mwandb\u001b[0m: ⭐️ View project at \u001b[34m\u001b[4mhttps://wandb.ai/da24m021-indian-institute-of-technology-madras/da24m021_da6401_assignment3\u001b[0m\n",
            "\u001b[34m\u001b[1mwandb\u001b[0m: 🧹 View sweep at \u001b[34m\u001b[4mhttps://wandb.ai/da24m021-indian-institute-of-technology-madras/da24m021_da6401_assignment3/sweeps/6g2ha9nv\u001b[0m\n",
            "\u001b[34m\u001b[1mwandb\u001b[0m: 🚀 View run at \u001b[34m\u001b[4mhttps://wandb.ai/da24m021-indian-institute-of-technology-madras/da24m021_da6401_assignment3/runs/ctg667t3\u001b[0m\n",
            " 10%|█         | 1/10 [00:28<04:18, 28.75s/it]"
          ]
        },
        {
          "name": "stdout",
          "output_type": "stream",
          "text": [
            "Train Loss: 1.7697 | Valid Loss: 2.0688\n"
          ]
        },
        {
          "name": "stderr",
          "output_type": "stream",
          "text": [
            " 20%|██        | 2/10 [00:57<03:50, 28.79s/it]"
          ]
        },
        {
          "name": "stdout",
          "output_type": "stream",
          "text": [
            "Train Loss: 1.5601 | Valid Loss: 2.0181\n"
          ]
        },
        {
          "name": "stderr",
          "output_type": "stream",
          "text": [
            " 30%|███       | 3/10 [01:27<03:24, 29.17s/it]"
          ]
        },
        {
          "name": "stdout",
          "output_type": "stream",
          "text": [
            "Train Loss: 1.4870 | Valid Loss: 1.9634\n"
          ]
        },
        {
          "name": "stderr",
          "output_type": "stream",
          "text": [
            " 40%|████      | 4/10 [01:56<02:56, 29.41s/it]"
          ]
        },
        {
          "name": "stdout",
          "output_type": "stream",
          "text": [
            "Train Loss: 1.4685 | Valid Loss: 1.9501\n"
          ]
        },
        {
          "name": "stderr",
          "output_type": "stream",
          "text": [
            " 50%|█████     | 5/10 [02:25<02:26, 29.22s/it]"
          ]
        },
        {
          "name": "stdout",
          "output_type": "stream",
          "text": [
            "Train Loss: 1.4369 | Valid Loss: 1.8540\n"
          ]
        },
        {
          "name": "stderr",
          "output_type": "stream",
          "text": [
            " 60%|██████    | 6/10 [02:54<01:55, 29.00s/it]"
          ]
        },
        {
          "name": "stdout",
          "output_type": "stream",
          "text": [
            "Train Loss: 1.3955 | Valid Loss: 1.8445\n"
          ]
        },
        {
          "name": "stderr",
          "output_type": "stream",
          "text": [
            " 70%|███████   | 7/10 [03:22<01:26, 28.86s/it]"
          ]
        },
        {
          "name": "stdout",
          "output_type": "stream",
          "text": [
            "Train Loss: 1.3777 | Valid Loss: 1.8248\n"
          ]
        },
        {
          "name": "stderr",
          "output_type": "stream",
          "text": [
            " 80%|████████  | 8/10 [03:51<00:57, 28.81s/it]"
          ]
        },
        {
          "name": "stdout",
          "output_type": "stream",
          "text": [
            "Train Loss: 1.3680 | Valid Loss: 1.8145\n"
          ]
        },
        {
          "name": "stderr",
          "output_type": "stream",
          "text": [
            " 90%|█████████ | 9/10 [04:20<00:28, 28.87s/it]"
          ]
        },
        {
          "name": "stdout",
          "output_type": "stream",
          "text": [
            "Train Loss: 1.3586 | Valid Loss: 1.7895\n"
          ]
        },
        {
          "name": "stderr",
          "output_type": "stream",
          "text": [
            "100%|██████████| 10/10 [04:49<00:00, 28.96s/it]"
          ]
        },
        {
          "name": "stdout",
          "output_type": "stream",
          "text": [
            "Train Loss: 1.3499 | Valid Loss: 1.7856\n"
          ]
        },
        {
          "name": "stderr",
          "output_type": "stream",
          "text": [
            "\n"
          ]
        },
        {
          "name": "stdout",
          "output_type": "stream",
          "text": [
            "\n",
            "Validation Accuracy: 0.0037\n"
          ]
        },
        {
          "name": "stderr",
          "output_type": "stream",
          "text": [
            "\u001b[34m\u001b[1mwandb\u001b[0m:                                                                                \n",
            "\u001b[34m\u001b[1mwandb\u001b[0m: \n",
            "\u001b[34m\u001b[1mwandb\u001b[0m: Run history:\n",
            "\u001b[34m\u001b[1mwandb\u001b[0m:           epoch ▁▂▃▃▄▅▆▆▇█\n",
            "\u001b[34m\u001b[1mwandb\u001b[0m:      train_loss █▅▃▃▂▂▁▁▁▁\n",
            "\u001b[34m\u001b[1mwandb\u001b[0m:    val_accuracy ▁\n",
            "\u001b[34m\u001b[1mwandb\u001b[0m: validation_loss █▇▅▅▃▂▂▂▁▁\n",
            "\u001b[34m\u001b[1mwandb\u001b[0m: \n",
            "\u001b[34m\u001b[1mwandb\u001b[0m: Run summary:\n",
            "\u001b[34m\u001b[1mwandb\u001b[0m:           epoch 9\n",
            "\u001b[34m\u001b[1mwandb\u001b[0m:      train_loss 1.34987\n",
            "\u001b[34m\u001b[1mwandb\u001b[0m:    val_accuracy 0.00367\n",
            "\u001b[34m\u001b[1mwandb\u001b[0m: validation_loss 1.78565\n",
            "\u001b[34m\u001b[1mwandb\u001b[0m: \n",
            "\u001b[34m\u001b[1mwandb\u001b[0m: 🚀 View run \u001b[33membedding_size_16_num_layers_1_hidden_size_16                           _cell_type_GRU_dp_0.3_lr_0.01_batch_32\u001b[0m at: \u001b[34m\u001b[4mhttps://wandb.ai/da24m021-indian-institute-of-technology-madras/da24m021_da6401_assignment3/runs/ctg667t3\u001b[0m\n",
            "\u001b[34m\u001b[1mwandb\u001b[0m: ⭐️ View project at: \u001b[34m\u001b[4mhttps://wandb.ai/da24m021-indian-institute-of-technology-madras/da24m021_da6401_assignment3\u001b[0m\n",
            "\u001b[34m\u001b[1mwandb\u001b[0m: Synced 5 W&B file(s), 0 media file(s), 0 artifact file(s) and 0 other file(s)\n",
            "\u001b[34m\u001b[1mwandb\u001b[0m: Find logs at: \u001b[35m\u001b[1m./wandb/run-20250514_113927-ctg667t3/logs\u001b[0m\n",
            "\u001b[34m\u001b[1mwandb\u001b[0m: Agent Starting Run: a7fqo0gm with config:\n",
            "\u001b[34m\u001b[1mwandb\u001b[0m: \tbatch_size: 32\n",
            "\u001b[34m\u001b[1mwandb\u001b[0m: \tcell_type: GRU\n",
            "\u001b[34m\u001b[1mwandb\u001b[0m: \tdropout: 0.2\n",
            "\u001b[34m\u001b[1mwandb\u001b[0m: \tembedding_size: 32\n",
            "\u001b[34m\u001b[1mwandb\u001b[0m: \thidden_size: 2048\n",
            "\u001b[34m\u001b[1mwandb\u001b[0m: \tlearning_rate: 0.0005\n",
            "\u001b[34m\u001b[1mwandb\u001b[0m: \tnum_layers: 4\n",
            "\u001b[34m\u001b[1mwandb\u001b[0m: Tracking run with wandb version 0.19.9\n",
            "\u001b[34m\u001b[1mwandb\u001b[0m: Run data is saved locally in \u001b[35m\u001b[1m/kaggle/working/wandb/run-20250514_114441-a7fqo0gm\u001b[0m\n",
            "\u001b[34m\u001b[1mwandb\u001b[0m: Run \u001b[1m`wandb offline`\u001b[0m to turn off syncing.\n",
            "\u001b[34m\u001b[1mwandb\u001b[0m: Syncing run \u001b[33mhonest-sweep-19\u001b[0m\n",
            "\u001b[34m\u001b[1mwandb\u001b[0m: ⭐️ View project at \u001b[34m\u001b[4mhttps://wandb.ai/da24m021-indian-institute-of-technology-madras/da24m021_da6401_assignment3\u001b[0m\n",
            "\u001b[34m\u001b[1mwandb\u001b[0m: 🧹 View sweep at \u001b[34m\u001b[4mhttps://wandb.ai/da24m021-indian-institute-of-technology-madras/da24m021_da6401_assignment3/sweeps/6g2ha9nv\u001b[0m\n",
            "\u001b[34m\u001b[1mwandb\u001b[0m: 🚀 View run at \u001b[34m\u001b[4mhttps://wandb.ai/da24m021-indian-institute-of-technology-madras/da24m021_da6401_assignment3/runs/a7fqo0gm\u001b[0m\n",
            " 10%|█         | 1/10 [04:02<36:18, 242.08s/it]"
          ]
        },
        {
          "name": "stdout",
          "output_type": "stream",
          "text": [
            "Train Loss: 0.9311 | Valid Loss: 0.9687\n"
          ]
        },
        {
          "name": "stderr",
          "output_type": "stream",
          "text": [
            " 20%|██        | 2/10 [08:04<32:17, 242.23s/it]"
          ]
        },
        {
          "name": "stdout",
          "output_type": "stream",
          "text": [
            "Train Loss: 0.4567 | Valid Loss: 0.9113\n"
          ]
        },
        {
          "name": "stderr",
          "output_type": "stream",
          "text": [
            " 30%|███       | 3/10 [12:06<28:14, 242.12s/it]"
          ]
        },
        {
          "name": "stdout",
          "output_type": "stream",
          "text": [
            "Train Loss: 0.3696 | Valid Loss: 0.9114\n"
          ]
        },
        {
          "name": "stderr",
          "output_type": "stream",
          "text": [
            " 40%|████      | 4/10 [16:08<24:13, 242.25s/it]"
          ]
        },
        {
          "name": "stdout",
          "output_type": "stream",
          "text": [
            "Train Loss: 0.3216 | Valid Loss: 0.9359\n"
          ]
        },
        {
          "name": "stderr",
          "output_type": "stream",
          "text": [
            " 50%|█████     | 5/10 [20:11<20:11, 242.35s/it]"
          ]
        },
        {
          "name": "stdout",
          "output_type": "stream",
          "text": [
            "Train Loss: 0.2947 | Valid Loss: 0.9393\n"
          ]
        },
        {
          "name": "stderr",
          "output_type": "stream",
          "text": [
            " 60%|██████    | 6/10 [24:13<16:08, 242.24s/it]"
          ]
        },
        {
          "name": "stdout",
          "output_type": "stream",
          "text": [
            "Train Loss: 0.2808 | Valid Loss: 0.9505\n"
          ]
        },
        {
          "name": "stderr",
          "output_type": "stream",
          "text": [
            " 70%|███████   | 7/10 [28:15<12:06, 242.10s/it]"
          ]
        },
        {
          "name": "stdout",
          "output_type": "stream",
          "text": [
            "Train Loss: 0.2719 | Valid Loss: 0.9915\n"
          ]
        },
        {
          "name": "stderr",
          "output_type": "stream",
          "text": [
            " 80%|████████  | 8/10 [32:17<08:04, 242.12s/it]"
          ]
        },
        {
          "name": "stdout",
          "output_type": "stream",
          "text": [
            "Train Loss: 0.2637 | Valid Loss: 0.9926\n"
          ]
        },
        {
          "name": "stderr",
          "output_type": "stream",
          "text": [
            " 90%|█████████ | 9/10 [36:19<04:01, 242.00s/it]"
          ]
        },
        {
          "name": "stdout",
          "output_type": "stream",
          "text": [
            "Train Loss: 0.2609 | Valid Loss: 1.0554\n"
          ]
        },
        {
          "name": "stderr",
          "output_type": "stream",
          "text": [
            "100%|██████████| 10/10 [40:21<00:00, 242.11s/it]"
          ]
        },
        {
          "name": "stdout",
          "output_type": "stream",
          "text": [
            "Train Loss: 0.2608 | Valid Loss: 1.0111\n"
          ]
        },
        {
          "name": "stderr",
          "output_type": "stream",
          "text": [
            "\n"
          ]
        },
        {
          "name": "stdout",
          "output_type": "stream",
          "text": [
            "\n",
            "Validation Accuracy: 0.3412\n"
          ]
        },
        {
          "name": "stderr",
          "output_type": "stream",
          "text": [
            "\u001b[34m\u001b[1mwandb\u001b[0m:                                                                                \n",
            "\u001b[34m\u001b[1mwandb\u001b[0m: \n",
            "\u001b[34m\u001b[1mwandb\u001b[0m: Run history:\n",
            "\u001b[34m\u001b[1mwandb\u001b[0m:           epoch ▁▂▃▃▄▅▆▆▇█\n",
            "\u001b[34m\u001b[1mwandb\u001b[0m:      train_loss █▃▂▂▁▁▁▁▁▁\n",
            "\u001b[34m\u001b[1mwandb\u001b[0m:    val_accuracy ▁\n",
            "\u001b[34m\u001b[1mwandb\u001b[0m: validation_loss ▄▁▁▂▂▃▅▅█▆\n",
            "\u001b[34m\u001b[1mwandb\u001b[0m: \n",
            "\u001b[34m\u001b[1mwandb\u001b[0m: Run summary:\n",
            "\u001b[34m\u001b[1mwandb\u001b[0m:           epoch 9\n",
            "\u001b[34m\u001b[1mwandb\u001b[0m:      train_loss 0.26075\n",
            "\u001b[34m\u001b[1mwandb\u001b[0m:    val_accuracy 0.34121\n",
            "\u001b[34m\u001b[1mwandb\u001b[0m: validation_loss 1.01113\n",
            "\u001b[34m\u001b[1mwandb\u001b[0m: \n",
            "\u001b[34m\u001b[1mwandb\u001b[0m: 🚀 View run \u001b[33membedding_size_32_num_layers_4_hidden_size_2048                           _cell_type_GRU_dp_0.2_lr_0.0005_batch_32\u001b[0m at: \u001b[34m\u001b[4mhttps://wandb.ai/da24m021-indian-institute-of-technology-madras/da24m021_da6401_assignment3/runs/a7fqo0gm\u001b[0m\n",
            "\u001b[34m\u001b[1mwandb\u001b[0m: ⭐️ View project at: \u001b[34m\u001b[4mhttps://wandb.ai/da24m021-indian-institute-of-technology-madras/da24m021_da6401_assignment3\u001b[0m\n",
            "\u001b[34m\u001b[1mwandb\u001b[0m: Synced 5 W&B file(s), 0 media file(s), 0 artifact file(s) and 0 other file(s)\n",
            "\u001b[34m\u001b[1mwandb\u001b[0m: Find logs at: \u001b[35m\u001b[1m./wandb/run-20250514_114441-a7fqo0gm/logs\u001b[0m\n",
            "\u001b[34m\u001b[1mwandb\u001b[0m: Agent Starting Run: rvuissq3 with config:\n",
            "\u001b[34m\u001b[1mwandb\u001b[0m: \tbatch_size: 16\n",
            "\u001b[34m\u001b[1mwandb\u001b[0m: \tcell_type: LSTM\n",
            "\u001b[34m\u001b[1mwandb\u001b[0m: \tdropout: 0.2\n",
            "\u001b[34m\u001b[1mwandb\u001b[0m: \tembedding_size: 16\n",
            "\u001b[34m\u001b[1mwandb\u001b[0m: \thidden_size: 2048\n",
            "\u001b[34m\u001b[1mwandb\u001b[0m: \tlearning_rate: 0.001\n",
            "\u001b[34m\u001b[1mwandb\u001b[0m: \tnum_layers: 4\n",
            "\u001b[34m\u001b[1mwandb\u001b[0m: Tracking run with wandb version 0.19.9\n",
            "\u001b[34m\u001b[1mwandb\u001b[0m: Run data is saved locally in \u001b[35m\u001b[1m/kaggle/working/wandb/run-20250514_122615-rvuissq3\u001b[0m\n",
            "\u001b[34m\u001b[1mwandb\u001b[0m: Run \u001b[1m`wandb offline`\u001b[0m to turn off syncing.\n",
            "\u001b[34m\u001b[1mwandb\u001b[0m: Syncing run \u001b[33mlively-sweep-20\u001b[0m\n",
            "\u001b[34m\u001b[1mwandb\u001b[0m: ⭐️ View project at \u001b[34m\u001b[4mhttps://wandb.ai/da24m021-indian-institute-of-technology-madras/da24m021_da6401_assignment3\u001b[0m\n",
            "\u001b[34m\u001b[1mwandb\u001b[0m: 🧹 View sweep at \u001b[34m\u001b[4mhttps://wandb.ai/da24m021-indian-institute-of-technology-madras/da24m021_da6401_assignment3/sweeps/6g2ha9nv\u001b[0m\n",
            "\u001b[34m\u001b[1mwandb\u001b[0m: 🚀 View run at \u001b[34m\u001b[4mhttps://wandb.ai/da24m021-indian-institute-of-technology-madras/da24m021_da6401_assignment3/runs/rvuissq3\u001b[0m\n",
            " 10%|█         | 1/10 [11:08<1:40:20, 668.97s/it]"
          ]
        },
        {
          "name": "stdout",
          "output_type": "stream",
          "text": [
            "Train Loss: 2.0251 | Valid Loss: 2.2138\n"
          ]
        },
        {
          "name": "stderr",
          "output_type": "stream",
          "text": [
            " 20%|██        | 2/10 [22:16<1:29:05, 668.13s/it]"
          ]
        },
        {
          "name": "stdout",
          "output_type": "stream",
          "text": [
            "Train Loss: 1.7113 | Valid Loss: 1.7290\n"
          ]
        },
        {
          "name": "stderr",
          "output_type": "stream",
          "text": [
            " 30%|███       | 3/10 [33:24<1:17:56, 668.03s/it]"
          ]
        },
        {
          "name": "stdout",
          "output_type": "stream",
          "text": [
            "Train Loss: 1.3740 | Valid Loss: 1.4077\n"
          ]
        },
        {
          "name": "stderr",
          "output_type": "stream",
          "text": [
            " 40%|████      | 4/10 [44:32<1:06:47, 667.86s/it]"
          ]
        },
        {
          "name": "stdout",
          "output_type": "stream",
          "text": [
            "Train Loss: 1.1136 | Valid Loss: 1.1475\n"
          ]
        },
        {
          "name": "stderr",
          "output_type": "stream",
          "text": [
            " 50%|█████     | 5/10 [55:40<55:40, 668.04s/it]  "
          ]
        },
        {
          "name": "stdout",
          "output_type": "stream",
          "text": [
            "Train Loss: 0.9109 | Valid Loss: 0.9989\n"
          ]
        },
        {
          "name": "stderr",
          "output_type": "stream",
          "text": [
            " 60%|██████    | 6/10 [1:06:48<44:31, 667.98s/it]"
          ]
        },
        {
          "name": "stdout",
          "output_type": "stream",
          "text": [
            "Train Loss: 0.7761 | Valid Loss: 0.8962\n"
          ]
        },
        {
          "name": "stderr",
          "output_type": "stream",
          "text": [
            " 70%|███████   | 7/10 [1:17:56<33:24, 668.06s/it]"
          ]
        },
        {
          "name": "stdout",
          "output_type": "stream",
          "text": [
            "Train Loss: 0.6825 | Valid Loss: 0.8326\n"
          ]
        },
        {
          "name": "stderr",
          "output_type": "stream",
          "text": [
            " 80%|████████  | 8/10 [1:29:04<22:15, 667.99s/it]"
          ]
        },
        {
          "name": "stdout",
          "output_type": "stream",
          "text": [
            "Train Loss: 0.6126 | Valid Loss: 0.8118\n"
          ]
        },
        {
          "name": "stderr",
          "output_type": "stream",
          "text": [
            " 90%|█████████ | 9/10 [1:40:11<11:07, 667.85s/it]"
          ]
        },
        {
          "name": "stdout",
          "output_type": "stream",
          "text": [
            "Train Loss: 0.5602 | Valid Loss: 0.8094\n"
          ]
        },
        {
          "name": "stderr",
          "output_type": "stream",
          "text": [
            "100%|██████████| 10/10 [1:51:20<00:00, 668.02s/it]"
          ]
        },
        {
          "name": "stdout",
          "output_type": "stream",
          "text": [
            "Train Loss: 0.5150 | Valid Loss: 0.8028\n"
          ]
        },
        {
          "name": "stderr",
          "output_type": "stream",
          "text": [
            "\n"
          ]
        },
        {
          "name": "stdout",
          "output_type": "stream",
          "text": [
            "\n",
            "Validation Accuracy: 0.1847\n"
          ]
        },
        {
          "name": "stderr",
          "output_type": "stream",
          "text": [
            "\u001b[34m\u001b[1mwandb\u001b[0m:                                                                                \n",
            "\u001b[34m\u001b[1mwandb\u001b[0m: \n",
            "\u001b[34m\u001b[1mwandb\u001b[0m: Run history:\n",
            "\u001b[34m\u001b[1mwandb\u001b[0m:           epoch ▁▂▃▃▄▅▆▆▇█\n",
            "\u001b[34m\u001b[1mwandb\u001b[0m:      train_loss █▇▅▄▃▂▂▁▁▁\n",
            "\u001b[34m\u001b[1mwandb\u001b[0m:    val_accuracy ▁\n",
            "\u001b[34m\u001b[1mwandb\u001b[0m: validation_loss █▆▄▃▂▁▁▁▁▁\n",
            "\u001b[34m\u001b[1mwandb\u001b[0m: \n",
            "\u001b[34m\u001b[1mwandb\u001b[0m: Run summary:\n",
            "\u001b[34m\u001b[1mwandb\u001b[0m:           epoch 9\n",
            "\u001b[34m\u001b[1mwandb\u001b[0m:      train_loss 0.51496\n",
            "\u001b[34m\u001b[1mwandb\u001b[0m:    val_accuracy 0.18472\n",
            "\u001b[34m\u001b[1mwandb\u001b[0m: validation_loss 0.80279\n",
            "\u001b[34m\u001b[1mwandb\u001b[0m: \n",
            "\u001b[34m\u001b[1mwandb\u001b[0m: 🚀 View run \u001b[33membedding_size_16_num_layers_4_hidden_size_2048                           _cell_type_LSTM_dp_0.2_lr_0.001_batch_16\u001b[0m at: \u001b[34m\u001b[4mhttps://wandb.ai/da24m021-indian-institute-of-technology-madras/da24m021_da6401_assignment3/runs/rvuissq3\u001b[0m\n",
            "\u001b[34m\u001b[1mwandb\u001b[0m: ⭐️ View project at: \u001b[34m\u001b[4mhttps://wandb.ai/da24m021-indian-institute-of-technology-madras/da24m021_da6401_assignment3\u001b[0m\n",
            "\u001b[34m\u001b[1mwandb\u001b[0m: Synced 5 W&B file(s), 0 media file(s), 0 artifact file(s) and 0 other file(s)\n",
            "\u001b[34m\u001b[1mwandb\u001b[0m: Find logs at: \u001b[35m\u001b[1m./wandb/run-20250514_122615-rvuissq3/logs\u001b[0m\n",
            "\u001b[34m\u001b[1mwandb\u001b[0m: Agent Starting Run: er9bpxpn with config:\n",
            "\u001b[34m\u001b[1mwandb\u001b[0m: \tbatch_size: 32\n",
            "\u001b[34m\u001b[1mwandb\u001b[0m: \tcell_type: GRU\n",
            "\u001b[34m\u001b[1mwandb\u001b[0m: \tdropout: 0.2\n",
            "\u001b[34m\u001b[1mwandb\u001b[0m: \tembedding_size: 16\n",
            "\u001b[34m\u001b[1mwandb\u001b[0m: \thidden_size: 1024\n",
            "\u001b[34m\u001b[1mwandb\u001b[0m: \tlearning_rate: 0.0005\n",
            "\u001b[34m\u001b[1mwandb\u001b[0m: \tnum_layers: 3\n",
            "\u001b[34m\u001b[1mwandb\u001b[0m: Tracking run with wandb version 0.19.9\n",
            "\u001b[34m\u001b[1mwandb\u001b[0m: Run data is saved locally in \u001b[35m\u001b[1m/kaggle/working/wandb/run-20250514_141908-er9bpxpn\u001b[0m\n",
            "\u001b[34m\u001b[1mwandb\u001b[0m: Run \u001b[1m`wandb offline`\u001b[0m to turn off syncing.\n",
            "\u001b[34m\u001b[1mwandb\u001b[0m: Syncing run \u001b[33mflowing-sweep-21\u001b[0m\n",
            "\u001b[34m\u001b[1mwandb\u001b[0m: ⭐️ View project at \u001b[34m\u001b[4mhttps://wandb.ai/da24m021-indian-institute-of-technology-madras/da24m021_da6401_assignment3\u001b[0m\n",
            "\u001b[34m\u001b[1mwandb\u001b[0m: 🧹 View sweep at \u001b[34m\u001b[4mhttps://wandb.ai/da24m021-indian-institute-of-technology-madras/da24m021_da6401_assignment3/sweeps/6g2ha9nv\u001b[0m\n",
            "\u001b[34m\u001b[1mwandb\u001b[0m: 🚀 View run at \u001b[34m\u001b[4mhttps://wandb.ai/da24m021-indian-institute-of-technology-madras/da24m021_da6401_assignment3/runs/er9bpxpn\u001b[0m\n",
            " 10%|█         | 1/10 [01:02<09:23, 62.56s/it]"
          ]
        },
        {
          "name": "stdout",
          "output_type": "stream",
          "text": [
            "Train Loss: 1.0665 | Valid Loss: 0.9749\n"
          ]
        },
        {
          "name": "stderr",
          "output_type": "stream",
          "text": [
            " 20%|██        | 2/10 [02:04<08:19, 62.43s/it]"
          ]
        },
        {
          "name": "stdout",
          "output_type": "stream",
          "text": [
            "Train Loss: 0.4906 | Valid Loss: 0.8832\n"
          ]
        },
        {
          "name": "stderr",
          "output_type": "stream",
          "text": [
            " 30%|███       | 3/10 [03:07<07:17, 62.45s/it]"
          ]
        },
        {
          "name": "stdout",
          "output_type": "stream",
          "text": [
            "Train Loss: 0.3748 | Valid Loss: 0.8650\n"
          ]
        },
        {
          "name": "stderr",
          "output_type": "stream",
          "text": [
            " 40%|████      | 4/10 [04:09<06:14, 62.45s/it]"
          ]
        },
        {
          "name": "stdout",
          "output_type": "stream",
          "text": [
            "Train Loss: 0.3056 | Valid Loss: 0.8697\n"
          ]
        },
        {
          "name": "stderr",
          "output_type": "stream",
          "text": [
            " 50%|█████     | 5/10 [05:12<05:12, 62.49s/it]"
          ]
        },
        {
          "name": "stdout",
          "output_type": "stream",
          "text": [
            "Train Loss: 0.2606 | Valid Loss: 0.8890\n"
          ]
        },
        {
          "name": "stderr",
          "output_type": "stream",
          "text": [
            " 60%|██████    | 6/10 [06:14<04:09, 62.46s/it]"
          ]
        },
        {
          "name": "stdout",
          "output_type": "stream",
          "text": [
            "Train Loss: 0.2236 | Valid Loss: 0.8879\n"
          ]
        },
        {
          "name": "stderr",
          "output_type": "stream",
          "text": [
            " 70%|███████   | 7/10 [07:17<03:07, 62.53s/it]"
          ]
        },
        {
          "name": "stdout",
          "output_type": "stream",
          "text": [
            "Train Loss: 0.1977 | Valid Loss: 0.9725\n"
          ]
        },
        {
          "name": "stderr",
          "output_type": "stream",
          "text": [
            " 80%|████████  | 8/10 [08:20<02:05, 62.57s/it]"
          ]
        },
        {
          "name": "stdout",
          "output_type": "stream",
          "text": [
            "Train Loss: 0.1841 | Valid Loss: 0.9579\n"
          ]
        },
        {
          "name": "stderr",
          "output_type": "stream",
          "text": [
            " 90%|█████████ | 9/10 [09:22<01:02, 62.52s/it]"
          ]
        },
        {
          "name": "stdout",
          "output_type": "stream",
          "text": [
            "Train Loss: 0.1737 | Valid Loss: 1.0258\n"
          ]
        },
        {
          "name": "stderr",
          "output_type": "stream",
          "text": [
            "100%|██████████| 10/10 [10:25<00:00, 62.50s/it]"
          ]
        },
        {
          "name": "stdout",
          "output_type": "stream",
          "text": [
            "Train Loss: 0.1588 | Valid Loss: 1.0209\n"
          ]
        },
        {
          "name": "stderr",
          "output_type": "stream",
          "text": [
            "\n"
          ]
        },
        {
          "name": "stdout",
          "output_type": "stream",
          "text": [
            "\n",
            "Validation Accuracy: 0.3497\n"
          ]
        },
        {
          "name": "stderr",
          "output_type": "stream",
          "text": [
            "\u001b[34m\u001b[1mwandb\u001b[0m:                                                                                \n",
            "\u001b[34m\u001b[1mwandb\u001b[0m: \n",
            "\u001b[34m\u001b[1mwandb\u001b[0m: Run history:\n",
            "\u001b[34m\u001b[1mwandb\u001b[0m:           epoch ▁▂▃▃▄▅▆▆▇█\n",
            "\u001b[34m\u001b[1mwandb\u001b[0m:      train_loss █▄▃▂▂▂▁▁▁▁\n",
            "\u001b[34m\u001b[1mwandb\u001b[0m:    val_accuracy ▁\n",
            "\u001b[34m\u001b[1mwandb\u001b[0m: validation_loss ▆▂▁▁▂▂▆▅██\n",
            "\u001b[34m\u001b[1mwandb\u001b[0m: \n",
            "\u001b[34m\u001b[1mwandb\u001b[0m: Run summary:\n",
            "\u001b[34m\u001b[1mwandb\u001b[0m:           epoch 9\n",
            "\u001b[34m\u001b[1mwandb\u001b[0m:      train_loss 0.15876\n",
            "\u001b[34m\u001b[1mwandb\u001b[0m:    val_accuracy 0.3497\n",
            "\u001b[34m\u001b[1mwandb\u001b[0m: validation_loss 1.02088\n",
            "\u001b[34m\u001b[1mwandb\u001b[0m: \n",
            "\u001b[34m\u001b[1mwandb\u001b[0m: 🚀 View run \u001b[33membedding_size_16_num_layers_3_hidden_size_1024                           _cell_type_GRU_dp_0.2_lr_0.0005_batch_32\u001b[0m at: \u001b[34m\u001b[4mhttps://wandb.ai/da24m021-indian-institute-of-technology-madras/da24m021_da6401_assignment3/runs/er9bpxpn\u001b[0m\n",
            "\u001b[34m\u001b[1mwandb\u001b[0m: ⭐️ View project at: \u001b[34m\u001b[4mhttps://wandb.ai/da24m021-indian-institute-of-technology-madras/da24m021_da6401_assignment3\u001b[0m\n",
            "\u001b[34m\u001b[1mwandb\u001b[0m: Synced 5 W&B file(s), 0 media file(s), 0 artifact file(s) and 0 other file(s)\n",
            "\u001b[34m\u001b[1mwandb\u001b[0m: Find logs at: \u001b[35m\u001b[1m./wandb/run-20250514_141908-er9bpxpn/logs\u001b[0m\n",
            "\u001b[34m\u001b[1mwandb\u001b[0m: Agent Starting Run: unkvxm8u with config:\n",
            "\u001b[34m\u001b[1mwandb\u001b[0m: \tbatch_size: 32\n",
            "\u001b[34m\u001b[1mwandb\u001b[0m: \tcell_type: GRU\n",
            "\u001b[34m\u001b[1mwandb\u001b[0m: \tdropout: 0\n",
            "\u001b[34m\u001b[1mwandb\u001b[0m: \tembedding_size: 16\n",
            "\u001b[34m\u001b[1mwandb\u001b[0m: \thidden_size: 2048\n",
            "\u001b[34m\u001b[1mwandb\u001b[0m: \tlearning_rate: 0.0005\n",
            "\u001b[34m\u001b[1mwandb\u001b[0m: \tnum_layers: 4\n",
            "\u001b[34m\u001b[1mwandb\u001b[0m: Tracking run with wandb version 0.19.9\n",
            "\u001b[34m\u001b[1mwandb\u001b[0m: Run data is saved locally in \u001b[35m\u001b[1m/kaggle/working/wandb/run-20250514_143008-unkvxm8u\u001b[0m\n",
            "\u001b[34m\u001b[1mwandb\u001b[0m: Run \u001b[1m`wandb offline`\u001b[0m to turn off syncing.\n",
            "\u001b[34m\u001b[1mwandb\u001b[0m: Syncing run \u001b[33msmooth-sweep-22\u001b[0m\n",
            "\u001b[34m\u001b[1mwandb\u001b[0m: ⭐️ View project at \u001b[34m\u001b[4mhttps://wandb.ai/da24m021-indian-institute-of-technology-madras/da24m021_da6401_assignment3\u001b[0m\n",
            "\u001b[34m\u001b[1mwandb\u001b[0m: 🧹 View sweep at \u001b[34m\u001b[4mhttps://wandb.ai/da24m021-indian-institute-of-technology-madras/da24m021_da6401_assignment3/sweeps/6g2ha9nv\u001b[0m\n",
            "\u001b[34m\u001b[1mwandb\u001b[0m: 🚀 View run at \u001b[34m\u001b[4mhttps://wandb.ai/da24m021-indian-institute-of-technology-madras/da24m021_da6401_assignment3/runs/unkvxm8u\u001b[0m\n",
            " 10%|█         | 1/10 [03:55<35:19, 235.47s/it]"
          ]
        },
        {
          "name": "stdout",
          "output_type": "stream",
          "text": [
            "Train Loss: 0.9191 | Valid Loss: 0.9462\n"
          ]
        },
        {
          "name": "stderr",
          "output_type": "stream",
          "text": [
            " 20%|██        | 2/10 [07:50<31:22, 235.33s/it]"
          ]
        },
        {
          "name": "stdout",
          "output_type": "stream",
          "text": [
            "Train Loss: 0.4207 | Valid Loss: 0.9044\n"
          ]
        },
        {
          "name": "stderr",
          "output_type": "stream",
          "text": [
            " 30%|███       | 3/10 [11:45<27:26, 235.26s/it]"
          ]
        },
        {
          "name": "stdout",
          "output_type": "stream",
          "text": [
            "Train Loss: 0.3219 | Valid Loss: 0.9026\n"
          ]
        },
        {
          "name": "stderr",
          "output_type": "stream",
          "text": [
            " 40%|████      | 4/10 [15:41<23:31, 235.31s/it]"
          ]
        },
        {
          "name": "stdout",
          "output_type": "stream",
          "text": [
            "Train Loss: 0.2592 | Valid Loss: 0.9629\n"
          ]
        },
        {
          "name": "stderr",
          "output_type": "stream",
          "text": [
            " 50%|█████     | 5/10 [19:36<19:36, 235.29s/it]"
          ]
        },
        {
          "name": "stdout",
          "output_type": "stream",
          "text": [
            "Train Loss: 0.2267 | Valid Loss: 1.0041\n"
          ]
        },
        {
          "name": "stderr",
          "output_type": "stream",
          "text": [
            " 60%|██████    | 6/10 [23:31<15:41, 235.26s/it]"
          ]
        },
        {
          "name": "stdout",
          "output_type": "stream",
          "text": [
            "Train Loss: 0.2040 | Valid Loss: 1.0275\n"
          ]
        },
        {
          "name": "stderr",
          "output_type": "stream",
          "text": [
            " 70%|███████   | 7/10 [27:26<11:45, 235.26s/it]"
          ]
        },
        {
          "name": "stdout",
          "output_type": "stream",
          "text": [
            "Train Loss: 0.1854 | Valid Loss: 1.0443\n"
          ]
        },
        {
          "name": "stderr",
          "output_type": "stream",
          "text": [
            " 80%|████████  | 8/10 [31:22<07:50, 235.28s/it]"
          ]
        },
        {
          "name": "stdout",
          "output_type": "stream",
          "text": [
            "Train Loss: 0.1791 | Valid Loss: 1.0684\n"
          ]
        },
        {
          "name": "stderr",
          "output_type": "stream",
          "text": [
            " 90%|█████████ | 9/10 [35:17<03:55, 235.27s/it]"
          ]
        },
        {
          "name": "stdout",
          "output_type": "stream",
          "text": [
            "Train Loss: 0.1740 | Valid Loss: 1.0819\n"
          ]
        },
        {
          "name": "stderr",
          "output_type": "stream",
          "text": [
            "100%|██████████| 10/10 [39:13<00:00, 235.31s/it]"
          ]
        },
        {
          "name": "stdout",
          "output_type": "stream",
          "text": [
            "Train Loss: 0.1712 | Valid Loss: 1.0892\n"
          ]
        },
        {
          "name": "stderr",
          "output_type": "stream",
          "text": [
            "\n"
          ]
        },
        {
          "name": "stdout",
          "output_type": "stream",
          "text": [
            "\n",
            "Validation Accuracy: 0.3153\n"
          ]
        },
        {
          "name": "stderr",
          "output_type": "stream",
          "text": [
            "\u001b[34m\u001b[1mwandb\u001b[0m:                                                                                \n",
            "\u001b[34m\u001b[1mwandb\u001b[0m: \n",
            "\u001b[34m\u001b[1mwandb\u001b[0m: Run history:\n",
            "\u001b[34m\u001b[1mwandb\u001b[0m:           epoch ▁▂▃▃▄▅▆▆▇█\n",
            "\u001b[34m\u001b[1mwandb\u001b[0m:      train_loss █▃▂▂▂▁▁▁▁▁\n",
            "\u001b[34m\u001b[1mwandb\u001b[0m:    val_accuracy ▁\n",
            "\u001b[34m\u001b[1mwandb\u001b[0m: validation_loss ▃▁▁▃▅▆▆▇██\n",
            "\u001b[34m\u001b[1mwandb\u001b[0m: \n",
            "\u001b[34m\u001b[1mwandb\u001b[0m: Run summary:\n",
            "\u001b[34m\u001b[1mwandb\u001b[0m:           epoch 9\n",
            "\u001b[34m\u001b[1mwandb\u001b[0m:      train_loss 0.1712\n",
            "\u001b[34m\u001b[1mwandb\u001b[0m:    val_accuracy 0.31528\n",
            "\u001b[34m\u001b[1mwandb\u001b[0m: validation_loss 1.08918\n",
            "\u001b[34m\u001b[1mwandb\u001b[0m: \n",
            "\u001b[34m\u001b[1mwandb\u001b[0m: 🚀 View run \u001b[33membedding_size_16_num_layers_4_hidden_size_2048                           _cell_type_GRU_dp_0_lr_0.0005_batch_32\u001b[0m at: \u001b[34m\u001b[4mhttps://wandb.ai/da24m021-indian-institute-of-technology-madras/da24m021_da6401_assignment3/runs/unkvxm8u\u001b[0m\n",
            "\u001b[34m\u001b[1mwandb\u001b[0m: ⭐️ View project at: \u001b[34m\u001b[4mhttps://wandb.ai/da24m021-indian-institute-of-technology-madras/da24m021_da6401_assignment3\u001b[0m\n",
            "\u001b[34m\u001b[1mwandb\u001b[0m: Synced 5 W&B file(s), 0 media file(s), 0 artifact file(s) and 0 other file(s)\n",
            "\u001b[34m\u001b[1mwandb\u001b[0m: Find logs at: \u001b[35m\u001b[1m./wandb/run-20250514_143008-unkvxm8u/logs\u001b[0m\n",
            "\u001b[34m\u001b[1mwandb\u001b[0m: Agent Starting Run: c1op0ysm with config:\n",
            "\u001b[34m\u001b[1mwandb\u001b[0m: \tbatch_size: 32\n",
            "\u001b[34m\u001b[1mwandb\u001b[0m: \tcell_type: RNN\n",
            "\u001b[34m\u001b[1mwandb\u001b[0m: \tdropout: 0.2\n",
            "\u001b[34m\u001b[1mwandb\u001b[0m: \tembedding_size: 16\n",
            "\u001b[34m\u001b[1mwandb\u001b[0m: \thidden_size: 512\n",
            "\u001b[34m\u001b[1mwandb\u001b[0m: \tlearning_rate: 0.001\n",
            "\u001b[34m\u001b[1mwandb\u001b[0m: \tnum_layers: 4\n",
            "\u001b[34m\u001b[1mwandb\u001b[0m: Tracking run with wandb version 0.19.9\n",
            "\u001b[34m\u001b[1mwandb\u001b[0m: Run data is saved locally in \u001b[35m\u001b[1m/kaggle/working/wandb/run-20250514_151034-c1op0ysm\u001b[0m\n",
            "\u001b[34m\u001b[1mwandb\u001b[0m: Run \u001b[1m`wandb offline`\u001b[0m to turn off syncing.\n",
            "\u001b[34m\u001b[1mwandb\u001b[0m: Syncing run \u001b[33mabsurd-sweep-23\u001b[0m\n",
            "\u001b[34m\u001b[1mwandb\u001b[0m: ⭐️ View project at \u001b[34m\u001b[4mhttps://wandb.ai/da24m021-indian-institute-of-technology-madras/da24m021_da6401_assignment3\u001b[0m\n",
            "\u001b[34m\u001b[1mwandb\u001b[0m: 🧹 View sweep at \u001b[34m\u001b[4mhttps://wandb.ai/da24m021-indian-institute-of-technology-madras/da24m021_da6401_assignment3/sweeps/6g2ha9nv\u001b[0m\n",
            "\u001b[34m\u001b[1mwandb\u001b[0m: 🚀 View run at \u001b[34m\u001b[4mhttps://wandb.ai/da24m021-indian-institute-of-technology-madras/da24m021_da6401_assignment3/runs/c1op0ysm\u001b[0m\n",
            " 10%|█         | 1/10 [00:45<06:46, 45.17s/it]"
          ]
        },
        {
          "name": "stdout",
          "output_type": "stream",
          "text": [
            "Train Loss: 1.9742 | Valid Loss: 2.5575\n"
          ]
        },
        {
          "name": "stderr",
          "output_type": "stream",
          "text": [
            " 20%|██        | 2/10 [01:30<06:03, 45.47s/it]"
          ]
        },
        {
          "name": "stdout",
          "output_type": "stream",
          "text": [
            "Train Loss: 1.8581 | Valid Loss: 2.5405\n"
          ]
        },
        {
          "name": "stderr",
          "output_type": "stream",
          "text": [
            " 30%|███       | 3/10 [02:17<05:20, 45.83s/it]"
          ]
        },
        {
          "name": "stdout",
          "output_type": "stream",
          "text": [
            "Train Loss: 1.8257 | Valid Loss: 2.4022\n"
          ]
        },
        {
          "name": "stderr",
          "output_type": "stream",
          "text": [
            " 40%|████      | 4/10 [03:03<04:36, 46.04s/it]"
          ]
        },
        {
          "name": "stdout",
          "output_type": "stream",
          "text": [
            "Train Loss: 1.7937 | Valid Loss: 2.3319\n"
          ]
        },
        {
          "name": "stderr",
          "output_type": "stream",
          "text": [
            " 50%|█████     | 5/10 [03:49<03:50, 46.15s/it]"
          ]
        },
        {
          "name": "stdout",
          "output_type": "stream",
          "text": [
            "Train Loss: 1.7830 | Valid Loss: 2.3911\n"
          ]
        },
        {
          "name": "stderr",
          "output_type": "stream",
          "text": [
            " 60%|██████    | 6/10 [04:35<03:04, 46.10s/it]"
          ]
        },
        {
          "name": "stdout",
          "output_type": "stream",
          "text": [
            "Train Loss: 1.7744 | Valid Loss: 2.4653\n"
          ]
        },
        {
          "name": "stderr",
          "output_type": "stream",
          "text": [
            " 70%|███████   | 7/10 [05:21<02:17, 45.83s/it]"
          ]
        },
        {
          "name": "stdout",
          "output_type": "stream",
          "text": [
            "Train Loss: 1.7711 | Valid Loss: 2.3185\n"
          ]
        },
        {
          "name": "stderr",
          "output_type": "stream",
          "text": [
            " 80%|████████  | 8/10 [06:06<01:31, 45.71s/it]"
          ]
        },
        {
          "name": "stdout",
          "output_type": "stream",
          "text": [
            "Train Loss: 1.7630 | Valid Loss: 2.3409\n"
          ]
        },
        {
          "name": "stderr",
          "output_type": "stream",
          "text": [
            " 90%|█████████ | 9/10 [06:52<00:45, 45.80s/it]"
          ]
        },
        {
          "name": "stdout",
          "output_type": "stream",
          "text": [
            "Train Loss: 1.7571 | Valid Loss: 2.3429\n"
          ]
        },
        {
          "name": "stderr",
          "output_type": "stream",
          "text": [
            "100%|██████████| 10/10 [07:38<00:00, 45.86s/it]"
          ]
        },
        {
          "name": "stdout",
          "output_type": "stream",
          "text": [
            "Train Loss: 1.7630 | Valid Loss: 2.3257\n"
          ]
        },
        {
          "name": "stderr",
          "output_type": "stream",
          "text": [
            "\n"
          ]
        },
        {
          "name": "stdout",
          "output_type": "stream",
          "text": [
            "\n",
            "Validation Accuracy: 0.0000\n"
          ]
        },
        {
          "name": "stderr",
          "output_type": "stream",
          "text": [
            "\u001b[34m\u001b[1mwandb\u001b[0m:                                                                                \n",
            "\u001b[34m\u001b[1mwandb\u001b[0m: \n",
            "\u001b[34m\u001b[1mwandb\u001b[0m: Run history:\n",
            "\u001b[34m\u001b[1mwandb\u001b[0m:           epoch ▁▂▃▃▄▅▆▆▇█\n",
            "\u001b[34m\u001b[1mwandb\u001b[0m:      train_loss █▄▃▂▂▂▁▁▁▁\n",
            "\u001b[34m\u001b[1mwandb\u001b[0m:    val_accuracy ▁\n",
            "\u001b[34m\u001b[1mwandb\u001b[0m: validation_loss ██▃▁▃▅▁▂▂▁\n",
            "\u001b[34m\u001b[1mwandb\u001b[0m: \n",
            "\u001b[34m\u001b[1mwandb\u001b[0m: Run summary:\n",
            "\u001b[34m\u001b[1mwandb\u001b[0m:           epoch 9\n",
            "\u001b[34m\u001b[1mwandb\u001b[0m:      train_loss 1.76301\n",
            "\u001b[34m\u001b[1mwandb\u001b[0m:    val_accuracy 0\n",
            "\u001b[34m\u001b[1mwandb\u001b[0m: validation_loss 2.32566\n",
            "\u001b[34m\u001b[1mwandb\u001b[0m: \n",
            "\u001b[34m\u001b[1mwandb\u001b[0m: 🚀 View run \u001b[33membedding_size_16_num_layers_4_hidden_size_512                           _cell_type_RNN_dp_0.2_lr_0.001_batch_32\u001b[0m at: \u001b[34m\u001b[4mhttps://wandb.ai/da24m021-indian-institute-of-technology-madras/da24m021_da6401_assignment3/runs/c1op0ysm\u001b[0m\n",
            "\u001b[34m\u001b[1mwandb\u001b[0m: ⭐️ View project at: \u001b[34m\u001b[4mhttps://wandb.ai/da24m021-indian-institute-of-technology-madras/da24m021_da6401_assignment3\u001b[0m\n",
            "\u001b[34m\u001b[1mwandb\u001b[0m: Synced 5 W&B file(s), 0 media file(s), 0 artifact file(s) and 0 other file(s)\n",
            "\u001b[34m\u001b[1mwandb\u001b[0m: Find logs at: \u001b[35m\u001b[1m./wandb/run-20250514_151034-c1op0ysm/logs\u001b[0m\n",
            "\u001b[34m\u001b[1mwandb\u001b[0m: Agent Starting Run: lo2mvib1 with config:\n",
            "\u001b[34m\u001b[1mwandb\u001b[0m: \tbatch_size: 32\n",
            "\u001b[34m\u001b[1mwandb\u001b[0m: \tcell_type: GRU\n",
            "\u001b[34m\u001b[1mwandb\u001b[0m: \tdropout: 0\n",
            "\u001b[34m\u001b[1mwandb\u001b[0m: \tembedding_size: 16\n",
            "\u001b[34m\u001b[1mwandb\u001b[0m: \thidden_size: 2048\n",
            "\u001b[34m\u001b[1mwandb\u001b[0m: \tlearning_rate: 0.0005\n",
            "\u001b[34m\u001b[1mwandb\u001b[0m: \tnum_layers: 3\n",
            "\u001b[34m\u001b[1mwandb\u001b[0m: Tracking run with wandb version 0.19.9\n",
            "\u001b[34m\u001b[1mwandb\u001b[0m: Run data is saved locally in \u001b[35m\u001b[1m/kaggle/working/wandb/run-20250514_151842-lo2mvib1\u001b[0m\n",
            "\u001b[34m\u001b[1mwandb\u001b[0m: Run \u001b[1m`wandb offline`\u001b[0m to turn off syncing.\n",
            "\u001b[34m\u001b[1mwandb\u001b[0m: Syncing run \u001b[33mdauntless-sweep-24\u001b[0m\n",
            "\u001b[34m\u001b[1mwandb\u001b[0m: ⭐️ View project at \u001b[34m\u001b[4mhttps://wandb.ai/da24m021-indian-institute-of-technology-madras/da24m021_da6401_assignment3\u001b[0m\n",
            "\u001b[34m\u001b[1mwandb\u001b[0m: 🧹 View sweep at \u001b[34m\u001b[4mhttps://wandb.ai/da24m021-indian-institute-of-technology-madras/da24m021_da6401_assignment3/sweeps/6g2ha9nv\u001b[0m\n",
            "\u001b[34m\u001b[1mwandb\u001b[0m: 🚀 View run at \u001b[34m\u001b[4mhttps://wandb.ai/da24m021-indian-institute-of-technology-madras/da24m021_da6401_assignment3/runs/lo2mvib1\u001b[0m\n",
            " 10%|█         | 1/10 [02:55<26:15, 175.09s/it]"
          ]
        },
        {
          "name": "stdout",
          "output_type": "stream",
          "text": [
            "Train Loss: 0.8765 | Valid Loss: 0.9423\n"
          ]
        },
        {
          "name": "stderr",
          "output_type": "stream",
          "text": [
            " 20%|██        | 2/10 [05:50<23:20, 175.06s/it]"
          ]
        },
        {
          "name": "stdout",
          "output_type": "stream",
          "text": [
            "Train Loss: 0.3902 | Valid Loss: 0.8905\n"
          ]
        },
        {
          "name": "stderr",
          "output_type": "stream",
          "text": [
            " 30%|███       | 3/10 [08:44<20:24, 174.97s/it]"
          ]
        },
        {
          "name": "stdout",
          "output_type": "stream",
          "text": [
            "Train Loss: 0.2838 | Valid Loss: 0.9387\n"
          ]
        },
        {
          "name": "stderr",
          "output_type": "stream",
          "text": [
            " 40%|████      | 4/10 [11:39<17:29, 174.95s/it]"
          ]
        },
        {
          "name": "stdout",
          "output_type": "stream",
          "text": [
            "Train Loss: 0.2238 | Valid Loss: 0.9958\n"
          ]
        },
        {
          "name": "stderr",
          "output_type": "stream",
          "text": [
            " 50%|█████     | 5/10 [14:34<14:34, 174.96s/it]"
          ]
        },
        {
          "name": "stdout",
          "output_type": "stream",
          "text": [
            "Train Loss: 0.1861 | Valid Loss: 1.0180\n"
          ]
        },
        {
          "name": "stderr",
          "output_type": "stream",
          "text": [
            " 60%|██████    | 6/10 [17:29<11:40, 175.00s/it]"
          ]
        },
        {
          "name": "stdout",
          "output_type": "stream",
          "text": [
            "Train Loss: 0.1649 | Valid Loss: 1.0564\n"
          ]
        },
        {
          "name": "stderr",
          "output_type": "stream",
          "text": [
            " 70%|███████   | 7/10 [20:25<08:45, 175.09s/it]"
          ]
        },
        {
          "name": "stdout",
          "output_type": "stream",
          "text": [
            "Train Loss: 0.1534 | Valid Loss: 1.0654\n"
          ]
        },
        {
          "name": "stderr",
          "output_type": "stream",
          "text": [
            " 80%|████████  | 8/10 [23:20<05:50, 175.11s/it]"
          ]
        },
        {
          "name": "stdout",
          "output_type": "stream",
          "text": [
            "Train Loss: 0.1471 | Valid Loss: 1.0370\n"
          ]
        },
        {
          "name": "stderr",
          "output_type": "stream",
          "text": [
            " 90%|█████████ | 9/10 [26:14<02:54, 174.95s/it]"
          ]
        },
        {
          "name": "stdout",
          "output_type": "stream",
          "text": [
            "Train Loss: 0.1373 | Valid Loss: 1.1273\n"
          ]
        },
        {
          "name": "stderr",
          "output_type": "stream",
          "text": [
            "100%|██████████| 10/10 [29:09<00:00, 174.99s/it]"
          ]
        },
        {
          "name": "stdout",
          "output_type": "stream",
          "text": [
            "Train Loss: 0.1365 | Valid Loss: 1.1332\n"
          ]
        },
        {
          "name": "stderr",
          "output_type": "stream",
          "text": [
            "\n"
          ]
        },
        {
          "name": "stdout",
          "output_type": "stream",
          "text": [
            "\n",
            "Validation Accuracy: 0.3274\n"
          ]
        },
        {
          "name": "stderr",
          "output_type": "stream",
          "text": [
            "\u001b[34m\u001b[1mwandb\u001b[0m:                                                                                \n",
            "\u001b[34m\u001b[1mwandb\u001b[0m: \n",
            "\u001b[34m\u001b[1mwandb\u001b[0m: Run history:\n",
            "\u001b[34m\u001b[1mwandb\u001b[0m:           epoch ▁▂▃▃▄▅▆▆▇█\n",
            "\u001b[34m\u001b[1mwandb\u001b[0m:      train_loss █▃▂▂▁▁▁▁▁▁\n",
            "\u001b[34m\u001b[1mwandb\u001b[0m:    val_accuracy ▁\n",
            "\u001b[34m\u001b[1mwandb\u001b[0m: validation_loss ▂▁▂▄▅▆▆▅██\n",
            "\u001b[34m\u001b[1mwandb\u001b[0m: \n",
            "\u001b[34m\u001b[1mwandb\u001b[0m: Run summary:\n",
            "\u001b[34m\u001b[1mwandb\u001b[0m:           epoch 9\n",
            "\u001b[34m\u001b[1mwandb\u001b[0m:      train_loss 0.13654\n",
            "\u001b[34m\u001b[1mwandb\u001b[0m:    val_accuracy 0.32744\n",
            "\u001b[34m\u001b[1mwandb\u001b[0m: validation_loss 1.13323\n",
            "\u001b[34m\u001b[1mwandb\u001b[0m: \n",
            "\u001b[34m\u001b[1mwandb\u001b[0m: 🚀 View run \u001b[33membedding_size_16_num_layers_3_hidden_size_2048                           _cell_type_GRU_dp_0_lr_0.0005_batch_32\u001b[0m at: \u001b[34m\u001b[4mhttps://wandb.ai/da24m021-indian-institute-of-technology-madras/da24m021_da6401_assignment3/runs/lo2mvib1\u001b[0m\n",
            "\u001b[34m\u001b[1mwandb\u001b[0m: ⭐️ View project at: \u001b[34m\u001b[4mhttps://wandb.ai/da24m021-indian-institute-of-technology-madras/da24m021_da6401_assignment3\u001b[0m\n",
            "\u001b[34m\u001b[1mwandb\u001b[0m: Synced 5 W&B file(s), 0 media file(s), 0 artifact file(s) and 0 other file(s)\n",
            "\u001b[34m\u001b[1mwandb\u001b[0m: Find logs at: \u001b[35m\u001b[1m./wandb/run-20250514_151842-lo2mvib1/logs\u001b[0m\n",
            "\u001b[34m\u001b[1mwandb\u001b[0m: Agent Starting Run: lw7pyed7 with config:\n",
            "\u001b[34m\u001b[1mwandb\u001b[0m: \tbatch_size: 32\n",
            "\u001b[34m\u001b[1mwandb\u001b[0m: \tcell_type: GRU\n",
            "\u001b[34m\u001b[1mwandb\u001b[0m: \tdropout: 0.2\n",
            "\u001b[34m\u001b[1mwandb\u001b[0m: \tembedding_size: 16\n",
            "\u001b[34m\u001b[1mwandb\u001b[0m: \thidden_size: 1024\n",
            "\u001b[34m\u001b[1mwandb\u001b[0m: \tlearning_rate: 0.0005\n",
            "\u001b[34m\u001b[1mwandb\u001b[0m: \tnum_layers: 3\n",
            "\u001b[34m\u001b[1mwandb\u001b[0m: Tracking run with wandb version 0.19.9\n",
            "\u001b[34m\u001b[1mwandb\u001b[0m: Run data is saved locally in \u001b[35m\u001b[1m/kaggle/working/wandb/run-20250514_154851-lw7pyed7\u001b[0m\n",
            "\u001b[34m\u001b[1mwandb\u001b[0m: Run \u001b[1m`wandb offline`\u001b[0m to turn off syncing.\n",
            "\u001b[34m\u001b[1mwandb\u001b[0m: Syncing run \u001b[33mtrue-sweep-25\u001b[0m\n",
            "\u001b[34m\u001b[1mwandb\u001b[0m: ⭐️ View project at \u001b[34m\u001b[4mhttps://wandb.ai/da24m021-indian-institute-of-technology-madras/da24m021_da6401_assignment3\u001b[0m\n",
            "\u001b[34m\u001b[1mwandb\u001b[0m: 🧹 View sweep at \u001b[34m\u001b[4mhttps://wandb.ai/da24m021-indian-institute-of-technology-madras/da24m021_da6401_assignment3/sweeps/6g2ha9nv\u001b[0m\n",
            "\u001b[34m\u001b[1mwandb\u001b[0m: 🚀 View run at \u001b[34m\u001b[4mhttps://wandb.ai/da24m021-indian-institute-of-technology-madras/da24m021_da6401_assignment3/runs/lw7pyed7\u001b[0m\n",
            " 10%|█         | 1/10 [01:02<09:24, 62.71s/it]"
          ]
        },
        {
          "name": "stdout",
          "output_type": "stream",
          "text": [
            "Train Loss: 1.0796 | Valid Loss: 0.9511\n"
          ]
        },
        {
          "name": "stderr",
          "output_type": "stream",
          "text": [
            " 20%|██        | 2/10 [02:05<08:19, 62.49s/it]"
          ]
        },
        {
          "name": "stdout",
          "output_type": "stream",
          "text": [
            "Train Loss: 0.5008 | Valid Loss: 0.8642\n"
          ]
        },
        {
          "name": "stderr",
          "output_type": "stream",
          "text": [
            " 30%|███       | 3/10 [03:07<07:17, 62.49s/it]"
          ]
        },
        {
          "name": "stdout",
          "output_type": "stream",
          "text": [
            "Train Loss: 0.3685 | Valid Loss: 0.8592\n"
          ]
        },
        {
          "name": "stderr",
          "output_type": "stream",
          "text": [
            " 40%|████      | 4/10 [04:10<06:14, 62.49s/it]"
          ]
        },
        {
          "name": "stdout",
          "output_type": "stream",
          "text": [
            "Train Loss: 0.3018 | Valid Loss: 0.8778\n"
          ]
        },
        {
          "name": "stderr",
          "output_type": "stream",
          "text": [
            " 50%|█████     | 5/10 [05:12<05:12, 62.53s/it]"
          ]
        },
        {
          "name": "stdout",
          "output_type": "stream",
          "text": [
            "Train Loss: 0.2530 | Valid Loss: 0.8769\n"
          ]
        },
        {
          "name": "stderr",
          "output_type": "stream",
          "text": [
            " 60%|██████    | 6/10 [06:15<04:10, 62.55s/it]"
          ]
        },
        {
          "name": "stdout",
          "output_type": "stream",
          "text": [
            "Train Loss: 0.2195 | Valid Loss: 0.8988\n"
          ]
        },
        {
          "name": "stderr",
          "output_type": "stream",
          "text": [
            " 70%|███████   | 7/10 [07:18<03:07, 62.64s/it]"
          ]
        },
        {
          "name": "stdout",
          "output_type": "stream",
          "text": [
            "Train Loss: 0.1963 | Valid Loss: 0.9584\n"
          ]
        },
        {
          "name": "stderr",
          "output_type": "stream",
          "text": [
            " 80%|████████  | 8/10 [08:20<02:05, 62.56s/it]"
          ]
        },
        {
          "name": "stdout",
          "output_type": "stream",
          "text": [
            "Train Loss: 0.1807 | Valid Loss: 0.9656\n"
          ]
        },
        {
          "name": "stderr",
          "output_type": "stream",
          "text": [
            " 90%|█████████ | 9/10 [09:23<01:02, 62.60s/it]"
          ]
        },
        {
          "name": "stdout",
          "output_type": "stream",
          "text": [
            "Train Loss: 0.1668 | Valid Loss: 1.0652\n"
          ]
        },
        {
          "name": "stderr",
          "output_type": "stream",
          "text": [
            "100%|██████████| 10/10 [10:25<00:00, 62.57s/it]"
          ]
        },
        {
          "name": "stdout",
          "output_type": "stream",
          "text": [
            "Train Loss: 0.1578 | Valid Loss: 1.0031\n"
          ]
        },
        {
          "name": "stderr",
          "output_type": "stream",
          "text": [
            "\n"
          ]
        },
        {
          "name": "stdout",
          "output_type": "stream",
          "text": [
            "\n",
            "Validation Accuracy: 0.3474\n"
          ]
        },
        {
          "name": "stderr",
          "output_type": "stream",
          "text": [
            "\u001b[34m\u001b[1mwandb\u001b[0m:                                                                                \n",
            "\u001b[34m\u001b[1mwandb\u001b[0m: \n",
            "\u001b[34m\u001b[1mwandb\u001b[0m: Run history:\n",
            "\u001b[34m\u001b[1mwandb\u001b[0m:           epoch ▁▂▃▃▄▅▆▆▇█\n",
            "\u001b[34m\u001b[1mwandb\u001b[0m:      train_loss █▄▃▂▂▁▁▁▁▁\n",
            "\u001b[34m\u001b[1mwandb\u001b[0m:    val_accuracy ▁\n",
            "\u001b[34m\u001b[1mwandb\u001b[0m: validation_loss ▄▁▁▂▂▂▄▅█▆\n",
            "\u001b[34m\u001b[1mwandb\u001b[0m: \n",
            "\u001b[34m\u001b[1mwandb\u001b[0m: Run summary:\n",
            "\u001b[34m\u001b[1mwandb\u001b[0m:           epoch 9\n",
            "\u001b[34m\u001b[1mwandb\u001b[0m:      train_loss 0.15779\n",
            "\u001b[34m\u001b[1mwandb\u001b[0m:    val_accuracy 0.34741\n",
            "\u001b[34m\u001b[1mwandb\u001b[0m: validation_loss 1.00311\n",
            "\u001b[34m\u001b[1mwandb\u001b[0m: \n",
            "\u001b[34m\u001b[1mwandb\u001b[0m: 🚀 View run \u001b[33membedding_size_16_num_layers_3_hidden_size_1024                           _cell_type_GRU_dp_0.2_lr_0.0005_batch_32\u001b[0m at: \u001b[34m\u001b[4mhttps://wandb.ai/da24m021-indian-institute-of-technology-madras/da24m021_da6401_assignment3/runs/lw7pyed7\u001b[0m\n",
            "\u001b[34m\u001b[1mwandb\u001b[0m: ⭐️ View project at: \u001b[34m\u001b[4mhttps://wandb.ai/da24m021-indian-institute-of-technology-madras/da24m021_da6401_assignment3\u001b[0m\n",
            "\u001b[34m\u001b[1mwandb\u001b[0m: Synced 5 W&B file(s), 0 media file(s), 0 artifact file(s) and 0 other file(s)\n",
            "\u001b[34m\u001b[1mwandb\u001b[0m: Find logs at: \u001b[35m\u001b[1m./wandb/run-20250514_154851-lw7pyed7/logs\u001b[0m\n",
            "\u001b[34m\u001b[1mwandb\u001b[0m: Agent Starting Run: j7xr01rm with config:\n",
            "\u001b[34m\u001b[1mwandb\u001b[0m: \tbatch_size: 32\n",
            "\u001b[34m\u001b[1mwandb\u001b[0m: \tcell_type: GRU\n",
            "\u001b[34m\u001b[1mwandb\u001b[0m: \tdropout: 0.2\n",
            "\u001b[34m\u001b[1mwandb\u001b[0m: \tembedding_size: 16\n",
            "\u001b[34m\u001b[1mwandb\u001b[0m: \thidden_size: 2048\n",
            "\u001b[34m\u001b[1mwandb\u001b[0m: \tlearning_rate: 0.0005\n",
            "\u001b[34m\u001b[1mwandb\u001b[0m: \tnum_layers: 2\n",
            "\u001b[34m\u001b[1mwandb\u001b[0m: Tracking run with wandb version 0.19.9\n",
            "\u001b[34m\u001b[1mwandb\u001b[0m: Run data is saved locally in \u001b[35m\u001b[1m/kaggle/working/wandb/run-20250514_155949-j7xr01rm\u001b[0m\n",
            "\u001b[34m\u001b[1mwandb\u001b[0m: Run \u001b[1m`wandb offline`\u001b[0m to turn off syncing.\n",
            "\u001b[34m\u001b[1mwandb\u001b[0m: Syncing run \u001b[33mdevout-sweep-26\u001b[0m\n",
            "\u001b[34m\u001b[1mwandb\u001b[0m: ⭐️ View project at \u001b[34m\u001b[4mhttps://wandb.ai/da24m021-indian-institute-of-technology-madras/da24m021_da6401_assignment3\u001b[0m\n",
            "\u001b[34m\u001b[1mwandb\u001b[0m: 🧹 View sweep at \u001b[34m\u001b[4mhttps://wandb.ai/da24m021-indian-institute-of-technology-madras/da24m021_da6401_assignment3/sweeps/6g2ha9nv\u001b[0m\n",
            "\u001b[34m\u001b[1mwandb\u001b[0m: 🚀 View run at \u001b[34m\u001b[4mhttps://wandb.ai/da24m021-indian-institute-of-technology-madras/da24m021_da6401_assignment3/runs/j7xr01rm\u001b[0m\n",
            " 10%|█         | 1/10 [01:52<16:48, 112.01s/it]"
          ]
        },
        {
          "name": "stdout",
          "output_type": "stream",
          "text": [
            "Train Loss: 0.9588 | Valid Loss: 0.8933\n"
          ]
        },
        {
          "name": "stderr",
          "output_type": "stream",
          "text": [
            " 20%|██        | 2/10 [03:44<14:56, 112.05s/it]"
          ]
        },
        {
          "name": "stdout",
          "output_type": "stream",
          "text": [
            "Train Loss: 0.4702 | Valid Loss: 0.8240\n"
          ]
        },
        {
          "name": "stderr",
          "output_type": "stream",
          "text": [
            " 30%|███       | 3/10 [05:36<13:04, 112.01s/it]"
          ]
        },
        {
          "name": "stdout",
          "output_type": "stream",
          "text": [
            "Train Loss: 0.3572 | Valid Loss: 0.8534\n"
          ]
        },
        {
          "name": "stderr",
          "output_type": "stream",
          "text": [
            " 40%|████      | 4/10 [07:27<11:11, 111.98s/it]"
          ]
        },
        {
          "name": "stdout",
          "output_type": "stream",
          "text": [
            "Train Loss: 0.2860 | Valid Loss: 0.8482\n"
          ]
        },
        {
          "name": "stderr",
          "output_type": "stream",
          "text": [
            " 50%|█████     | 5/10 [09:20<09:19, 111.99s/it]"
          ]
        },
        {
          "name": "stdout",
          "output_type": "stream",
          "text": [
            "Train Loss: 0.2395 | Valid Loss: 0.9583\n"
          ]
        },
        {
          "name": "stderr",
          "output_type": "stream",
          "text": [
            " 60%|██████    | 6/10 [11:11<07:27, 111.99s/it]"
          ]
        },
        {
          "name": "stdout",
          "output_type": "stream",
          "text": [
            "Train Loss: 0.2079 | Valid Loss: 0.9136\n"
          ]
        },
        {
          "name": "stderr",
          "output_type": "stream",
          "text": [
            " 70%|███████   | 7/10 [13:03<05:35, 111.83s/it]"
          ]
        },
        {
          "name": "stdout",
          "output_type": "stream",
          "text": [
            "Train Loss: 0.1920 | Valid Loss: 0.9695\n"
          ]
        },
        {
          "name": "stderr",
          "output_type": "stream",
          "text": [
            " 80%|████████  | 8/10 [14:55<03:43, 111.79s/it]"
          ]
        },
        {
          "name": "stdout",
          "output_type": "stream",
          "text": [
            "Train Loss: 0.1706 | Valid Loss: 1.0352\n"
          ]
        },
        {
          "name": "stderr",
          "output_type": "stream",
          "text": [
            " 90%|█████████ | 9/10 [16:46<01:51, 111.78s/it]"
          ]
        },
        {
          "name": "stdout",
          "output_type": "stream",
          "text": [
            "Train Loss: 0.1600 | Valid Loss: 1.0674\n"
          ]
        },
        {
          "name": "stderr",
          "output_type": "stream",
          "text": [
            "100%|██████████| 10/10 [18:38<00:00, 111.86s/it]"
          ]
        },
        {
          "name": "stdout",
          "output_type": "stream",
          "text": [
            "Train Loss: 0.1528 | Valid Loss: 1.0468\n"
          ]
        },
        {
          "name": "stderr",
          "output_type": "stream",
          "text": [
            "\n"
          ]
        },
        {
          "name": "stdout",
          "output_type": "stream",
          "text": [
            "\n",
            "Validation Accuracy: 0.3323\n"
          ]
        },
        {
          "name": "stderr",
          "output_type": "stream",
          "text": [
            "\u001b[34m\u001b[1mwandb\u001b[0m:                                                                                \n",
            "\u001b[34m\u001b[1mwandb\u001b[0m: \n",
            "\u001b[34m\u001b[1mwandb\u001b[0m: Run history:\n",
            "\u001b[34m\u001b[1mwandb\u001b[0m:           epoch ▁▂▃▃▄▅▆▆▇█\n",
            "\u001b[34m\u001b[1mwandb\u001b[0m:      train_loss █▄▃▂▂▁▁▁▁▁\n",
            "\u001b[34m\u001b[1mwandb\u001b[0m:    val_accuracy ▁\n",
            "\u001b[34m\u001b[1mwandb\u001b[0m: validation_loss ▃▁▂▂▅▄▅▇█▇\n",
            "\u001b[34m\u001b[1mwandb\u001b[0m: \n",
            "\u001b[34m\u001b[1mwandb\u001b[0m: Run summary:\n",
            "\u001b[34m\u001b[1mwandb\u001b[0m:           epoch 9\n",
            "\u001b[34m\u001b[1mwandb\u001b[0m:      train_loss 0.15276\n",
            "\u001b[34m\u001b[1mwandb\u001b[0m:    val_accuracy 0.33226\n",
            "\u001b[34m\u001b[1mwandb\u001b[0m: validation_loss 1.04676\n",
            "\u001b[34m\u001b[1mwandb\u001b[0m: \n",
            "\u001b[34m\u001b[1mwandb\u001b[0m: 🚀 View run \u001b[33membedding_size_16_num_layers_2_hidden_size_2048                           _cell_type_GRU_dp_0.2_lr_0.0005_batch_32\u001b[0m at: \u001b[34m\u001b[4mhttps://wandb.ai/da24m021-indian-institute-of-technology-madras/da24m021_da6401_assignment3/runs/j7xr01rm\u001b[0m\n",
            "\u001b[34m\u001b[1mwandb\u001b[0m: ⭐️ View project at: \u001b[34m\u001b[4mhttps://wandb.ai/da24m021-indian-institute-of-technology-madras/da24m021_da6401_assignment3\u001b[0m\n",
            "\u001b[34m\u001b[1mwandb\u001b[0m: Synced 5 W&B file(s), 0 media file(s), 0 artifact file(s) and 0 other file(s)\n",
            "\u001b[34m\u001b[1mwandb\u001b[0m: Find logs at: \u001b[35m\u001b[1m./wandb/run-20250514_155949-j7xr01rm/logs\u001b[0m\n",
            "\u001b[34m\u001b[1mwandb\u001b[0m: Agent Starting Run: jc7obdjd with config:\n",
            "\u001b[34m\u001b[1mwandb\u001b[0m: \tbatch_size: 16\n",
            "\u001b[34m\u001b[1mwandb\u001b[0m: \tcell_type: GRU\n",
            "\u001b[34m\u001b[1mwandb\u001b[0m: \tdropout: 0\n",
            "\u001b[34m\u001b[1mwandb\u001b[0m: \tembedding_size: 16\n",
            "\u001b[34m\u001b[1mwandb\u001b[0m: \thidden_size: 512\n",
            "\u001b[34m\u001b[1mwandb\u001b[0m: \tlearning_rate: 0.0005\n",
            "\u001b[34m\u001b[1mwandb\u001b[0m: \tnum_layers: 4\n",
            "\u001b[34m\u001b[1mwandb\u001b[0m: Tracking run with wandb version 0.19.9\n",
            "\u001b[34m\u001b[1mwandb\u001b[0m: Run data is saved locally in \u001b[35m\u001b[1m/kaggle/working/wandb/run-20250514_161909-jc7obdjd\u001b[0m\n",
            "\u001b[34m\u001b[1mwandb\u001b[0m: Run \u001b[1m`wandb offline`\u001b[0m to turn off syncing.\n",
            "\u001b[34m\u001b[1mwandb\u001b[0m: Syncing run \u001b[33msnowy-sweep-27\u001b[0m\n",
            "\u001b[34m\u001b[1mwandb\u001b[0m: ⭐️ View project at \u001b[34m\u001b[4mhttps://wandb.ai/da24m021-indian-institute-of-technology-madras/da24m021_da6401_assignment3\u001b[0m\n",
            "\u001b[34m\u001b[1mwandb\u001b[0m: 🧹 View sweep at \u001b[34m\u001b[4mhttps://wandb.ai/da24m021-indian-institute-of-technology-madras/da24m021_da6401_assignment3/sweeps/6g2ha9nv\u001b[0m\n",
            "\u001b[34m\u001b[1mwandb\u001b[0m: 🚀 View run at \u001b[34m\u001b[4mhttps://wandb.ai/da24m021-indian-institute-of-technology-madras/da24m021_da6401_assignment3/runs/jc7obdjd\u001b[0m\n",
            " 10%|█         | 1/10 [01:36<14:24, 96.06s/it]"
          ]
        },
        {
          "name": "stdout",
          "output_type": "stream",
          "text": [
            "Train Loss: 0.9936 | Valid Loss: 1.0126\n"
          ]
        },
        {
          "name": "stderr",
          "output_type": "stream",
          "text": [
            " 20%|██        | 2/10 [03:10<12:41, 95.19s/it]"
          ]
        },
        {
          "name": "stdout",
          "output_type": "stream",
          "text": [
            "Train Loss: 0.4525 | Valid Loss: 0.9091\n"
          ]
        },
        {
          "name": "stderr",
          "output_type": "stream",
          "text": [
            " 30%|███       | 3/10 [04:44<11:02, 94.64s/it]"
          ]
        },
        {
          "name": "stdout",
          "output_type": "stream",
          "text": [
            "Train Loss: 0.3363 | Valid Loss: 0.9355\n"
          ]
        },
        {
          "name": "stderr",
          "output_type": "stream",
          "text": [
            " 40%|████      | 4/10 [06:19<09:28, 94.68s/it]"
          ]
        },
        {
          "name": "stdout",
          "output_type": "stream",
          "text": [
            "Train Loss: 0.2692 | Valid Loss: 0.9580\n"
          ]
        },
        {
          "name": "stderr",
          "output_type": "stream",
          "text": [
            " 50%|█████     | 5/10 [07:54<07:53, 94.75s/it]"
          ]
        },
        {
          "name": "stdout",
          "output_type": "stream",
          "text": [
            "Train Loss: 0.2248 | Valid Loss: 0.9654\n"
          ]
        },
        {
          "name": "stderr",
          "output_type": "stream",
          "text": [
            " 60%|██████    | 6/10 [09:29<06:19, 94.98s/it]"
          ]
        },
        {
          "name": "stdout",
          "output_type": "stream",
          "text": [
            "Train Loss: 0.1910 | Valid Loss: 1.0058\n"
          ]
        },
        {
          "name": "stderr",
          "output_type": "stream",
          "text": [
            " 70%|███████   | 7/10 [11:04<04:44, 94.99s/it]"
          ]
        },
        {
          "name": "stdout",
          "output_type": "stream",
          "text": [
            "Train Loss: 0.1711 | Valid Loss: 1.0553\n"
          ]
        },
        {
          "name": "stderr",
          "output_type": "stream",
          "text": [
            " 80%|████████  | 8/10 [12:38<03:09, 94.70s/it]"
          ]
        },
        {
          "name": "stdout",
          "output_type": "stream",
          "text": [
            "Train Loss: 0.1567 | Valid Loss: 1.0981\n"
          ]
        },
        {
          "name": "stderr",
          "output_type": "stream",
          "text": [
            " 90%|█████████ | 9/10 [14:14<01:34, 94.94s/it]"
          ]
        },
        {
          "name": "stdout",
          "output_type": "stream",
          "text": [
            "Train Loss: 0.1431 | Valid Loss: 1.1475\n"
          ]
        },
        {
          "name": "stderr",
          "output_type": "stream",
          "text": [
            "100%|██████████| 10/10 [15:49<00:00, 94.99s/it]"
          ]
        },
        {
          "name": "stdout",
          "output_type": "stream",
          "text": [
            "Train Loss: 0.1347 | Valid Loss: 1.1022\n"
          ]
        },
        {
          "name": "stderr",
          "output_type": "stream",
          "text": [
            "\n"
          ]
        },
        {
          "name": "stdout",
          "output_type": "stream",
          "text": [
            "\n",
            "Validation Accuracy: 0.3513\n"
          ]
        },
        {
          "name": "stderr",
          "output_type": "stream",
          "text": [
            "\u001b[34m\u001b[1mwandb\u001b[0m:                                                                                \n",
            "\u001b[34m\u001b[1mwandb\u001b[0m: \n",
            "\u001b[34m\u001b[1mwandb\u001b[0m: Run history:\n",
            "\u001b[34m\u001b[1mwandb\u001b[0m:           epoch ▁▂▃▃▄▅▆▆▇█\n",
            "\u001b[34m\u001b[1mwandb\u001b[0m:      train_loss █▄▃▂▂▁▁▁▁▁\n",
            "\u001b[34m\u001b[1mwandb\u001b[0m:    val_accuracy ▁\n",
            "\u001b[34m\u001b[1mwandb\u001b[0m: validation_loss ▄▁▂▂▃▄▅▇█▇\n",
            "\u001b[34m\u001b[1mwandb\u001b[0m: \n",
            "\u001b[34m\u001b[1mwandb\u001b[0m: Run summary:\n",
            "\u001b[34m\u001b[1mwandb\u001b[0m:           epoch 9\n",
            "\u001b[34m\u001b[1mwandb\u001b[0m:      train_loss 0.1347\n",
            "\u001b[34m\u001b[1mwandb\u001b[0m:    val_accuracy 0.35131\n",
            "\u001b[34m\u001b[1mwandb\u001b[0m: validation_loss 1.10225\n",
            "\u001b[34m\u001b[1mwandb\u001b[0m: \n",
            "\u001b[34m\u001b[1mwandb\u001b[0m: 🚀 View run \u001b[33membedding_size_16_num_layers_4_hidden_size_512                           _cell_type_GRU_dp_0_lr_0.0005_batch_16\u001b[0m at: \u001b[34m\u001b[4mhttps://wandb.ai/da24m021-indian-institute-of-technology-madras/da24m021_da6401_assignment3/runs/jc7obdjd\u001b[0m\n",
            "\u001b[34m\u001b[1mwandb\u001b[0m: ⭐️ View project at: \u001b[34m\u001b[4mhttps://wandb.ai/da24m021-indian-institute-of-technology-madras/da24m021_da6401_assignment3\u001b[0m\n",
            "\u001b[34m\u001b[1mwandb\u001b[0m: Synced 5 W&B file(s), 0 media file(s), 0 artifact file(s) and 0 other file(s)\n",
            "\u001b[34m\u001b[1mwandb\u001b[0m: Find logs at: \u001b[35m\u001b[1m./wandb/run-20250514_161909-jc7obdjd/logs\u001b[0m\n",
            "\u001b[34m\u001b[1mwandb\u001b[0m: Agent Starting Run: 7yohf4o4 with config:\n",
            "\u001b[34m\u001b[1mwandb\u001b[0m: \tbatch_size: 32\n",
            "\u001b[34m\u001b[1mwandb\u001b[0m: \tcell_type: GRU\n",
            "\u001b[34m\u001b[1mwandb\u001b[0m: \tdropout: 0\n",
            "\u001b[34m\u001b[1mwandb\u001b[0m: \tembedding_size: 16\n",
            "\u001b[34m\u001b[1mwandb\u001b[0m: \thidden_size: 1024\n",
            "\u001b[34m\u001b[1mwandb\u001b[0m: \tlearning_rate: 0.0005\n",
            "\u001b[34m\u001b[1mwandb\u001b[0m: \tnum_layers: 4\n",
            "\u001b[34m\u001b[1mwandb\u001b[0m: Tracking run with wandb version 0.19.9\n",
            "\u001b[34m\u001b[1mwandb\u001b[0m: Run data is saved locally in \u001b[35m\u001b[1m/kaggle/working/wandb/run-20250514_163529-7yohf4o4\u001b[0m\n",
            "\u001b[34m\u001b[1mwandb\u001b[0m: Run \u001b[1m`wandb offline`\u001b[0m to turn off syncing.\n",
            "\u001b[34m\u001b[1mwandb\u001b[0m: Syncing run \u001b[33measy-sweep-28\u001b[0m\n",
            "\u001b[34m\u001b[1mwandb\u001b[0m: ⭐️ View project at \u001b[34m\u001b[4mhttps://wandb.ai/da24m021-indian-institute-of-technology-madras/da24m021_da6401_assignment3\u001b[0m\n",
            "\u001b[34m\u001b[1mwandb\u001b[0m: 🧹 View sweep at \u001b[34m\u001b[4mhttps://wandb.ai/da24m021-indian-institute-of-technology-madras/da24m021_da6401_assignment3/sweeps/6g2ha9nv\u001b[0m\n",
            "\u001b[34m\u001b[1mwandb\u001b[0m: 🚀 View run at \u001b[34m\u001b[4mhttps://wandb.ai/da24m021-indian-institute-of-technology-madras/da24m021_da6401_assignment3/runs/7yohf4o4\u001b[0m\n",
            " 10%|█         | 1/10 [01:19<11:59, 79.93s/it]"
          ]
        },
        {
          "name": "stdout",
          "output_type": "stream",
          "text": [
            "Train Loss: 0.9894 | Valid Loss: 0.9473\n"
          ]
        },
        {
          "name": "stderr",
          "output_type": "stream",
          "text": [
            " 20%|██        | 2/10 [02:39<10:39, 79.98s/it]"
          ]
        },
        {
          "name": "stdout",
          "output_type": "stream",
          "text": [
            "Train Loss: 0.3952 | Valid Loss: 0.8464\n"
          ]
        },
        {
          "name": "stderr",
          "output_type": "stream",
          "text": [
            " 30%|███       | 3/10 [03:59<09:19, 79.94s/it]"
          ]
        },
        {
          "name": "stdout",
          "output_type": "stream",
          "text": [
            "Train Loss: 0.2814 | Valid Loss: 0.8698\n"
          ]
        },
        {
          "name": "stderr",
          "output_type": "stream",
          "text": [
            " 40%|████      | 4/10 [05:19<07:59, 79.92s/it]"
          ]
        },
        {
          "name": "stdout",
          "output_type": "stream",
          "text": [
            "Train Loss: 0.2136 | Valid Loss: 0.9231\n"
          ]
        },
        {
          "name": "stderr",
          "output_type": "stream",
          "text": [
            " 50%|█████     | 5/10 [06:39<06:39, 79.91s/it]"
          ]
        },
        {
          "name": "stdout",
          "output_type": "stream",
          "text": [
            "Train Loss: 0.1770 | Valid Loss: 0.9420\n"
          ]
        },
        {
          "name": "stderr",
          "output_type": "stream",
          "text": [
            " 60%|██████    | 6/10 [07:59<05:19, 79.93s/it]"
          ]
        },
        {
          "name": "stdout",
          "output_type": "stream",
          "text": [
            "Train Loss: 0.1501 | Valid Loss: 0.9668\n"
          ]
        },
        {
          "name": "stderr",
          "output_type": "stream",
          "text": [
            " 70%|███████   | 7/10 [09:19<03:59, 79.89s/it]"
          ]
        },
        {
          "name": "stdout",
          "output_type": "stream",
          "text": [
            "Train Loss: 0.1346 | Valid Loss: 1.0350\n"
          ]
        },
        {
          "name": "stderr",
          "output_type": "stream",
          "text": [
            " 80%|████████  | 8/10 [10:39<02:39, 79.88s/it]"
          ]
        },
        {
          "name": "stdout",
          "output_type": "stream",
          "text": [
            "Train Loss: 0.1258 | Valid Loss: 1.0697\n"
          ]
        },
        {
          "name": "stderr",
          "output_type": "stream",
          "text": [
            " 90%|█████████ | 9/10 [11:59<01:19, 79.96s/it]"
          ]
        },
        {
          "name": "stdout",
          "output_type": "stream",
          "text": [
            "Train Loss: 0.1189 | Valid Loss: 1.0624\n"
          ]
        },
        {
          "name": "stderr",
          "output_type": "stream",
          "text": [
            "100%|██████████| 10/10 [13:19<00:00, 79.95s/it]"
          ]
        },
        {
          "name": "stdout",
          "output_type": "stream",
          "text": [
            "Train Loss: 0.1108 | Valid Loss: 1.0425\n"
          ]
        },
        {
          "name": "stderr",
          "output_type": "stream",
          "text": [
            "\n"
          ]
        },
        {
          "name": "stdout",
          "output_type": "stream",
          "text": [
            "\n",
            "Validation Accuracy: 0.3593\n"
          ]
        },
        {
          "name": "stderr",
          "output_type": "stream",
          "text": [
            "\u001b[34m\u001b[1mwandb\u001b[0m:                                                                                \n",
            "\u001b[34m\u001b[1mwandb\u001b[0m: \n",
            "\u001b[34m\u001b[1mwandb\u001b[0m: Run history:\n",
            "\u001b[34m\u001b[1mwandb\u001b[0m:           epoch ▁▂▃▃▄▅▆▆▇█\n",
            "\u001b[34m\u001b[1mwandb\u001b[0m:      train_loss █▃▂▂▂▁▁▁▁▁\n",
            "\u001b[34m\u001b[1mwandb\u001b[0m:    val_accuracy ▁\n",
            "\u001b[34m\u001b[1mwandb\u001b[0m: validation_loss ▄▁▂▃▄▅▇██▇\n",
            "\u001b[34m\u001b[1mwandb\u001b[0m: \n",
            "\u001b[34m\u001b[1mwandb\u001b[0m: Run summary:\n",
            "\u001b[34m\u001b[1mwandb\u001b[0m:           epoch 9\n",
            "\u001b[34m\u001b[1mwandb\u001b[0m:      train_loss 0.11078\n",
            "\u001b[34m\u001b[1mwandb\u001b[0m:    val_accuracy 0.35934\n",
            "\u001b[34m\u001b[1mwandb\u001b[0m: validation_loss 1.04248\n",
            "\u001b[34m\u001b[1mwandb\u001b[0m: \n",
            "\u001b[34m\u001b[1mwandb\u001b[0m: 🚀 View run \u001b[33membedding_size_16_num_layers_4_hidden_size_1024                           _cell_type_GRU_dp_0_lr_0.0005_batch_32\u001b[0m at: \u001b[34m\u001b[4mhttps://wandb.ai/da24m021-indian-institute-of-technology-madras/da24m021_da6401_assignment3/runs/7yohf4o4\u001b[0m\n",
            "\u001b[34m\u001b[1mwandb\u001b[0m: ⭐️ View project at: \u001b[34m\u001b[4mhttps://wandb.ai/da24m021-indian-institute-of-technology-madras/da24m021_da6401_assignment3\u001b[0m\n",
            "\u001b[34m\u001b[1mwandb\u001b[0m: Synced 5 W&B file(s), 0 media file(s), 0 artifact file(s) and 0 other file(s)\n",
            "\u001b[34m\u001b[1mwandb\u001b[0m: Find logs at: \u001b[35m\u001b[1m./wandb/run-20250514_163529-7yohf4o4/logs\u001b[0m\n",
            "\u001b[34m\u001b[1mwandb\u001b[0m: Agent Starting Run: 1a3gd32n with config:\n",
            "\u001b[34m\u001b[1mwandb\u001b[0m: \tbatch_size: 32\n",
            "\u001b[34m\u001b[1mwandb\u001b[0m: \tcell_type: GRU\n",
            "\u001b[34m\u001b[1mwandb\u001b[0m: \tdropout: 0.3\n",
            "\u001b[34m\u001b[1mwandb\u001b[0m: \tembedding_size: 16\n",
            "\u001b[34m\u001b[1mwandb\u001b[0m: \thidden_size: 2048\n",
            "\u001b[34m\u001b[1mwandb\u001b[0m: \tlearning_rate: 0.0005\n",
            "\u001b[34m\u001b[1mwandb\u001b[0m: \tnum_layers: 3\n",
            "\u001b[34m\u001b[1mwandb\u001b[0m: Tracking run with wandb version 0.19.9\n",
            "\u001b[34m\u001b[1mwandb\u001b[0m: Run data is saved locally in \u001b[35m\u001b[1m/kaggle/working/wandb/run-20250514_164923-1a3gd32n\u001b[0m\n",
            "\u001b[34m\u001b[1mwandb\u001b[0m: Run \u001b[1m`wandb offline`\u001b[0m to turn off syncing.\n",
            "\u001b[34m\u001b[1mwandb\u001b[0m: Syncing run \u001b[33mbreezy-sweep-29\u001b[0m\n",
            "\u001b[34m\u001b[1mwandb\u001b[0m: ⭐️ View project at \u001b[34m\u001b[4mhttps://wandb.ai/da24m021-indian-institute-of-technology-madras/da24m021_da6401_assignment3\u001b[0m\n",
            "\u001b[34m\u001b[1mwandb\u001b[0m: 🧹 View sweep at \u001b[34m\u001b[4mhttps://wandb.ai/da24m021-indian-institute-of-technology-madras/da24m021_da6401_assignment3/sweeps/6g2ha9nv\u001b[0m\n",
            "\u001b[34m\u001b[1mwandb\u001b[0m: 🚀 View run at \u001b[34m\u001b[4mhttps://wandb.ai/da24m021-indian-institute-of-technology-madras/da24m021_da6401_assignment3/runs/1a3gd32n\u001b[0m\n",
            " 10%|█         | 1/10 [03:00<27:02, 180.33s/it]"
          ]
        },
        {
          "name": "stdout",
          "output_type": "stream",
          "text": [
            "Train Loss: 1.0332 | Valid Loss: 0.9749\n"
          ]
        },
        {
          "name": "stderr",
          "output_type": "stream",
          "text": [
            " 20%|██        | 2/10 [05:59<23:56, 179.60s/it]"
          ]
        },
        {
          "name": "stdout",
          "output_type": "stream",
          "text": [
            "Train Loss: 0.5310 | Valid Loss: 0.8900\n"
          ]
        },
        {
          "name": "stderr",
          "output_type": "stream",
          "text": [
            " 30%|███       | 3/10 [08:58<20:56, 179.47s/it]"
          ]
        },
        {
          "name": "stdout",
          "output_type": "stream",
          "text": [
            "Train Loss: 0.4186 | Valid Loss: 0.9287\n"
          ]
        },
        {
          "name": "stderr",
          "output_type": "stream",
          "text": [
            " 40%|████      | 4/10 [11:57<17:55, 179.25s/it]"
          ]
        },
        {
          "name": "stdout",
          "output_type": "stream",
          "text": [
            "Train Loss: 0.3650 | Valid Loss: 0.9091\n"
          ]
        },
        {
          "name": "stderr",
          "output_type": "stream",
          "text": [
            " 50%|█████     | 5/10 [14:56<14:56, 179.28s/it]"
          ]
        },
        {
          "name": "stdout",
          "output_type": "stream",
          "text": [
            "Train Loss: 0.3292 | Valid Loss: 0.9274\n"
          ]
        },
        {
          "name": "stderr",
          "output_type": "stream",
          "text": [
            " 60%|██████    | 6/10 [17:55<11:56, 179.19s/it]"
          ]
        },
        {
          "name": "stdout",
          "output_type": "stream",
          "text": [
            "Train Loss: 0.3026 | Valid Loss: 0.9692\n"
          ]
        },
        {
          "name": "stderr",
          "output_type": "stream",
          "text": [
            " 70%|███████   | 7/10 [20:54<08:57, 179.03s/it]"
          ]
        },
        {
          "name": "stdout",
          "output_type": "stream",
          "text": [
            "Train Loss: 0.2844 | Valid Loss: 0.9449\n"
          ]
        },
        {
          "name": "stderr",
          "output_type": "stream",
          "text": [
            " 80%|████████  | 8/10 [23:52<05:57, 178.79s/it]"
          ]
        },
        {
          "name": "stdout",
          "output_type": "stream",
          "text": [
            "Train Loss: 0.2718 | Valid Loss: 0.9963\n"
          ]
        },
        {
          "name": "stderr",
          "output_type": "stream",
          "text": [
            " 90%|█████████ | 9/10 [26:50<02:58, 178.49s/it]"
          ]
        },
        {
          "name": "stdout",
          "output_type": "stream",
          "text": [
            "Train Loss: 0.2689 | Valid Loss: 0.9971\n"
          ]
        },
        {
          "name": "stderr",
          "output_type": "stream",
          "text": [
            "100%|██████████| 10/10 [29:48<00:00, 178.90s/it]"
          ]
        },
        {
          "name": "stdout",
          "output_type": "stream",
          "text": [
            "Train Loss: 0.2588 | Valid Loss: 0.9861\n"
          ]
        },
        {
          "name": "stderr",
          "output_type": "stream",
          "text": [
            "\n"
          ]
        },
        {
          "name": "stdout",
          "output_type": "stream",
          "text": [
            "\n",
            "Validation Accuracy: 0.3440\n"
          ]
        },
        {
          "name": "stderr",
          "output_type": "stream",
          "text": [
            "\u001b[34m\u001b[1mwandb\u001b[0m: updating run config\n",
            "\u001b[34m\u001b[1mwandb\u001b[0m:                                                                                \n",
            "\u001b[34m\u001b[1mwandb\u001b[0m: \n",
            "\u001b[34m\u001b[1mwandb\u001b[0m: Run history:\n",
            "\u001b[34m\u001b[1mwandb\u001b[0m:           epoch ▁▂▃▃▄▅▆▆▇█\n",
            "\u001b[34m\u001b[1mwandb\u001b[0m:      train_loss █▃▂▂▂▁▁▁▁▁\n",
            "\u001b[34m\u001b[1mwandb\u001b[0m:    val_accuracy ▁\n",
            "\u001b[34m\u001b[1mwandb\u001b[0m: validation_loss ▇▁▄▂▃▆▅██▇\n",
            "\u001b[34m\u001b[1mwandb\u001b[0m: \n",
            "\u001b[34m\u001b[1mwandb\u001b[0m: Run summary:\n",
            "\u001b[34m\u001b[1mwandb\u001b[0m:           epoch 9\n",
            "\u001b[34m\u001b[1mwandb\u001b[0m:      train_loss 0.25877\n",
            "\u001b[34m\u001b[1mwandb\u001b[0m:    val_accuracy 0.34397\n",
            "\u001b[34m\u001b[1mwandb\u001b[0m: validation_loss 0.98613\n",
            "\u001b[34m\u001b[1mwandb\u001b[0m: \n",
            "\u001b[34m\u001b[1mwandb\u001b[0m: 🚀 View run \u001b[33membedding_size_16_num_layers_3_hidden_size_2048                           _cell_type_GRU_dp_0.3_lr_0.0005_batch_32\u001b[0m at: \u001b[34m\u001b[4mhttps://wandb.ai/da24m021-indian-institute-of-technology-madras/da24m021_da6401_assignment3/runs/1a3gd32n\u001b[0m\n",
            "\u001b[34m\u001b[1mwandb\u001b[0m: ⭐️ View project at: \u001b[34m\u001b[4mhttps://wandb.ai/da24m021-indian-institute-of-technology-madras/da24m021_da6401_assignment3\u001b[0m\n",
            "\u001b[34m\u001b[1mwandb\u001b[0m: Synced 5 W&B file(s), 0 media file(s), 0 artifact file(s) and 0 other file(s)\n",
            "\u001b[34m\u001b[1mwandb\u001b[0m: Find logs at: \u001b[35m\u001b[1m./wandb/run-20250514_164923-1a3gd32n/logs\u001b[0m\n",
            "\u001b[34m\u001b[1mwandb\u001b[0m: Sweep Agent: Waiting for job.\n",
            "\u001b[34m\u001b[1mwandb\u001b[0m: Job received.\n",
            "\u001b[34m\u001b[1mwandb\u001b[0m: Agent Starting Run: zammv2zj with config:\n",
            "\u001b[34m\u001b[1mwandb\u001b[0m: \tbatch_size: 32\n",
            "\u001b[34m\u001b[1mwandb\u001b[0m: \tcell_type: LSTM\n",
            "\u001b[34m\u001b[1mwandb\u001b[0m: \tdropout: 0.2\n",
            "\u001b[34m\u001b[1mwandb\u001b[0m: \tembedding_size: 16\n",
            "\u001b[34m\u001b[1mwandb\u001b[0m: \thidden_size: 2048\n",
            "\u001b[34m\u001b[1mwandb\u001b[0m: \tlearning_rate: 0.0005\n",
            "\u001b[34m\u001b[1mwandb\u001b[0m: \tnum_layers: 3\n",
            "\u001b[34m\u001b[1mwandb\u001b[0m: Tracking run with wandb version 0.19.9\n",
            "\u001b[34m\u001b[1mwandb\u001b[0m: Run data is saved locally in \u001b[35m\u001b[1m/kaggle/working/wandb/run-20250514_172137-zammv2zj\u001b[0m\n",
            "\u001b[34m\u001b[1mwandb\u001b[0m: Run \u001b[1m`wandb offline`\u001b[0m to turn off syncing.\n",
            "\u001b[34m\u001b[1mwandb\u001b[0m: Syncing run \u001b[33mclear-sweep-30\u001b[0m\n",
            "\u001b[34m\u001b[1mwandb\u001b[0m: ⭐️ View project at \u001b[34m\u001b[4mhttps://wandb.ai/da24m021-indian-institute-of-technology-madras/da24m021_da6401_assignment3\u001b[0m\n",
            "\u001b[34m\u001b[1mwandb\u001b[0m: 🧹 View sweep at \u001b[34m\u001b[4mhttps://wandb.ai/da24m021-indian-institute-of-technology-madras/da24m021_da6401_assignment3/sweeps/6g2ha9nv\u001b[0m\n",
            "\u001b[34m\u001b[1mwandb\u001b[0m: 🚀 View run at \u001b[34m\u001b[4mhttps://wandb.ai/da24m021-indian-institute-of-technology-madras/da24m021_da6401_assignment3/runs/zammv2zj\u001b[0m\n",
            " 10%|█         | 1/10 [03:44<33:37, 224.17s/it]"
          ]
        },
        {
          "name": "stdout",
          "output_type": "stream",
          "text": [
            "Train Loss: 1.7425 | Valid Loss: 1.8055\n"
          ]
        },
        {
          "name": "stderr",
          "output_type": "stream",
          "text": [
            " 20%|██        | 2/10 [07:29<29:57, 224.72s/it]"
          ]
        },
        {
          "name": "stdout",
          "output_type": "stream",
          "text": [
            "Train Loss: 0.8445 | Valid Loss: 0.9074\n"
          ]
        },
        {
          "name": "stderr",
          "output_type": "stream",
          "text": [
            " 30%|███       | 3/10 [11:14<26:14, 224.98s/it]"
          ]
        },
        {
          "name": "stdout",
          "output_type": "stream",
          "text": [
            "Train Loss: 0.4023 | Valid Loss: 0.8164\n"
          ]
        },
        {
          "name": "stderr",
          "output_type": "stream",
          "text": [
            " 40%|████      | 4/10 [14:59<22:29, 224.97s/it]"
          ]
        },
        {
          "name": "stdout",
          "output_type": "stream",
          "text": [
            "Train Loss: 0.2694 | Valid Loss: 0.8365\n"
          ]
        },
        {
          "name": "stderr",
          "output_type": "stream",
          "text": [
            " 50%|█████     | 5/10 [18:44<18:45, 225.14s/it]"
          ]
        },
        {
          "name": "stdout",
          "output_type": "stream",
          "text": [
            "Train Loss: 0.1925 | Valid Loss: 0.8415\n"
          ]
        },
        {
          "name": "stderr",
          "output_type": "stream",
          "text": [
            " 60%|██████    | 6/10 [22:30<15:01, 225.28s/it]"
          ]
        },
        {
          "name": "stdout",
          "output_type": "stream",
          "text": [
            "Train Loss: 0.1430 | Valid Loss: 0.9313\n"
          ]
        },
        {
          "name": "stderr",
          "output_type": "stream",
          "text": [
            " 70%|███████   | 7/10 [26:15<11:15, 225.31s/it]"
          ]
        },
        {
          "name": "stdout",
          "output_type": "stream",
          "text": [
            "Train Loss: 0.1206 | Valid Loss: 0.9522\n"
          ]
        },
        {
          "name": "stderr",
          "output_type": "stream",
          "text": [
            " 80%|████████  | 8/10 [30:01<07:30, 225.38s/it]"
          ]
        },
        {
          "name": "stdout",
          "output_type": "stream",
          "text": [
            "Train Loss: 0.1007 | Valid Loss: 1.0106\n"
          ]
        },
        {
          "name": "stderr",
          "output_type": "stream",
          "text": [
            " 90%|█████████ | 9/10 [33:46<03:45, 225.32s/it]"
          ]
        },
        {
          "name": "stdout",
          "output_type": "stream",
          "text": [
            "Train Loss: 0.0923 | Valid Loss: 0.9982\n"
          ]
        },
        {
          "name": "stderr",
          "output_type": "stream",
          "text": [
            "100%|██████████| 10/10 [37:31<00:00, 225.17s/it]"
          ]
        },
        {
          "name": "stdout",
          "output_type": "stream",
          "text": [
            "Train Loss: 0.0832 | Valid Loss: 1.0626\n"
          ]
        },
        {
          "name": "stderr",
          "output_type": "stream",
          "text": [
            "\n"
          ]
        },
        {
          "name": "stdout",
          "output_type": "stream",
          "text": [
            "\n",
            "Validation Accuracy: 0.3903\n"
          ]
        },
        {
          "name": "stderr",
          "output_type": "stream",
          "text": [
            "\u001b[34m\u001b[1mwandb\u001b[0m:                                                                                \n",
            "\u001b[34m\u001b[1mwandb\u001b[0m: \n",
            "\u001b[34m\u001b[1mwandb\u001b[0m: Run history:\n",
            "\u001b[34m\u001b[1mwandb\u001b[0m:           epoch ▁▂▃▃▄▅▆▆▇█\n",
            "\u001b[34m\u001b[1mwandb\u001b[0m:      train_loss █▄▂▂▁▁▁▁▁▁\n",
            "\u001b[34m\u001b[1mwandb\u001b[0m:    val_accuracy ▁\n",
            "\u001b[34m\u001b[1mwandb\u001b[0m: validation_loss █▂▁▁▁▂▂▂▂▃\n",
            "\u001b[34m\u001b[1mwandb\u001b[0m: \n",
            "\u001b[34m\u001b[1mwandb\u001b[0m: Run summary:\n",
            "\u001b[34m\u001b[1mwandb\u001b[0m:           epoch 9\n",
            "\u001b[34m\u001b[1mwandb\u001b[0m:      train_loss 0.08316\n",
            "\u001b[34m\u001b[1mwandb\u001b[0m:    val_accuracy 0.39032\n",
            "\u001b[34m\u001b[1mwandb\u001b[0m: validation_loss 1.06259\n",
            "\u001b[34m\u001b[1mwandb\u001b[0m: \n",
            "\u001b[34m\u001b[1mwandb\u001b[0m: 🚀 View run \u001b[33membedding_size_16_num_layers_3_hidden_size_2048                           _cell_type_LSTM_dp_0.2_lr_0.0005_batch_32\u001b[0m at: \u001b[34m\u001b[4mhttps://wandb.ai/da24m021-indian-institute-of-technology-madras/da24m021_da6401_assignment3/runs/zammv2zj\u001b[0m\n",
            "\u001b[34m\u001b[1mwandb\u001b[0m: ⭐️ View project at: \u001b[34m\u001b[4mhttps://wandb.ai/da24m021-indian-institute-of-technology-madras/da24m021_da6401_assignment3\u001b[0m\n",
            "\u001b[34m\u001b[1mwandb\u001b[0m: Synced 5 W&B file(s), 0 media file(s), 0 artifact file(s) and 0 other file(s)\n",
            "\u001b[34m\u001b[1mwandb\u001b[0m: Find logs at: \u001b[35m\u001b[1m./wandb/run-20250514_172137-zammv2zj/logs\u001b[0m\n"
          ]
        }
      ],
      "source": [
        "sweep_config = {\n",
        "    \"method\" : \"bayes\",\n",
        "    \"metric\" : {\"name\": \"val_accuracy\", \"goal\": \"maximize\"},\n",
        "    \"parameters\" : {\n",
        "        \"embedding_size\" : {\"values\" : [16, 32, 64, 256, 512, 1024]},\n",
        "        \"num_layers\" : {\"values\" : [1, 2, 3, 4]},\n",
        "        \"hidden_size\" : {\"values\" : [16, 32, 64, 128, 256, 512, 1024, 2048]},\n",
        "        \"cell_type\" : {\"values\" : [\"RNN\", \"LSTM\", \"GRU\"]},\n",
        "        \"dropout\" : {\"values\" : [0.0, 0.2, 0.3, 0.4]},\n",
        "        \"learning_rate\" : {\"values\" : [0.01, 0.001, 0.0005]},\n",
        "        \"batch_size\": {\"values\": [16, 32]}\n",
        "    }\n",
        "}\n",
        "\n",
        "sweep_id = wandb.sweep(sweep_config, project = \"da24m021_da6401_assignment3\")\n",
        "wandb.agent(sweep_id, function = sweep_hyperparameters, count = 30)"
      ]
    },
    {
      "cell_type": "code",
      "source": [],
      "metadata": {
        "id": "SRZpE1C8COcK"
      },
      "id": "SRZpE1C8COcK",
      "execution_count": null,
      "outputs": []
    },
    {
      "cell_type": "markdown",
      "source": [
        "## SEQ2SEQ Model with Attention"
      ],
      "metadata": {
        "id": "ZUCk-kTbCdgO"
      },
      "id": "ZUCk-kTbCdgO"
    },
    {
      "cell_type": "code",
      "source": [
        "class Encoder(nn.Module):\n",
        "    def __init__(self, input_size, embedding_size, hidden_size, num_layers=1, cell_type=\"RNN\", dropout=0.0):\n",
        "        super().__init__()\n",
        "\n",
        "        if num_layers == 1:\n",
        "            dropout = 0\n",
        "\n",
        "        self.cell_type = cell_type\n",
        "\n",
        "        # Embedding Layer\n",
        "        self.embedding = nn.Embedding(input_size, embedding_size)\n",
        "\n",
        "        # Recurrent Layer\n",
        "        if cell_type == \"LSTM\":\n",
        "            self.recurrent_layer = nn.LSTM(embedding_size, hidden_size, num_layers, dropout=dropout, batch_first=True)\n",
        "        elif cell_type == \"GRU\":\n",
        "            self.recurrent_layer = nn.GRU(embedding_size, hidden_size, num_layers, dropout=dropout, batch_first=True)\n",
        "        else: # Default (RNN)\n",
        "            self.recurrent_layer = nn.RNN(embedding_size, hidden_size, num_layers, dropout=dropout, batch_first=True)\n",
        "\n",
        "        # Dropout layer\n",
        "        self.dropout = nn.Dropout(dropout)\n",
        "\n",
        "    def forward(self, input):\n",
        "        # input: batch_size x seq_len\n",
        "\n",
        "        embeddings = self.embedding(input)\n",
        "        embeddings = self.dropout(embeddings)\n",
        "\n",
        "        if self.cell_type == 'LSTM':\n",
        "            outputs, (hidden, cell) = self.recurrent_layer(embeddings)\n",
        "            return outputs, (hidden, cell)\n",
        "        else:\n",
        "            outputs, hidden = self.recurrent_layer(embeddings)\n",
        "            return outputs, hidden"
      ],
      "metadata": {
        "id": "dN6z9kwiCi62"
      },
      "id": "dN6z9kwiCi62",
      "execution_count": null,
      "outputs": []
    },
    {
      "cell_type": "code",
      "source": [
        "class Attention(nn.Module):\n",
        "    def __init__(self, hidden_size):\n",
        "        super().__init__()\n",
        "\n",
        "        # Attention parameters for: e_jt = Vatt^T tanh(Uatt * s_t-1 + Watt * c_j)\n",
        "        self.Uatt = nn.Linear(hidden_size, hidden_size)\n",
        "        self.Watt = nn.Linear(hidden_size, hidden_size)\n",
        "        self.Vatt = nn.Linear(hidden_size, 1)\n",
        "\n",
        "    def forward(self, hidden, encoder_outputs):\n",
        "\n",
        "        batch_size = encoder_outputs.shape[0]\n",
        "        src_len = encoder_outputs.shape[1]\n",
        "\n",
        "        if isinstance(hidden, tuple):  # LSTM\n",
        "            hidden_state = hidden[0]\n",
        "            hidden_state = hidden_state[-1]\n",
        "        else:\n",
        "            hidden_state = hidden[-1]\n",
        "\n",
        "        hidden_expanded = hidden_state.unsqueeze(1)\n",
        "\n",
        "        # Uatt * s_t-1\n",
        "        uatt_term = self.Uatt(hidden_expanded)\n",
        "\n",
        "        # Watt * c_j\n",
        "        watt_term = self.Watt(encoder_outputs)\n",
        "\n",
        "\n",
        "        combined = torch.tanh(uatt_term + watt_term)\n",
        "\n",
        "        # Apply Vatt^T\n",
        "        energy = self.Vatt(combined)\n",
        "        energy = energy.squeeze(2)\n",
        "\n",
        "        attention_weights = F.softmax(energy, dim=1)\n",
        "\n",
        "        # Create context vector\n",
        "        context = torch.bmm(attention_weights.unsqueeze(1), encoder_outputs)\n",
        "        context = context.squeeze(1)\n",
        "\n",
        "        return context, attention_weights"
      ],
      "metadata": {
        "id": "3ax0xyCbDdYb"
      },
      "id": "3ax0xyCbDdYb",
      "execution_count": null,
      "outputs": []
    },
    {
      "cell_type": "code",
      "source": [
        "class AttentionDecoder(nn.Module):\n",
        "    def __init__(self, output_size, embedding_size, hidden_size, attention, num_layers=1, cell_type=\"RNN\", dropout=0.0):\n",
        "        super().__init__()\n",
        "\n",
        "        if num_layers == 1:\n",
        "            dropout = 0\n",
        "\n",
        "        self.output_size = output_size\n",
        "        self.cell_type = cell_type\n",
        "        self.attention = attention\n",
        "        self.hidden_size = hidden_size\n",
        "\n",
        "        # Embedding Layer\n",
        "        self.embedding = nn.Embedding(output_size, embedding_size)\n",
        "\n",
        "        # Dropout layer\n",
        "        self.dropout = nn.Dropout(dropout)\n",
        "\n",
        "        if cell_type == \"LSTM\":\n",
        "            self.recurrent_layer = nn.LSTM(embedding_size + hidden_size, hidden_size, num_layers,\n",
        "                                         dropout=dropout, batch_first=True)\n",
        "        elif cell_type == \"GRU\":\n",
        "            self.recurrent_layer = nn.GRU(embedding_size + hidden_size, hidden_size, num_layers,\n",
        "                                        dropout=dropout, batch_first=True)\n",
        "        else: # Default (RNN)\n",
        "            self.recurrent_layer = nn.RNN(embedding_size + hidden_size, hidden_size, num_layers,\n",
        "                                        dropout=dropout, batch_first=True)\n",
        "\n",
        "        # Output layer\n",
        "        self.fc_out = nn.Linear(hidden_size * 2, output_size)\n",
        "\n",
        "    def forward(self, input, hidden, encoder_outputs):\n",
        "\n",
        "        input = input.unsqueeze(1)\n",
        "        embeddings = self.embedding(input)\n",
        "        embeddings = self.dropout(embeddings)\n",
        "\n",
        "        # Calculate attention context vector\n",
        "        context, attention_weights = self.attention(hidden, encoder_outputs)\n",
        "\n",
        "        # Concatenate embeddings and context vector\n",
        "        context = context.unsqueeze(1)\n",
        "        rnn_input = torch.cat((embeddings, context), dim=2)\n",
        "\n",
        "        if self.cell_type == \"LSTM\":\n",
        "            outputs, (hidden, cell) = self.recurrent_layer(rnn_input, hidden)\n",
        "            hidden_state = hidden\n",
        "            hidden_tuple = (hidden, cell)\n",
        "        else:\n",
        "            outputs, hidden = self.recurrent_layer(rnn_input, hidden)\n",
        "            hidden_state = hidden\n",
        "            hidden_tuple = hidden\n",
        "\n",
        "        if isinstance(hidden_state, tuple):  # LSTM\n",
        "            last_hidden = hidden_state[0][-1]\n",
        "        else:\n",
        "            last_hidden = hidden_state[-1]\n",
        "\n",
        "        last_hidden = last_hidden.squeeze(0) if last_hidden.dim() > 2 else last_hidden\n",
        "\n",
        "        outputs = outputs.squeeze(1)\n",
        "        context = context.squeeze(1)\n",
        "\n",
        "        output_vector = torch.cat((outputs, context), dim=1)\n",
        "        prediction = self.fc_out(output_vector)\n",
        "\n",
        "        return prediction, hidden_tuple, attention_weights"
      ],
      "metadata": {
        "id": "-orSdL5SDfav"
      },
      "id": "-orSdL5SDfav",
      "execution_count": null,
      "outputs": []
    },
    {
      "cell_type": "code",
      "source": [
        "class Seq2SeqWithAttention(nn.Module):\n",
        "    def __init__(self, encoder, decoder, attention, device):\n",
        "        super().__init__()\n",
        "        self.encoder = encoder\n",
        "        self.decoder = decoder\n",
        "        self.attention = attention\n",
        "        self.device = device\n",
        "\n",
        "    def forward(self, src, tgt, teacher_forcing_ratio=0.5):\n",
        "        # src: [batch_size, src_len]\n",
        "        # tgt: [batch_size, tgt_len]\n",
        "\n",
        "        batch_size = src.shape[0]\n",
        "        tgt_len = tgt.shape[1]\n",
        "        tgt_vocab_size = self.decoder.output_size\n",
        "\n",
        "        # Tensor to store decoder outputs\n",
        "        outputs = torch.zeros(batch_size, tgt_len, tgt_vocab_size).to(self.device)\n",
        "\n",
        "        # Store attention weights for visualization\n",
        "        attentions = torch.zeros(batch_size, tgt_len, src.shape[1]).to(self.device)\n",
        "\n",
        "        # Encode the source sequence\n",
        "        if self.encoder.cell_type == 'LSTM':\n",
        "            encoder_outputs, (hidden, cell) = self.encoder(src)\n",
        "            decoder_hidden = (hidden, cell)\n",
        "        else:\n",
        "            encoder_outputs, hidden = self.encoder(src)\n",
        "            decoder_hidden = hidden\n",
        "\n",
        "        # First input to the decoder is the <sos> token\n",
        "        decoder_input = tgt[:, 0]\n",
        "\n",
        "        # Start decoding\n",
        "        for t in range(1, tgt_len):\n",
        "            # Decode\n",
        "            decoder_output, decoder_hidden, attention_weights = self.decoder(\n",
        "                decoder_input, decoder_hidden, encoder_outputs\n",
        "            )\n",
        "\n",
        "            # Store decoder output and attention\n",
        "            outputs[:, t] = decoder_output\n",
        "            attentions[:, t] = attention_weights\n",
        "\n",
        "            # Teacher forcing: use ground truth or predicted token as next input\n",
        "            teacher_force = random.random() < teacher_forcing_ratio\n",
        "            top = decoder_output.argmax(1)\n",
        "            decoder_input = tgt[:, t] if teacher_force else top\n",
        "\n",
        "        return outputs, attentions\n",
        "\n",
        "    def inference(self, src, max_len, sos_idx=1, eos_idx=2):\n",
        "        # src: [batch_size, src_len]\n",
        "        batch_size = src.shape[0]\n",
        "\n",
        "        # Tensor to store decoder outputs\n",
        "        outputs = torch.zeros(batch_size, max_len, self.decoder.output_size).to(self.device)\n",
        "\n",
        "        # Store attention weights for visualization\n",
        "        attentions = torch.zeros(batch_size, max_len, src.shape[1]).to(self.device)\n",
        "\n",
        "        # Encode the source sequence\n",
        "        if self.encoder.cell_type == 'LSTM':\n",
        "            encoder_outputs, (hidden, cell) = self.encoder(src)\n",
        "            decoder_hidden = (hidden, cell)\n",
        "        else:\n",
        "            encoder_outputs, hidden = self.encoder(src)\n",
        "            decoder_hidden = hidden\n",
        "\n",
        "        # First input to the decoder is the <sos> token\n",
        "        decoder_input = torch.tensor([sos_idx] * batch_size, device=self.device)\n",
        "\n",
        "        # Start decoding\n",
        "        for t in range(1, max_len):\n",
        "            # Decode\n",
        "            decoder_output, decoder_hidden, attention_weights = self.decoder(\n",
        "                decoder_input, decoder_hidden, encoder_outputs\n",
        "            )\n",
        "\n",
        "            # Store decoder output and attention\n",
        "            outputs[:, t] = decoder_output\n",
        "            attentions[:, t] = attention_weights\n",
        "\n",
        "            # Use predicted token as next input\n",
        "            top = decoder_output.argmax(1)\n",
        "            decoder_input = top\n",
        "\n",
        "            # Check if all sequences have reached <eos>\n",
        "            if (top == eos_idx).all():\n",
        "                break\n",
        "\n",
        "        return outputs, attentions\n"
      ],
      "metadata": {
        "id": "OINVoknQDiqw"
      },
      "id": "OINVoknQDiqw",
      "execution_count": null,
      "outputs": []
    },
    {
      "cell_type": "code",
      "source": [
        "def train_attention_model(model, train_loader, optimizer, criterion, clip=1.0, teacher_forcing_ratio=0.5):\n",
        "    model.train()\n",
        "    epoch_loss = 0\n",
        "\n",
        "    for i, (src, tgt) in enumerate(train_loader):\n",
        "        src = src.to(device)\n",
        "        tgt = tgt.to(device)\n",
        "        #print(\"tgt\", tgt)\n",
        "        optimizer.zero_grad()\n",
        "\n",
        "        output, _ = model(src, tgt, teacher_forcing_ratio)\n",
        "        #print(\"output\", output)\n",
        "\n",
        "        # Reshape output and target for loss calculation\n",
        "        # output: [batch_size, tgt_len, output_dim]\n",
        "        # tgt: [batch_size, tgt_len]\n",
        "        output_dim = output.shape[-1]\n",
        "        output = output[:, 1:].reshape(-1, output_dim)  # Remove first token (SOS)\n",
        "        tgt = tgt[:, 1:].reshape(-1)  # Remove first token (SOS)\n",
        "        #print(\"tgt2\", tgt)\n",
        "        #print(\"output2\", output)\n",
        "        #break\n",
        "        # Calculate loss\n",
        "        loss = criterion(output, tgt)\n",
        "\n",
        "        # Backpropagation\n",
        "        loss.backward()\n",
        "\n",
        "        # Gradient clipping\n",
        "        torch.nn.utils.clip_grad_norm_(model.parameters(), clip)\n",
        "\n",
        "        # Update parameters\n",
        "        optimizer.step()\n",
        "\n",
        "        epoch_loss += loss.item()\n",
        "\n",
        "    return epoch_loss / len(train_loader)\n"
      ],
      "metadata": {
        "id": "_Wcs_s2pRNjA"
      },
      "id": "_Wcs_s2pRNjA",
      "execution_count": null,
      "outputs": []
    },
    {
      "cell_type": "code",
      "source": [
        "def evaluate_attention_model(model, val_loader, criterion):\n",
        "    model.eval()\n",
        "    epoch_loss = 0\n",
        "\n",
        "    with torch.no_grad():\n",
        "        for i, (src, tgt) in enumerate(val_loader):\n",
        "            src = src.to(device)\n",
        "            tgt = tgt.to(device)\n",
        "\n",
        "            output, _ = model.inference(src, tgt.shape[1])\n",
        "\n",
        "            # Reshape output and target for loss calculation\n",
        "            output_dim = output.shape[-1]\n",
        "            output = output[:, 1:].reshape(-1, output_dim)\n",
        "            tgt = tgt[:, 1:].reshape(-1)\n",
        "\n",
        "            # Calculate loss\n",
        "            loss = criterion(output, tgt)\n",
        "            epoch_loss += loss.item()\n",
        "\n",
        "    return epoch_loss / len(val_loader)"
      ],
      "metadata": {
        "id": "f07tq4frtdz7"
      },
      "id": "f07tq4frtdz7",
      "execution_count": null,
      "outputs": []
    },
    {
      "cell_type": "code",
      "source": [
        "INPUT_SIZE = src_vocab.vocab_size\n",
        "OUTPUT_SIZE = tgt_vocab.vocab_size\n",
        "EMBEDDING_SIZE = 256\n",
        "HIDDEN_SIZE = 512\n",
        "NUM_LAYERS = 2\n",
        "CELL_TYPE = \"LSTM\"\n",
        "DROPOUT = 0.2\n",
        "LEARNING_RATE = 0.001\n",
        "NUM_EPOCHS = 10\n",
        "\n",
        "# Initialize encoder, attention, decoder, and seq2seqwithattention model\n",
        "encoder = Encoder(\n",
        "    input_size=INPUT_SIZE,\n",
        "    embedding_size=EMBEDDING_SIZE,\n",
        "    hidden_size=HIDDEN_SIZE,\n",
        "    num_layers=NUM_LAYERS,\n",
        "    cell_type=CELL_TYPE,\n",
        "    dropout=DROPOUT\n",
        ")\n",
        "\n",
        "attention = Attention(HIDDEN_SIZE)\n",
        "\n",
        "decoder = AttentionDecoder(\n",
        "    output_size=OUTPUT_SIZE,\n",
        "    embedding_size=EMBEDDING_SIZE,\n",
        "    hidden_size=HIDDEN_SIZE,\n",
        "    attention=attention,\n",
        "    num_layers=NUM_LAYERS,\n",
        "    cell_type=CELL_TYPE,\n",
        "    dropout=DROPOUT\n",
        ")\n",
        "\n",
        "model = Seq2SeqWithAttention(encoder, decoder, attention, device).to(device)\n",
        "criterion = nn.CrossEntropyLoss(ignore_index=0)\n",
        "optimizer = optim.Adam(model.parameters(), lr=LEARNING_RATE)"
      ],
      "metadata": {
        "id": "5i8Bwd8spTPI"
      },
      "id": "5i8Bwd8spTPI",
      "execution_count": null,
      "outputs": []
    },
    {
      "cell_type": "code",
      "source": [
        "# Training loop\n",
        "print(f\"Starting training for {NUM_EPOCHS} epochs...\")\n",
        "\n",
        "for epoch in range(NUM_EPOCHS):\n",
        "    print(f\"Epoch {epoch+1}/{NUM_EPOCHS}\")\n",
        "\n",
        "    # Train model\n",
        "    train_loss = train_attention_model(model, train_loader, optimizer, criterion)\n",
        "\n",
        "    # Evaluate model\n",
        "    valid_loss = evaluate_attention_model(model, dev_loader, criterion)\n",
        "\n",
        "    print(f\"Train Loss: {train_loss:.4f} | Valid Loss: {valid_loss:.4f}\")\n",
        "    print(\"=\"*20)"
      ],
      "metadata": {
        "colab": {
          "base_uri": "https://localhost:8080/"
        },
        "id": "FUIc_RZasJmR",
        "outputId": "21227e61-4ba7-4081-8dcb-68f416adab61"
      },
      "id": "FUIc_RZasJmR",
      "execution_count": null,
      "outputs": [
        {
          "output_type": "stream",
          "name": "stdout",
          "text": [
            "Starting training for 10 epochs...\n",
            "Epoch 1/10\n",
            "Train Loss: 1.0580 | Valid Loss: 1.0425\n",
            "====================\n",
            "Epoch 2/10\n",
            "Train Loss: 0.6055 | Valid Loss: 0.9956\n",
            "====================\n",
            "Epoch 3/10\n",
            "Train Loss: 0.5043 | Valid Loss: 0.9120\n",
            "====================\n",
            "Epoch 4/10\n",
            "Train Loss: 0.4358 | Valid Loss: 0.9391\n",
            "====================\n",
            "Epoch 5/10\n",
            "Train Loss: 0.3784 | Valid Loss: 0.9697\n",
            "====================\n",
            "Epoch 6/10\n",
            "Train Loss: 0.3329 | Valid Loss: 0.9883\n",
            "====================\n",
            "Epoch 7/10\n",
            "Train Loss: 0.2992 | Valid Loss: 1.0091\n",
            "====================\n",
            "Epoch 8/10\n",
            "Train Loss: 0.2702 | Valid Loss: 1.0271\n",
            "====================\n",
            "Epoch 9/10\n",
            "Train Loss: 0.2415 | Valid Loss: 1.0658\n",
            "====================\n",
            "Epoch 10/10\n",
            "Train Loss: 0.2234 | Valid Loss: 1.0886\n",
            "====================\n"
          ]
        }
      ]
    },
    {
      "cell_type": "code",
      "source": [
        "def transliterate_attention_model(model, src_text, src_vocab, tgt_vocab, device, max_length=100):\n",
        "    model.eval()\n",
        "\n",
        "    # Convert source text to tensor\n",
        "    src_indices = src_vocab.encode(src_text)\n",
        "    src_tensor = torch.tensor(src_indices, dtype=torch.long).unsqueeze(0).to(device)\n",
        "\n",
        "    # Get encoder outputs\n",
        "    with torch.no_grad():\n",
        "        if model.encoder.cell_type == 'LSTM':\n",
        "            encoder_outputs, (hidden, cell) = model.encoder(src_tensor)\n",
        "            decoder_hidden = (hidden, cell)\n",
        "        else:\n",
        "            encoder_outputs, hidden = model.encoder(src_tensor)\n",
        "            decoder_hidden = hidden\n",
        "\n",
        "    # Start with SOS token\n",
        "\n",
        "    decoder_input = torch.tensor([tgt_vocab.char2idx[tgt_vocab.sos_token]], device=device)\n",
        "\n",
        "    result_indices = [tgt_vocab.char2idx[tgt_vocab.sos_token]]\n",
        "\n",
        "    for _ in range(max_length):\n",
        "        with torch.no_grad():\n",
        "            decoder_output, decoder_hidden, attention_weights = model.decoder(decoder_input, decoder_hidden, encoder_outputs)\n",
        "\n",
        "        # Get the most likely next character\n",
        "        top_token = decoder_output.argmax(1).item()\n",
        "        result_indices.append(top_token)\n",
        "\n",
        "        # Stop if EOS token\n",
        "        if top_token == tgt_vocab.char2idx[tgt_vocab.eos_token]:\n",
        "            break\n",
        "\n",
        "        # Use predicted token as next input\n",
        "        decoder_input = torch.tensor([top_token], device=device)\n",
        "\n",
        "    # Convert indices to text\n",
        "    result_text = tgt_vocab.decode(result_indices, remove_special_tokens=True)\n",
        "\n",
        "    return result_text"
      ],
      "metadata": {
        "id": "DSBVZIpNsnRL"
      },
      "id": "DSBVZIpNsnRL",
      "execution_count": null,
      "outputs": []
    },
    {
      "cell_type": "code",
      "source": [
        "# Accuracy calculation function\n",
        "def calculate_accuracy_attention_model(model, data_loader, src_vocab, tgt_vocab, device):\n",
        "    model.eval()\n",
        "    correct = 0\n",
        "    total = 0\n",
        "\n",
        "    with torch.no_grad():\n",
        "        for src, tgt in data_loader:\n",
        "            src = src.to(device)\n",
        "            tgt = tgt.to(device)\n",
        "\n",
        "            batch_size = src.shape[0]\n",
        "\n",
        "            for i in range(batch_size):\n",
        "                # Get source text and actual target text\n",
        "                src_indices = src[i].tolist()\n",
        "                src_text = src_vocab.decode(src_indices)\n",
        "                actual_tgt_text = tgt_vocab.decode(tgt[i].tolist())\n",
        "\n",
        "                # Get predicted transliteration\n",
        "                predicted_tgt_text = transliterate_attention_model(model, src_text, src_vocab, tgt_vocab, device)\n",
        "\n",
        "                # Check if prediction matches\n",
        "                if predicted_tgt_text == actual_tgt_text:\n",
        "                    correct += 1\n",
        "                total += 1\n",
        "\n",
        "    return correct / total\n",
        "\n",
        "val_accuracy = calculate_accuracy_attention_model(model, dev_loader, src_vocab, tgt_vocab, device)\n",
        "print(f\"\\nValidation Accuracy: {val_accuracy:.4f}\")"
      ],
      "metadata": {
        "colab": {
          "base_uri": "https://localhost:8080/"
        },
        "id": "0MEXIMFfyfEZ",
        "outputId": "3131214e-c4d6-4b7a-84de-937e0660f9c7"
      },
      "id": "0MEXIMFfyfEZ",
      "execution_count": null,
      "outputs": [
        {
          "output_type": "stream",
          "name": "stdout",
          "text": [
            "\n",
            "Validation Accuracy: 0.3614\n"
          ]
        }
      ]
    },
    {
      "cell_type": "code",
      "source": [
        "def sweep_hyperparameters(config=None):\n",
        "    with wandb.init(config=config):\n",
        "        config = wandb.config\n",
        "        wandb.run.name = f\"embedding_size_{str(config.embedding_size)}_num_layers_{str(config.num_layers)}_hidden_size_{config.hidden_size} \\\n",
        "                          _cell_type_{config.cell_type}_dp_{config.dropout}_lr_{config.learning_rate}_batch_{config.batch_size}\"\n",
        "\n",
        "        # Log in my details\n",
        "        wandb.config.update({\"NAME\": \"SIDDHANT BARANWAL\", \"ROLL NO.\": \"DA24M021\"})\n",
        "\n",
        "        train_dataset = TransliterationDataset(TRAIN_FilePath, src_vocab, tgt_vocab)\n",
        "        train_loader = DataLoader(train_dataset, batch_size=config.batch_size, shuffle=True, collate_fn=collate_fn)\n",
        "\n",
        "        dev_dataset = TransliterationDataset(DEV_FilePath, src_vocab, tgt_vocab)\n",
        "        dev_loader = DataLoader(dev_dataset, batch_size=config.batch_size, shuffle=False, collate_fn=collate_fn)\n",
        "\n",
        "        INPUT_SIZE = src_vocab.vocab_size\n",
        "        OUTPUT_SIZE = tgt_vocab.vocab_size\n",
        "\n",
        "        EMBEDDING_SIZE = config.embedding_size\n",
        "        HIDDEN_SIZE = config.hidden_size\n",
        "        NUM_LAYERS = config.num_layers\n",
        "        CELL_TYPE = config.cell_type\n",
        "        DROPOUT = config.dropout\n",
        "        LEARNING_RATE = config.learning_rate\n",
        "        NUM_EPOCHS = 10\n",
        "\n",
        "        # Initialize encoder, decoder, and seq2seq model\n",
        "        encoder = Encoder(\n",
        "            input_size=INPUT_SIZE,\n",
        "            embedding_size=EMBEDDING_SIZE,\n",
        "            hidden_size=HIDDEN_SIZE,\n",
        "            num_layers=NUM_LAYERS,\n",
        "            cell_type=CELL_TYPE,\n",
        "            dropout=DROPOUT\n",
        "        )\n",
        "\n",
        "        attention = Attention(HIDDEN_SIZE)\n",
        "\n",
        "        decoder = AttentionDecoder(\n",
        "            output_size=OUTPUT_SIZE,\n",
        "            embedding_size=EMBEDDING_SIZE,\n",
        "            hidden_size=HIDDEN_SIZE,\n",
        "            attention=attention,\n",
        "            num_layers=NUM_LAYERS,\n",
        "            cell_type=CELL_TYPE,\n",
        "            dropout=DROPOUT\n",
        "        )\n",
        "\n",
        "        model = Seq2SeqWithAttention(encoder, decoder, attention, device).to(device)\n",
        "        criterion = nn.CrossEntropyLoss()\n",
        "        optimizer = optim.Adam(model.parameters(), lr=LEARNING_RATE)\n",
        "\n",
        "        for epoch in tqdm(range(NUM_EPOCHS)):\n",
        "            # Train model\n",
        "            train_loss = train_attention_model(model, train_loader, optimizer, criterion)\n",
        "            # Evaluate model\n",
        "            valid_loss = evaluate_attention_model(model, dev_loader, criterion)\n",
        "\n",
        "            print(f\"Train Loss: {train_loss:.4f} | Valid Loss: {valid_loss:.4f}\")\n",
        "            # Log the evaluation metrics\n",
        "            wandb.log({\n",
        "                \"epoch\": epoch,\n",
        "                \"train_loss\": train_loss,\n",
        "                \"validation_loss\": valid_loss,\n",
        "                })\n",
        "\n",
        "        # Calculate accuracy on validation set\n",
        "        val_accuracy = calculate_accuracy_attention_model(model, dev_loader, src_vocab, tgt_vocab, device)\n",
        "        print(f\"\\nValidation Accuracy: {val_accuracy:.4f}\")\n",
        "        wandb.log({\n",
        "            \"val_accuracy\": val_accuracy\n",
        "        })"
      ],
      "metadata": {
        "id": "f8sokN8HymDl"
      },
      "id": "f8sokN8HymDl",
      "execution_count": null,
      "outputs": []
    },
    {
      "cell_type": "code",
      "source": [
        "sweep_config = {\n",
        "    \"method\" : \"bayes\",\n",
        "    \"metric\" : {\"name\": \"val_accuracy\", \"goal\": \"maximize\"},\n",
        "    \"parameters\" : {\n",
        "        \"embedding_size\" : {\"values\" : [16, 32, 64, 256, 512, 1024]},\n",
        "        \"num_layers\" : {\"values\" : [1, 2, 3, 4]},\n",
        "        \"hidden_size\" : {\"values\" : [16, 32, 64, 128, 256, 512, 1024, 2048]},\n",
        "        \"cell_type\" : {\"values\" : [\"RNN\", \"LSTM\", \"GRU\"]},\n",
        "        \"dropout\" : {\"values\" : [0.0, 0.2, 0.3, 0.4]},\n",
        "        \"learning_rate\" : {\"values\" : [0.01, 0.001, 0.0005]},\n",
        "        \"batch_size\": {\"values\": [16, 32]}\n",
        "    }\n",
        "}\n",
        "\n",
        "sweep_id = wandb.sweep(sweep_config, project = \"da24m021_da6401_assignment3\")\n",
        "wandb.agent(sweep_id, function = sweep_hyperparameters, count = 20)"
      ],
      "metadata": {
        "id": "vQU-N_v7HYoM"
      },
      "id": "vQU-N_v7HYoM",
      "execution_count": null,
      "outputs": []
    }
  ],
  "metadata": {
    "accelerator": "GPU",
    "colab": {
      "gpuType": "L4",
      "provenance": []
    },
    "kaggle": {
      "accelerator": "none",
      "dataSources": [
        {
          "datasetId": 7413548,
          "sourceId": 11804891,
          "sourceType": "datasetVersion"
        }
      ],
      "isGpuEnabled": false,
      "isInternetEnabled": true,
      "language": "python",
      "sourceType": "notebook"
    },
    "kernelspec": {
      "display_name": "Python 3",
      "name": "python3"
    },
    "language_info": {
      "codemirror_mode": {
        "name": "ipython",
        "version": 3
      },
      "file_extension": ".py",
      "mimetype": "text/x-python",
      "name": "python",
      "nbconvert_exporter": "python",
      "pygments_lexer": "ipython3",
      "version": "3.11.11"
    },
    "papermill": {
      "default_parameters": {},
      "duration": 41852.621314,
      "end_time": "2025-05-14T18:00:15.936686",
      "environment_variables": {},
      "exception": null,
      "input_path": "__notebook__.ipynb",
      "output_path": "__notebook__.ipynb",
      "parameters": {},
      "start_time": "2025-05-14T06:22:43.315372",
      "version": "2.6.0"
    }
  },
  "nbformat": 4,
  "nbformat_minor": 5
}