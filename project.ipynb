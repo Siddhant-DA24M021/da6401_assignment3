{
 "cells": [
  {
   "cell_type": "code",
   "execution_count": 21,
   "id": "006166dc",
   "metadata": {},
   "outputs": [],
   "source": [
    "import torch\n",
    "import torch.nn as nn\n",
    "import torch.nn.functional as F\n",
    "import torch.optim as optim\n",
    "from torch.utils.data import Dataset, DataLoader\n",
    "import torchvision.models as models\n",
    "import numpy as np\n",
    "import pandas as pd"
   ]
  },
  {
   "cell_type": "code",
   "execution_count": 3,
   "id": "7af70d1a",
   "metadata": {},
   "outputs": [
    {
     "data": {
      "text/plain": [
       "device(type='cpu')"
      ]
     },
     "execution_count": 3,
     "metadata": {},
     "output_type": "execute_result"
    }
   ],
   "source": [
    "device = torch.device(\"cuda\" if torch.cuda.is_available() else \"cpu\")\n",
    "device"
   ]
  },
  {
   "cell_type": "code",
   "execution_count": null,
   "id": "17c448e8",
   "metadata": {},
   "outputs": [],
   "source": [
    "class Encoder(nn.Module):\n",
    "    def __init__(self, input_size, embedding_size, hidden_size, num_layers=1, cell_type=\"RNN\", dropout=0.0):\n",
    "        super().__init__()\n",
    "        \n",
    "        if num_layers == 1:\n",
    "            dropout = 0\n",
    "\n",
    "        # Embedding Layer\n",
    "        self.embedding = nn.Embedding(input_size, embedding_size)\n",
    "\n",
    "        # Recurrent Layer\n",
    "        if cell_type == \"LSTM\":\n",
    "            self.recurrent_layer = nn.LSTM(embedding_size, hidden_size, num_layers, dropout, batch_first=True)\n",
    "        elif cell_type == \"GRU\":\n",
    "            self.recurrent_layer = nn.GRU(embedding_size, hidden_size, num_layers, dropout, batch_first=True)\n",
    "        else: # Default (RNN)\n",
    "            self.recurrent_layer = nn.RNN(embedding_size, hidden_size, num_layers, dropout, batch_first=True)\n",
    "    \n",
    "    def forward(self, input, input_lengths):\n",
    "        # input: batch_size x seq_len\n",
    "        # input_lengths: length of each sequence\n",
    "\n",
    "        embeddings = self.embedding(input)"
   ]
  },
  {
   "cell_type": "code",
   "execution_count": null,
   "id": "7cdcb34f",
   "metadata": {},
   "outputs": [],
   "source": [
    "class Decoder(nn.Module):\n",
    "    def __init__(self, output_size, embedding_size, hidden_size, num_layers=1, cell_type=\"RNN\", dropout=0.0):\n",
    "        super().__init__()\n",
    "        pass\n",
    "\n",
    "    def forward(self):\n",
    "        pass"
   ]
  },
  {
   "cell_type": "code",
   "execution_count": null,
   "id": "fe2939a7",
   "metadata": {},
   "outputs": [],
   "source": [
    "class Seq2Seq(nn.Module):\n",
    "    def __init__():\n",
    "        pass\n",
    "\n",
    "    def forward():\n",
    "        pass"
   ]
  },
  {
   "cell_type": "markdown",
   "id": "8717b5ee",
   "metadata": {},
   "source": [
    "### Prepare Data"
   ]
  },
  {
   "cell_type": "code",
   "execution_count": null,
   "id": "442695ab",
   "metadata": {},
   "outputs": [
    {
     "name": "stdout",
     "output_type": "stream",
     "text": [
      "Train Dataset Size : 44204\n",
      "Dev Dataset Size   : 4358\n",
      "Test Dataset Size  : 4502\n"
     ]
    }
   ],
   "source": [
    "# Load train, dev and test datasets\n",
    "train_df = pd.read_csv('dakshina_dataset_v1.0/hi/lexicons/hi.translit.sampled.train.tsv', sep='\\t', header=None)\n",
    "dev_df = pd.read_csv('dakshina_dataset_v1.0/hi/lexicons/hi.translit.sampled.dev.tsv', sep='\\t', header=None)\n",
    "test_df = pd.read_csv('dakshina_dataset_v1.0/hi/lexicons/hi.translit.sampled.test.tsv', sep='\\t', header=None)\n",
    "\n",
    "\n",
    "# Rename the columns appropriately\n",
    "train_df.columns = ['native_script', 'latin', 'frequency'] \n",
    "dev_df.columns = ['native_script', 'latin', 'frequency'] \n",
    "test_df.columns = ['native_script', 'latin', 'frequency'] \n",
    "\n",
    "# Dataset Sizes\n",
    "print(f\"Train Dataset Size : {train_df.shape[0]}\\nDev Dataset Size   : {dev_df.shape[0]}\\nTest Dataset Size  : {test_df.shape[0]}\")"
   ]
  },
  {
   "cell_type": "code",
   "execution_count": 18,
   "id": "3bc01713",
   "metadata": {},
   "outputs": [
    {
     "data": {
      "text/html": [
       "<div>\n",
       "<style scoped>\n",
       "    .dataframe tbody tr th:only-of-type {\n",
       "        vertical-align: middle;\n",
       "    }\n",
       "\n",
       "    .dataframe tbody tr th {\n",
       "        vertical-align: top;\n",
       "    }\n",
       "\n",
       "    .dataframe thead th {\n",
       "        text-align: right;\n",
       "    }\n",
       "</style>\n",
       "<table border=\"1\" class=\"dataframe\">\n",
       "  <thead>\n",
       "    <tr style=\"text-align: right;\">\n",
       "      <th></th>\n",
       "      <th>native_script</th>\n",
       "      <th>romanized</th>\n",
       "      <th>frequency</th>\n",
       "    </tr>\n",
       "  </thead>\n",
       "  <tbody>\n",
       "    <tr>\n",
       "      <th>0</th>\n",
       "      <td>अं</td>\n",
       "      <td>an</td>\n",
       "      <td>3</td>\n",
       "    </tr>\n",
       "    <tr>\n",
       "      <th>1</th>\n",
       "      <td>अंकगणित</td>\n",
       "      <td>ankganit</td>\n",
       "      <td>3</td>\n",
       "    </tr>\n",
       "    <tr>\n",
       "      <th>2</th>\n",
       "      <td>अंकल</td>\n",
       "      <td>uncle</td>\n",
       "      <td>4</td>\n",
       "    </tr>\n",
       "    <tr>\n",
       "      <th>3</th>\n",
       "      <td>अंकुर</td>\n",
       "      <td>ankur</td>\n",
       "      <td>4</td>\n",
       "    </tr>\n",
       "    <tr>\n",
       "      <th>4</th>\n",
       "      <td>अंकुरण</td>\n",
       "      <td>ankuran</td>\n",
       "      <td>3</td>\n",
       "    </tr>\n",
       "  </tbody>\n",
       "</table>\n",
       "</div>"
      ],
      "text/plain": [
       "  native_script romanized  frequency\n",
       "0            अं        an          3\n",
       "1       अंकगणित  ankganit          3\n",
       "2          अंकल     uncle          4\n",
       "3         अंकुर     ankur          4\n",
       "4        अंकुरण   ankuran          3"
      ]
     },
     "execution_count": 18,
     "metadata": {},
     "output_type": "execute_result"
    }
   ],
   "source": [
    "train_df.head()"
   ]
  },
  {
   "cell_type": "code",
   "execution_count": null,
   "id": "59cdf556",
   "metadata": {},
   "outputs": [],
   "source": []
  }
 ],
 "metadata": {
  "kernelspec": {
   "display_name": "Python 3",
   "language": "python",
   "name": "python3"
  },
  "language_info": {
   "codemirror_mode": {
    "name": "ipython",
    "version": 3
   },
   "file_extension": ".py",
   "mimetype": "text/x-python",
   "name": "python",
   "nbconvert_exporter": "python",
   "pygments_lexer": "ipython3",
   "version": "3.11.6"
  }
 },
 "nbformat": 4,
 "nbformat_minor": 5
}
