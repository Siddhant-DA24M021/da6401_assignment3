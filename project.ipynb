{
 "cells": [
  {
   "cell_type": "code",
   "execution_count": 14,
   "id": "006166dc",
   "metadata": {},
   "outputs": [],
   "source": [
    "import torch\n",
    "import torch.nn as nn\n",
    "import torch.nn.functional as F\n",
    "import torch.optim as optim\n",
    "from torch.utils.data import Dataset, DataLoader\n",
    "from torch.nn.utils.rnn import pad_sequence\n",
    "import torchvision.models as models\n",
    "import numpy as np\n",
    "import pandas as pd"
   ]
  },
  {
   "cell_type": "code",
   "execution_count": 15,
   "id": "7af70d1a",
   "metadata": {},
   "outputs": [
    {
     "data": {
      "text/plain": [
       "device(type='cpu')"
      ]
     },
     "execution_count": 15,
     "metadata": {},
     "output_type": "execute_result"
    }
   ],
   "source": [
    "device = torch.device(\"cuda\" if torch.cuda.is_available() else \"cpu\")\n",
    "device"
   ]
  },
  {
   "cell_type": "code",
   "execution_count": 16,
   "id": "17c448e8",
   "metadata": {},
   "outputs": [],
   "source": [
    "class Encoder(nn.Module):\n",
    "    def __init__(self, input_size, embedding_size, hidden_size, num_layers=1, cell_type=\"RNN\", dropout=0.0):\n",
    "        super().__init__()\n",
    "        \n",
    "        if num_layers == 1:\n",
    "            dropout = 0\n",
    "\n",
    "        self.cell_type = cell_type\n",
    "        \n",
    "        # Embedding Layer\n",
    "        self.embedding = nn.Embedding(input_size, embedding_size)\n",
    "\n",
    "        # Dropout layer\n",
    "        self.dropout = nn.Dropout(dropout)\n",
    "\n",
    "        # Recurrent Layer\n",
    "        if cell_type == \"LSTM\":\n",
    "            self.recurrent_layer = nn.LSTM(embedding_size, hidden_size, num_layers, dropout, batch_first=True)\n",
    "        elif cell_type == \"GRU\":\n",
    "            self.recurrent_layer = nn.GRU(embedding_size, hidden_size, num_layers, dropout, batch_first=True)\n",
    "        else: # Default (RNN)\n",
    "            self.recurrent_layer = nn.RNN(embedding_size, hidden_size, num_layers, dropout, batch_first=True)\n",
    "    \n",
    "    def forward(self, input):\n",
    "        # input: batch_size x seq_len\n",
    "\n",
    "        embeddings = self.embedding(input)\n",
    "        embeddings = self.dropout(embeddings)\n",
    "\n",
    "        if self.cell_type == 'LSTM':\n",
    "            outputs, (hidden, cell) = self.recurrent_layer(embeddings)\n",
    "            return outputs, (hidden, cell)\n",
    "        else:\n",
    "            outputs, hidden = self.recurrent_layer(embeddings)\n",
    "            return outputs, hidden\n"
   ]
  },
  {
   "cell_type": "code",
   "execution_count": 17,
   "id": "7cdcb34f",
   "metadata": {},
   "outputs": [],
   "source": [
    "class Decoder(nn.Module):\n",
    "    def __init__(self, output_size, embedding_size, hidden_size, num_layers=1, cell_type=\"RNN\", dropout=0.0):\n",
    "        super().__init__()\n",
    "\n",
    "        if num_layers == 1:\n",
    "            dropout = 0\n",
    "        \n",
    "        self.cell_type = cell_type\n",
    "        \n",
    "        # Embedding Layer\n",
    "        self.embedding = nn.Embedding(output_size, embedding_size)\n",
    "\n",
    "        # Dropout layer\n",
    "        self.dropout = nn.Dropout(dropout)\n",
    "\n",
    "        # Recurrent Layer\n",
    "        if cell_type == \"LSTM\":\n",
    "            self.recurrent_layer = nn.LSTM(embedding_size, hidden_size, num_layers, dropout, batch_first=True)\n",
    "        elif cell_type == \"GRU\":\n",
    "            self.recurrent_layer = nn.GRU(embedding_size, hidden_size, num_layers, dropout, batch_first=True)\n",
    "        else: # Default (RNN)\n",
    "            self.recurrent_layer = nn.RNN(embedding_size, hidden_size, num_layers, dropout, batch_first=True)\n",
    "\n",
    "        # Output layer\n",
    "        self.fc_out = nn.Linear(hidden_size, output_size)\n",
    "\n",
    "    def forward(self, input, hidden):\n",
    "        \n",
    "        input = input.unsqueeze(1)\n",
    "        embeddings = self.embedding(input)\n",
    "        embeddings = self.dropout(embeddings)\n",
    "\n",
    "        if self.cell_type == \"LSTM\":\n",
    "            hidden, cell = hidden\n",
    "            outputs, (hidden, cell) = self.recurrent_layer(embeddings, (hidden, cell))\n",
    "            hidden = (hidden, cell)\n",
    "        else:\n",
    "            outputs, hidden = self.recurrent_layer(embeddings, hidden)\n",
    "            \n",
    "        outputs.squeeze(1)\n",
    "        prediction = self.fc_out(outputs)\n",
    "        return prediction, hidden\n",
    "        "
   ]
  },
  {
   "cell_type": "code",
   "execution_count": 18,
   "id": "fe2939a7",
   "metadata": {},
   "outputs": [],
   "source": [
    "class Seq2Seq(nn.Module):\n",
    "    def __init__(self, encoder, decoder, device):\n",
    "        super().__init__()\n",
    "        self.encoder = encoder\n",
    "        self.decoder = decoder\n",
    "        self.device = device\n",
    "        \n",
    "    def forward():\n",
    "        pass"
   ]
  },
  {
   "cell_type": "markdown",
   "id": "8717b5ee",
   "metadata": {},
   "source": [
    "### Prepare Data"
   ]
  },
  {
   "cell_type": "code",
   "execution_count": 54,
   "id": "da675966",
   "metadata": {},
   "outputs": [],
   "source": [
    "TRAIN_FilePath = 'dakshina_dataset_v1.0/hi/lexicons/hi.translit.sampled.train.tsv'\n",
    "DEV_FilePath = 'dakshina_dataset_v1.0/hi/lexicons/hi.translit.sampled.dev.tsv'\n",
    "TEST_FilePath = 'dakshina_dataset_v1.0/hi/lexicons/hi.translit.sampled.test.tsv'"
   ]
  },
  {
   "cell_type": "code",
   "execution_count": 55,
   "id": "442695ab",
   "metadata": {},
   "outputs": [
    {
     "name": "stdout",
     "output_type": "stream",
     "text": [
      "Train Dataset Size : 44204\n",
      "Dev Dataset Size   : 4358\n",
      "Test Dataset Size  : 4502\n"
     ]
    }
   ],
   "source": [
    "# Load train, dev and test datasets\n",
    "train_df = pd.read_csv(TRAIN_FilePath, sep='\\t', header=None)\n",
    "dev_df = pd.read_csv(DEV_FilePath, sep='\\t', header=None)\n",
    "test_df = pd.read_csv(TEST_FilePath, sep='\\t', header=None)\n",
    "\n",
    "\n",
    "# Renaming the columns\n",
    "train_df.columns = ['devanagari', 'latin', 'frequency'] \n",
    "dev_df.columns = ['devanagari', 'latin', 'frequency'] \n",
    "test_df.columns = ['devanagari', 'latin', 'frequency'] \n",
    "\n",
    "# Dataset Sizes\n",
    "print(f\"Train Dataset Size : {train_df.shape[0]}\\nDev Dataset Size   : {dev_df.shape[0]}\\nTest Dataset Size  : {test_df.shape[0]}\")"
   ]
  },
  {
   "cell_type": "code",
   "execution_count": 56,
   "id": "3bc01713",
   "metadata": {},
   "outputs": [
    {
     "data": {
      "text/html": [
       "<div>\n",
       "<style scoped>\n",
       "    .dataframe tbody tr th:only-of-type {\n",
       "        vertical-align: middle;\n",
       "    }\n",
       "\n",
       "    .dataframe tbody tr th {\n",
       "        vertical-align: top;\n",
       "    }\n",
       "\n",
       "    .dataframe thead th {\n",
       "        text-align: right;\n",
       "    }\n",
       "</style>\n",
       "<table border=\"1\" class=\"dataframe\">\n",
       "  <thead>\n",
       "    <tr style=\"text-align: right;\">\n",
       "      <th></th>\n",
       "      <th>devanagari</th>\n",
       "      <th>latin</th>\n",
       "      <th>frequency</th>\n",
       "    </tr>\n",
       "  </thead>\n",
       "  <tbody>\n",
       "    <tr>\n",
       "      <th>0</th>\n",
       "      <td>अं</td>\n",
       "      <td>an</td>\n",
       "      <td>3</td>\n",
       "    </tr>\n",
       "    <tr>\n",
       "      <th>1</th>\n",
       "      <td>अंकगणित</td>\n",
       "      <td>ankganit</td>\n",
       "      <td>3</td>\n",
       "    </tr>\n",
       "    <tr>\n",
       "      <th>2</th>\n",
       "      <td>अंकल</td>\n",
       "      <td>uncle</td>\n",
       "      <td>4</td>\n",
       "    </tr>\n",
       "    <tr>\n",
       "      <th>3</th>\n",
       "      <td>अंकुर</td>\n",
       "      <td>ankur</td>\n",
       "      <td>4</td>\n",
       "    </tr>\n",
       "    <tr>\n",
       "      <th>4</th>\n",
       "      <td>अंकुरण</td>\n",
       "      <td>ankuran</td>\n",
       "      <td>3</td>\n",
       "    </tr>\n",
       "  </tbody>\n",
       "</table>\n",
       "</div>"
      ],
      "text/plain": [
       "  devanagari     latin  frequency\n",
       "0         अं        an          3\n",
       "1    अंकगणित  ankganit          3\n",
       "2       अंकल     uncle          4\n",
       "3      अंकुर     ankur          4\n",
       "4     अंकुरण   ankuran          3"
      ]
     },
     "execution_count": 56,
     "metadata": {},
     "output_type": "execute_result"
    }
   ],
   "source": [
    "train_df.head()"
   ]
  },
  {
   "cell_type": "code",
   "execution_count": 62,
   "id": "7ce116ff",
   "metadata": {},
   "outputs": [],
   "source": [
    "class Vocabulary:\n",
    "    def __init__(self):\n",
    "        self.pad_token = \"<pad>\"\n",
    "        self.sos_token = \"<sos>\"\n",
    "        self.eos_token = \"<eos>\"\n",
    "        self.unk_token = \"<unk>\"\n",
    "        \n",
    "        # Initialize mappings\n",
    "        self.char2idx = {self.pad_token: 0, self.sos_token: 1, self.eos_token: 2, self.unk_token: 3}\n",
    "        self.idx2char = {0: self.pad_token, 1: self.sos_token, 2: self.eos_token, 3: self.unk_token}\n",
    "        self.vocab_size = 4\n",
    "    \n",
    "    def build_vocabulary(self, text_data):\n",
    "        for text in text_data:\n",
    "            text = str(text)\n",
    "            for char in text:\n",
    "                if char not in self.char2idx:\n",
    "                    self.char2idx[char] = self.vocab_size\n",
    "                    self.idx2char[self.vocab_size] = char\n",
    "                    self.vocab_size += 1\n",
    "                \n",
    "    def encode(self, text, add_special_tokens=True):\n",
    "        indices = []\n",
    "        text = str(text)\n",
    "        for char in text:\n",
    "            indices.append(self.char2idx.get(char, self.char2idx[self.unk_token]))\n",
    "        \n",
    "        if add_special_tokens:\n",
    "            indices = [self.char2idx[self.sos_token]] + indices + [self.char2idx[self.eos_token]]\n",
    "    \n",
    "        return indices\n",
    "    \n",
    "    def decode(self, indices, remove_special_tokens=True):\n",
    "        chars = []\n",
    "        for idx in indices:\n",
    "            if idx in self.idx2char:\n",
    "                char = self.idx2char[idx]\n",
    "                if remove_special_tokens and char in [self.pad_token, self.sos_token, self.eos_token, self.unk_token]:\n",
    "                    continue\n",
    "                chars.append(char)\n",
    "        \n",
    "        return \"\".join(chars)\n"
   ]
  },
  {
   "cell_type": "code",
   "execution_count": 63,
   "id": "6b71af2b",
   "metadata": {},
   "outputs": [],
   "source": [
    "class TransliterationDataset(Dataset):\n",
    "    def __init__(self, data_path, src_vocab=None, tgt_vocab=None):\n",
    "        df = pd.read_csv(data_path, sep='\\t', header=None)\n",
    "        \n",
    "        # Create Dataset\n",
    "        self.source_sequences = []\n",
    "        self.target_sequences = []\n",
    "        \n",
    "        for idx, row in df.iterrows():\n",
    "            x_seq = src_vocab.encode(row[1])\n",
    "            y_seq = tgt_vocab.encode(row[0])\n",
    "            self.source_sequences.append(x_seq)\n",
    "            self.target_sequences.append(y_seq)\n",
    "\n",
    "    def __len__(self):\n",
    "        return len(self.source_sequences)\n",
    "    \n",
    "    def __getitem__(self, idx):\n",
    "        return torch.tensor(self.source_sequences[idx], dtype=torch.long), torch.tensor(self.target_sequences[idx], dtype=torch.long)\n"
   ]
  },
  {
   "cell_type": "code",
   "execution_count": 64,
   "id": "5fae80fe",
   "metadata": {},
   "outputs": [],
   "source": [
    "def collate_fn(batch):\n",
    "    src_batch = [item[0] for item in batch]\n",
    "    tgt_batch = [item[1] for item in batch]\n",
    "    \n",
    "    # Pad sequences\n",
    "    src_batch_padded = pad_sequence(src_batch, batch_first=True, padding_value=0)\n",
    "    tgt_batch_padded = pad_sequence(tgt_batch, batch_first=True, padding_value=0)\n",
    "    \n",
    "    return src_batch_padded, tgt_batch_padded,\n"
   ]
  },
  {
   "cell_type": "code",
   "execution_count": 65,
   "id": "f5a9c7db",
   "metadata": {},
   "outputs": [],
   "source": [
    "src_vocab = Vocabulary()\n",
    "tgt_vocab = Vocabulary()\n",
    "\n",
    "train_df = pd.read_csv(TRAIN_FilePath, sep='\\t', header=None)\n",
    "src_text = []\n",
    "tgt_text = []\n",
    "for idx, row in train_df.iterrows():\n",
    "    src_text.append(row[1])\n",
    "    tgt_text.append(row[0])\n",
    "\n",
    "src_vocab.build_vocabulary(src_text)\n",
    "tgt_vocab.build_vocabulary(tgt_text)"
   ]
  },
  {
   "cell_type": "code",
   "execution_count": 67,
   "id": "9c05d023",
   "metadata": {},
   "outputs": [],
   "source": [
    "train_dataset = TransliterationDataset(TRAIN_FilePath, src_vocab, tgt_vocab)\n",
    "train_loader = DataLoader(train_dataset, batch_size=32, shuffle=True, collate_fn=collate_fn)"
   ]
  },
  {
   "cell_type": "code",
   "execution_count": null,
   "id": "644043a4",
   "metadata": {},
   "outputs": [],
   "source": []
  }
 ],
 "metadata": {
  "kernelspec": {
   "display_name": "Python 3",
   "language": "python",
   "name": "python3"
  },
  "language_info": {
   "codemirror_mode": {
    "name": "ipython",
    "version": 3
   },
   "file_extension": ".py",
   "mimetype": "text/x-python",
   "name": "python",
   "nbconvert_exporter": "python",
   "pygments_lexer": "ipython3",
   "version": "3.11.6"
  }
 },
 "nbformat": 4,
 "nbformat_minor": 5
}
